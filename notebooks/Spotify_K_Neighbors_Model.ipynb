{
 "cells": [
  {
   "cell_type": "code",
   "execution_count": 6,
   "id": "1e6a6fc9",
   "metadata": {
    "pycharm": {
     "name": "#%%\n"
    }
   },
   "outputs": [
    {
     "name": "stdout",
     "output_type": "stream",
     "text": [
      "Requirement already satisfied: pymongo[srv] in /Users/jasongersing/PycharmProjects/pythonProject/pythonProject4/JazzySpot/venv/lib/python3.10/site-packages (4.2.0)\r\n",
      "Requirement already satisfied: dnspython<3.0.0,>=1.16.0 in /Users/jasongersing/PycharmProjects/pythonProject/pythonProject4/JazzySpot/venv/lib/python3.10/site-packages (from pymongo[srv]) (2.2.1)\r\n",
      "\r\n",
      "\u001B[1m[\u001B[0m\u001B[34;49mnotice\u001B[0m\u001B[1;39;49m]\u001B[0m\u001B[39;49m A new release of pip available: \u001B[0m\u001B[31;49m22.1.2\u001B[0m\u001B[39;49m -> \u001B[0m\u001B[32;49m22.2.1\u001B[0m\r\n",
      "\u001B[1m[\u001B[0m\u001B[34;49mnotice\u001B[0m\u001B[1;39;49m]\u001B[0m\u001B[39;49m To update, run: \u001B[0m\u001B[32;49mpip install --upgrade pip\u001B[0m\r\n",
      "Requirement already satisfied: pandas in /Users/jasongersing/PycharmProjects/pythonProject/pythonProject4/JazzySpot/venv/lib/python3.10/site-packages (1.4.3)\r\n",
      "Requirement already satisfied: pytz>=2020.1 in /Users/jasongersing/PycharmProjects/pythonProject/pythonProject4/JazzySpot/venv/lib/python3.10/site-packages (from pandas) (2022.1)\r\n",
      "Requirement already satisfied: python-dateutil>=2.8.1 in /Users/jasongersing/PycharmProjects/pythonProject/pythonProject4/JazzySpot/venv/lib/python3.10/site-packages (from pandas) (2.8.2)\r\n",
      "Requirement already satisfied: numpy>=1.21.0 in /Users/jasongersing/PycharmProjects/pythonProject/pythonProject4/JazzySpot/venv/lib/python3.10/site-packages (from pandas) (1.23.1)\r\n",
      "Requirement already satisfied: six>=1.5 in /Users/jasongersing/PycharmProjects/pythonProject/pythonProject4/JazzySpot/venv/lib/python3.10/site-packages (from python-dateutil>=2.8.1->pandas) (1.16.0)\r\n",
      "\r\n",
      "\u001B[1m[\u001B[0m\u001B[34;49mnotice\u001B[0m\u001B[1;39;49m]\u001B[0m\u001B[39;49m A new release of pip available: \u001B[0m\u001B[31;49m22.1.2\u001B[0m\u001B[39;49m -> \u001B[0m\u001B[32;49m22.2.1\u001B[0m\r\n",
      "\u001B[1m[\u001B[0m\u001B[34;49mnotice\u001B[0m\u001B[1;39;49m]\u001B[0m\u001B[39;49m To update, run: \u001B[0m\u001B[32;49mpip install --upgrade pip\u001B[0m\r\n",
      "Requirement already satisfied: plotly in /Users/jasongersing/PycharmProjects/pythonProject/pythonProject4/JazzySpot/venv/lib/python3.10/site-packages (5.9.0)\r\n",
      "Requirement already satisfied: tenacity>=6.2.0 in /Users/jasongersing/PycharmProjects/pythonProject/pythonProject4/JazzySpot/venv/lib/python3.10/site-packages (from plotly) (8.0.1)\r\n",
      "\r\n",
      "\u001B[1m[\u001B[0m\u001B[34;49mnotice\u001B[0m\u001B[1;39;49m]\u001B[0m\u001B[39;49m A new release of pip available: \u001B[0m\u001B[31;49m22.1.2\u001B[0m\u001B[39;49m -> \u001B[0m\u001B[32;49m22.2.1\u001B[0m\r\n",
      "\u001B[1m[\u001B[0m\u001B[34;49mnotice\u001B[0m\u001B[1;39;49m]\u001B[0m\u001B[39;49m To update, run: \u001B[0m\u001B[32;49mpip install --upgrade pip\u001B[0m\r\n",
      "Requirement already satisfied: python-dotenv in /Users/jasongersing/PycharmProjects/pythonProject/pythonProject4/JazzySpot/venv/lib/python3.10/site-packages (0.20.0)\r\n",
      "\r\n",
      "\u001B[1m[\u001B[0m\u001B[34;49mnotice\u001B[0m\u001B[1;39;49m]\u001B[0m\u001B[39;49m A new release of pip available: \u001B[0m\u001B[31;49m22.1.2\u001B[0m\u001B[39;49m -> \u001B[0m\u001B[32;49m22.2.1\u001B[0m\r\n",
      "\u001B[1m[\u001B[0m\u001B[34;49mnotice\u001B[0m\u001B[1;39;49m]\u001B[0m\u001B[39;49m To update, run: \u001B[0m\u001B[32;49mpip install --upgrade pip\u001B[0m\r\n"
     ]
    }
   ],
   "source": [
    "!pip install \"pymongo[srv]\"\n",
    "!pip install pandas\n",
    "!pip install plotly\n",
    "!pip install python-dotenv"
   ]
  },
  {
   "cell_type": "code",
   "execution_count": 10,
   "id": "4bfdc066",
   "metadata": {
    "pycharm": {
     "name": "#%%\n"
    }
   },
   "outputs": [],
   "source": [
    "from pymongo import MongoClient\n",
    "from pandas import DataFrame\n",
    "from dotenv import load_dotenv"
   ]
  },
  {
   "cell_type": "code",
   "execution_count": 3,
   "id": "9c7b9e45",
   "metadata": {
    "pycharm": {
     "name": "#%%\n"
    }
   },
   "outputs": [
    {
     "data": {
      "text/plain": [
       "True"
      ]
     },
     "execution_count": 3,
     "metadata": {},
     "output_type": "execute_result"
    }
   ],
   "source": [
    "load_dotenv()"
   ]
  },
  {
   "cell_type": "code",
   "execution_count": 70,
   "id": "dd16c1d7",
   "metadata": {
    "pycharm": {
     "name": "#%%\n"
    }
   },
   "outputs": [],
   "source": [
    "import os\n",
    "url = os.environ['url']\n",
    "database = \"jazzy_spot\"\n",
    "collection = \"all_features\""
   ]
  },
  {
   "cell_type": "code",
   "execution_count": 71,
   "id": "673191a9",
   "metadata": {
    "pycharm": {
     "name": "#%%\n"
    }
   },
   "outputs": [],
   "source": [
    "db = MongoClient(url)[database][collection]"
   ]
  },
  {
   "cell_type": "code",
   "execution_count": 72,
   "id": "b3489a05",
   "metadata": {
    "pycharm": {
     "name": "#%%\n"
    }
   },
   "outputs": [
    {
     "data": {
      "text/plain": "36200"
     },
     "execution_count": 72,
     "metadata": {},
     "output_type": "execute_result"
    }
   ],
   "source": [
    "db.count_documents({})"
   ]
  },
  {
   "cell_type": "code",
   "execution_count": 73,
   "id": "05de97a9",
   "metadata": {
    "pycharm": {
     "name": "#%%\n"
    }
   },
   "outputs": [],
   "source": [
    "df = DataFrame(db.find())"
   ]
  },
  {
   "cell_type": "code",
   "execution_count": 74,
   "id": "cefab000",
   "metadata": {
    "pycharm": {
     "name": "#%%\n"
    }
   },
   "outputs": [
    {
     "data": {
      "text/plain": "                        _id                             track_uri  \\\n0  62e03cc31e5a4f25243abd3a  spotify:track:7fnqltLx83HsYLQajzCYRk   \n1  62e03cc31e5a4f25243abd3b  spotify:track:3w8507pR0Ncycrol0ZJOwP   \n2  62e03cc31e5a4f25243abd40  spotify:track:5yeyJAaNge8igqRd8YGgru   \n3  62e03cc31e5a4f25243abd41  spotify:track:4NAP53MeGEffncl2H1SX4V   \n4  62e03cc31e5a4f25243abd42  spotify:track:6PrKZUXJPmBiobMN44yR8Y   \n\n                                               title  danceability  energy  \\\n0                                 River Flows In You         0.320   0.207   \n1                    Ballade No. 4 in F minor Op. 52         0.270   0.105   \n2                                  Give 'Em a Chance         0.851   0.660   \n3  \"Straight up and Down\" - (From \"Boardwalk Empi...         0.601   0.552   \n4                                The Ecstasy Of Gold         0.134   0.474   \n\n   key  loudness  speechiness  acousticness  instrumentalness    tempo  \\\n0    9   -21.487       0.0512         0.988             0.948  144.547   \n1    8   -24.507       0.0439         0.993             0.895   70.014   \n2    2    -9.152       0.0462         0.093             0.750  114.955   \n3    7    -9.349       0.0308         0.147             0.927   92.009   \n4    9   -13.864       0.0518         0.826             0.580   98.854   \n\n   valence  duration  popularity  \\\n0   0.1090    185013           0   \n1   0.0377    676000           1   \n2   0.3070    147611           0   \n3   0.3290     90969           0   \n4   0.1330    203227          60   \n\n                                           track_url      artist_name  \n0  https://open.spotify.com/track/7fnqltLx83HsYLQ...           Yiruma  \n1  https://open.spotify.com/track/3w8507pR0Ncycro...  Frédéric Chopin  \n2  https://open.spotify.com/track/5yeyJAaNge8igqR...   David Robidoux  \n3  https://open.spotify.com/track/4NAP53MeGEffncl...   Dominik Hauser  \n4  https://open.spotify.com/track/6PrKZUXJPmBiobM...  Ennio Morricone  ",
      "text/html": "<div>\n<style scoped>\n    .dataframe tbody tr th:only-of-type {\n        vertical-align: middle;\n    }\n\n    .dataframe tbody tr th {\n        vertical-align: top;\n    }\n\n    .dataframe thead th {\n        text-align: right;\n    }\n</style>\n<table border=\"1\" class=\"dataframe\">\n  <thead>\n    <tr style=\"text-align: right;\">\n      <th></th>\n      <th>_id</th>\n      <th>track_uri</th>\n      <th>title</th>\n      <th>danceability</th>\n      <th>energy</th>\n      <th>key</th>\n      <th>loudness</th>\n      <th>speechiness</th>\n      <th>acousticness</th>\n      <th>instrumentalness</th>\n      <th>tempo</th>\n      <th>valence</th>\n      <th>duration</th>\n      <th>popularity</th>\n      <th>track_url</th>\n      <th>artist_name</th>\n    </tr>\n  </thead>\n  <tbody>\n    <tr>\n      <th>0</th>\n      <td>62e03cc31e5a4f25243abd3a</td>\n      <td>spotify:track:7fnqltLx83HsYLQajzCYRk</td>\n      <td>River Flows In You</td>\n      <td>0.320</td>\n      <td>0.207</td>\n      <td>9</td>\n      <td>-21.487</td>\n      <td>0.0512</td>\n      <td>0.988</td>\n      <td>0.948</td>\n      <td>144.547</td>\n      <td>0.1090</td>\n      <td>185013</td>\n      <td>0</td>\n      <td>https://open.spotify.com/track/7fnqltLx83HsYLQ...</td>\n      <td>Yiruma</td>\n    </tr>\n    <tr>\n      <th>1</th>\n      <td>62e03cc31e5a4f25243abd3b</td>\n      <td>spotify:track:3w8507pR0Ncycrol0ZJOwP</td>\n      <td>Ballade No. 4 in F minor Op. 52</td>\n      <td>0.270</td>\n      <td>0.105</td>\n      <td>8</td>\n      <td>-24.507</td>\n      <td>0.0439</td>\n      <td>0.993</td>\n      <td>0.895</td>\n      <td>70.014</td>\n      <td>0.0377</td>\n      <td>676000</td>\n      <td>1</td>\n      <td>https://open.spotify.com/track/3w8507pR0Ncycro...</td>\n      <td>Frédéric Chopin</td>\n    </tr>\n    <tr>\n      <th>2</th>\n      <td>62e03cc31e5a4f25243abd40</td>\n      <td>spotify:track:5yeyJAaNge8igqRd8YGgru</td>\n      <td>Give 'Em a Chance</td>\n      <td>0.851</td>\n      <td>0.660</td>\n      <td>2</td>\n      <td>-9.152</td>\n      <td>0.0462</td>\n      <td>0.093</td>\n      <td>0.750</td>\n      <td>114.955</td>\n      <td>0.3070</td>\n      <td>147611</td>\n      <td>0</td>\n      <td>https://open.spotify.com/track/5yeyJAaNge8igqR...</td>\n      <td>David Robidoux</td>\n    </tr>\n    <tr>\n      <th>3</th>\n      <td>62e03cc31e5a4f25243abd41</td>\n      <td>spotify:track:4NAP53MeGEffncl2H1SX4V</td>\n      <td>\"Straight up and Down\" - (From \"Boardwalk Empi...</td>\n      <td>0.601</td>\n      <td>0.552</td>\n      <td>7</td>\n      <td>-9.349</td>\n      <td>0.0308</td>\n      <td>0.147</td>\n      <td>0.927</td>\n      <td>92.009</td>\n      <td>0.3290</td>\n      <td>90969</td>\n      <td>0</td>\n      <td>https://open.spotify.com/track/4NAP53MeGEffncl...</td>\n      <td>Dominik Hauser</td>\n    </tr>\n    <tr>\n      <th>4</th>\n      <td>62e03cc31e5a4f25243abd42</td>\n      <td>spotify:track:6PrKZUXJPmBiobMN44yR8Y</td>\n      <td>The Ecstasy Of Gold</td>\n      <td>0.134</td>\n      <td>0.474</td>\n      <td>9</td>\n      <td>-13.864</td>\n      <td>0.0518</td>\n      <td>0.826</td>\n      <td>0.580</td>\n      <td>98.854</td>\n      <td>0.1330</td>\n      <td>203227</td>\n      <td>60</td>\n      <td>https://open.spotify.com/track/6PrKZUXJPmBiobM...</td>\n      <td>Ennio Morricone</td>\n    </tr>\n  </tbody>\n</table>\n</div>"
     },
     "execution_count": 74,
     "metadata": {},
     "output_type": "execute_result"
    }
   ],
   "source": [
    "df.head()"
   ]
  },
  {
   "cell_type": "code",
   "execution_count": 75,
   "id": "11777e70",
   "metadata": {
    "pycharm": {
     "name": "#%%\n"
    }
   },
   "outputs": [
    {
     "data": {
      "text/plain": "                            _id                             track_uri  \\\n36195  62ec07536c49bdc3377c116c  spotify:track:5yQmKyKEdjtxFDPIK9mFLn   \n36196  62ec07536c49bdc3377c116d  spotify:track:3x94KfC5QAsqFKjUGQBH4k   \n36197  62ec07536c49bdc3377c116e  spotify:track:6Eu1V3AwGRg3dqtO5yiDXs   \n36198  62ec07536c49bdc3377c116f  spotify:track:0rwr2XVSgfQXQD4cBdHlQo   \n36199  62ec07536c49bdc3377c1170  spotify:track:0QIYINh2AwmOmdu8CRYvlw   \n\n                              title  danceability  energy  key  loudness  \\\n36195  Rise & Fall (feat. Krewella)         0.513   0.819    5    -5.372   \n36196   You & Me (feat. W. Darling)         0.495   0.743    7    -4.021   \n36197   Green Bottle - Original Mix         0.641   0.863    5    -6.150   \n36198                All Night Long         0.791   0.824    0    -5.481   \n36199                       Bonfire         0.536   0.944    1    -3.029   \n\n       speechiness  acousticness  instrumentalness    tempo  valence  \\\n36195       0.0454      0.002240           0.15300  140.055    0.449   \n36196       0.0341      0.000748           0.39300  140.047    0.151   \n36197       0.1950      0.005800           0.32400  127.990    0.825   \n36198       0.0627      0.400000           0.03750  107.981    0.959   \n36199       0.0867      0.000117           0.00345  174.031    0.589   \n\n       duration  popularity  \\\n36195    361875          42   \n36196    244286           0   \n36197    393671           0   \n36198    264491           0   \n36199    272078          61   \n\n                                               track_url     artist_name  \n36195  https://open.spotify.com/track/5yQmKyKEdjtxFDP...  Adventure Club  \n36196  https://open.spotify.com/track/3x94KfC5QAsqFKj...      Bassnectar  \n36197  https://open.spotify.com/track/6Eu1V3AwGRg3dqt...         Feed Me  \n36198  https://open.spotify.com/track/0rwr2XVSgfQXQD4...    The Floozies  \n36199  https://open.spotify.com/track/0QIYINh2AwmOmdu...     Knife Party  ",
      "text/html": "<div>\n<style scoped>\n    .dataframe tbody tr th:only-of-type {\n        vertical-align: middle;\n    }\n\n    .dataframe tbody tr th {\n        vertical-align: top;\n    }\n\n    .dataframe thead th {\n        text-align: right;\n    }\n</style>\n<table border=\"1\" class=\"dataframe\">\n  <thead>\n    <tr style=\"text-align: right;\">\n      <th></th>\n      <th>_id</th>\n      <th>track_uri</th>\n      <th>title</th>\n      <th>danceability</th>\n      <th>energy</th>\n      <th>key</th>\n      <th>loudness</th>\n      <th>speechiness</th>\n      <th>acousticness</th>\n      <th>instrumentalness</th>\n      <th>tempo</th>\n      <th>valence</th>\n      <th>duration</th>\n      <th>popularity</th>\n      <th>track_url</th>\n      <th>artist_name</th>\n    </tr>\n  </thead>\n  <tbody>\n    <tr>\n      <th>36195</th>\n      <td>62ec07536c49bdc3377c116c</td>\n      <td>spotify:track:5yQmKyKEdjtxFDPIK9mFLn</td>\n      <td>Rise &amp; Fall (feat. Krewella)</td>\n      <td>0.513</td>\n      <td>0.819</td>\n      <td>5</td>\n      <td>-5.372</td>\n      <td>0.0454</td>\n      <td>0.002240</td>\n      <td>0.15300</td>\n      <td>140.055</td>\n      <td>0.449</td>\n      <td>361875</td>\n      <td>42</td>\n      <td>https://open.spotify.com/track/5yQmKyKEdjtxFDP...</td>\n      <td>Adventure Club</td>\n    </tr>\n    <tr>\n      <th>36196</th>\n      <td>62ec07536c49bdc3377c116d</td>\n      <td>spotify:track:3x94KfC5QAsqFKjUGQBH4k</td>\n      <td>You &amp; Me (feat. W. Darling)</td>\n      <td>0.495</td>\n      <td>0.743</td>\n      <td>7</td>\n      <td>-4.021</td>\n      <td>0.0341</td>\n      <td>0.000748</td>\n      <td>0.39300</td>\n      <td>140.047</td>\n      <td>0.151</td>\n      <td>244286</td>\n      <td>0</td>\n      <td>https://open.spotify.com/track/3x94KfC5QAsqFKj...</td>\n      <td>Bassnectar</td>\n    </tr>\n    <tr>\n      <th>36197</th>\n      <td>62ec07536c49bdc3377c116e</td>\n      <td>spotify:track:6Eu1V3AwGRg3dqtO5yiDXs</td>\n      <td>Green Bottle - Original Mix</td>\n      <td>0.641</td>\n      <td>0.863</td>\n      <td>5</td>\n      <td>-6.150</td>\n      <td>0.1950</td>\n      <td>0.005800</td>\n      <td>0.32400</td>\n      <td>127.990</td>\n      <td>0.825</td>\n      <td>393671</td>\n      <td>0</td>\n      <td>https://open.spotify.com/track/6Eu1V3AwGRg3dqt...</td>\n      <td>Feed Me</td>\n    </tr>\n    <tr>\n      <th>36198</th>\n      <td>62ec07536c49bdc3377c116f</td>\n      <td>spotify:track:0rwr2XVSgfQXQD4cBdHlQo</td>\n      <td>All Night Long</td>\n      <td>0.791</td>\n      <td>0.824</td>\n      <td>0</td>\n      <td>-5.481</td>\n      <td>0.0627</td>\n      <td>0.400000</td>\n      <td>0.03750</td>\n      <td>107.981</td>\n      <td>0.959</td>\n      <td>264491</td>\n      <td>0</td>\n      <td>https://open.spotify.com/track/0rwr2XVSgfQXQD4...</td>\n      <td>The Floozies</td>\n    </tr>\n    <tr>\n      <th>36199</th>\n      <td>62ec07536c49bdc3377c1170</td>\n      <td>spotify:track:0QIYINh2AwmOmdu8CRYvlw</td>\n      <td>Bonfire</td>\n      <td>0.536</td>\n      <td>0.944</td>\n      <td>1</td>\n      <td>-3.029</td>\n      <td>0.0867</td>\n      <td>0.000117</td>\n      <td>0.00345</td>\n      <td>174.031</td>\n      <td>0.589</td>\n      <td>272078</td>\n      <td>61</td>\n      <td>https://open.spotify.com/track/0QIYINh2AwmOmdu...</td>\n      <td>Knife Party</td>\n    </tr>\n  </tbody>\n</table>\n</div>"
     },
     "execution_count": 75,
     "metadata": {},
     "output_type": "execute_result"
    }
   ],
   "source": [
    "df.tail()"
   ]
  },
  {
   "cell_type": "code",
   "execution_count": 82,
   "id": "50017133",
   "metadata": {
    "pycharm": {
     "name": "#%%\n"
    }
   },
   "outputs": [
    {
     "data": {
      "text/plain": "       danceability  energy  key  loudness  speechiness  acousticness  \\\n0             0.320   0.207    9   -21.487       0.0512      0.988000   \n1             0.270   0.105    8   -24.507       0.0439      0.993000   \n2             0.851   0.660    2    -9.152       0.0462      0.093000   \n3             0.601   0.552    7    -9.349       0.0308      0.147000   \n4             0.134   0.474    9   -13.864       0.0518      0.826000   \n...             ...     ...  ...       ...          ...           ...   \n36195         0.513   0.819    5    -5.372       0.0454      0.002240   \n36196         0.495   0.743    7    -4.021       0.0341      0.000748   \n36197         0.641   0.863    5    -6.150       0.1950      0.005800   \n36198         0.791   0.824    0    -5.481       0.0627      0.400000   \n36199         0.536   0.944    1    -3.029       0.0867      0.000117   \n\n       instrumentalness    tempo  valence  duration  popularity  \n0               0.94800  144.547   0.1090    185013           0  \n1               0.89500   70.014   0.0377    676000           1  \n2               0.75000  114.955   0.3070    147611           0  \n3               0.92700   92.009   0.3290     90969           0  \n4               0.58000   98.854   0.1330    203227          60  \n...                 ...      ...      ...       ...         ...  \n36195           0.15300  140.055   0.4490    361875          42  \n36196           0.39300  140.047   0.1510    244286           0  \n36197           0.32400  127.990   0.8250    393671           0  \n36198           0.03750  107.981   0.9590    264491           0  \n36199           0.00345  174.031   0.5890    272078          61  \n\n[36200 rows x 11 columns]",
      "text/html": "<div>\n<style scoped>\n    .dataframe tbody tr th:only-of-type {\n        vertical-align: middle;\n    }\n\n    .dataframe tbody tr th {\n        vertical-align: top;\n    }\n\n    .dataframe thead th {\n        text-align: right;\n    }\n</style>\n<table border=\"1\" class=\"dataframe\">\n  <thead>\n    <tr style=\"text-align: right;\">\n      <th></th>\n      <th>danceability</th>\n      <th>energy</th>\n      <th>key</th>\n      <th>loudness</th>\n      <th>speechiness</th>\n      <th>acousticness</th>\n      <th>instrumentalness</th>\n      <th>tempo</th>\n      <th>valence</th>\n      <th>duration</th>\n      <th>popularity</th>\n    </tr>\n  </thead>\n  <tbody>\n    <tr>\n      <th>0</th>\n      <td>0.320</td>\n      <td>0.207</td>\n      <td>9</td>\n      <td>-21.487</td>\n      <td>0.0512</td>\n      <td>0.988000</td>\n      <td>0.94800</td>\n      <td>144.547</td>\n      <td>0.1090</td>\n      <td>185013</td>\n      <td>0</td>\n    </tr>\n    <tr>\n      <th>1</th>\n      <td>0.270</td>\n      <td>0.105</td>\n      <td>8</td>\n      <td>-24.507</td>\n      <td>0.0439</td>\n      <td>0.993000</td>\n      <td>0.89500</td>\n      <td>70.014</td>\n      <td>0.0377</td>\n      <td>676000</td>\n      <td>1</td>\n    </tr>\n    <tr>\n      <th>2</th>\n      <td>0.851</td>\n      <td>0.660</td>\n      <td>2</td>\n      <td>-9.152</td>\n      <td>0.0462</td>\n      <td>0.093000</td>\n      <td>0.75000</td>\n      <td>114.955</td>\n      <td>0.3070</td>\n      <td>147611</td>\n      <td>0</td>\n    </tr>\n    <tr>\n      <th>3</th>\n      <td>0.601</td>\n      <td>0.552</td>\n      <td>7</td>\n      <td>-9.349</td>\n      <td>0.0308</td>\n      <td>0.147000</td>\n      <td>0.92700</td>\n      <td>92.009</td>\n      <td>0.3290</td>\n      <td>90969</td>\n      <td>0</td>\n    </tr>\n    <tr>\n      <th>4</th>\n      <td>0.134</td>\n      <td>0.474</td>\n      <td>9</td>\n      <td>-13.864</td>\n      <td>0.0518</td>\n      <td>0.826000</td>\n      <td>0.58000</td>\n      <td>98.854</td>\n      <td>0.1330</td>\n      <td>203227</td>\n      <td>60</td>\n    </tr>\n    <tr>\n      <th>...</th>\n      <td>...</td>\n      <td>...</td>\n      <td>...</td>\n      <td>...</td>\n      <td>...</td>\n      <td>...</td>\n      <td>...</td>\n      <td>...</td>\n      <td>...</td>\n      <td>...</td>\n      <td>...</td>\n    </tr>\n    <tr>\n      <th>36195</th>\n      <td>0.513</td>\n      <td>0.819</td>\n      <td>5</td>\n      <td>-5.372</td>\n      <td>0.0454</td>\n      <td>0.002240</td>\n      <td>0.15300</td>\n      <td>140.055</td>\n      <td>0.4490</td>\n      <td>361875</td>\n      <td>42</td>\n    </tr>\n    <tr>\n      <th>36196</th>\n      <td>0.495</td>\n      <td>0.743</td>\n      <td>7</td>\n      <td>-4.021</td>\n      <td>0.0341</td>\n      <td>0.000748</td>\n      <td>0.39300</td>\n      <td>140.047</td>\n      <td>0.1510</td>\n      <td>244286</td>\n      <td>0</td>\n    </tr>\n    <tr>\n      <th>36197</th>\n      <td>0.641</td>\n      <td>0.863</td>\n      <td>5</td>\n      <td>-6.150</td>\n      <td>0.1950</td>\n      <td>0.005800</td>\n      <td>0.32400</td>\n      <td>127.990</td>\n      <td>0.8250</td>\n      <td>393671</td>\n      <td>0</td>\n    </tr>\n    <tr>\n      <th>36198</th>\n      <td>0.791</td>\n      <td>0.824</td>\n      <td>0</td>\n      <td>-5.481</td>\n      <td>0.0627</td>\n      <td>0.400000</td>\n      <td>0.03750</td>\n      <td>107.981</td>\n      <td>0.9590</td>\n      <td>264491</td>\n      <td>0</td>\n    </tr>\n    <tr>\n      <th>36199</th>\n      <td>0.536</td>\n      <td>0.944</td>\n      <td>1</td>\n      <td>-3.029</td>\n      <td>0.0867</td>\n      <td>0.000117</td>\n      <td>0.00345</td>\n      <td>174.031</td>\n      <td>0.5890</td>\n      <td>272078</td>\n      <td>61</td>\n    </tr>\n  </tbody>\n</table>\n<p>36200 rows × 11 columns</p>\n</div>"
     },
     "execution_count": 82,
     "metadata": {},
     "output_type": "execute_result"
    }
   ],
   "source": [
    "DataFrame(db.find(projection={'_id': False,'track_uri': False, 'title': False, 'track_url': False, 'artist_name': False}))"
   ]
  },
  {
   "cell_type": "code",
   "execution_count": 83,
   "id": "b5fe5a00",
   "metadata": {
    "pycharm": {
     "name": "#%%\n"
    }
   },
   "outputs": [],
   "source": [
    "df = df.drop_duplicates(subset = 'track_uri')"
   ]
  },
  {
   "cell_type": "code",
   "execution_count": 84,
   "id": "d1a3c4d8",
   "metadata": {
    "pycharm": {
     "name": "#%%\n"
    }
   },
   "outputs": [
    {
     "data": {
      "text/plain": "(23354, 16)"
     },
     "execution_count": 84,
     "metadata": {},
     "output_type": "execute_result"
    }
   ],
   "source": [
    "df.shape"
   ]
  },
  {
   "cell_type": "code",
   "execution_count": 85,
   "id": "4bdb3b0c",
   "metadata": {
    "pycharm": {
     "name": "#%%\n"
    }
   },
   "outputs": [],
   "source": [
    "df = df.drop(df[df.popularity < 25].index)"
   ]
  },
  {
   "cell_type": "code",
   "execution_count": 86,
   "id": "731e14c4",
   "metadata": {
    "pycharm": {
     "name": "#%%\n"
    }
   },
   "outputs": [
    {
     "data": {
      "text/plain": "(12969, 16)"
     },
     "execution_count": 86,
     "metadata": {},
     "output_type": "execute_result"
    }
   ],
   "source": [
    "df.shape"
   ]
  },
  {
   "cell_type": "code",
   "execution_count": 87,
   "id": "0ebb0619",
   "metadata": {
    "pycharm": {
     "name": "#%%\n"
    }
   },
   "outputs": [
    {
     "data": {
      "text/plain": "                            _id                             track_uri  \\\n178    62e0426425df413ff8d303aa  spotify:track:32OlwWuMpZ6b0aN2RZOeMS   \n210    62e0426425df413ff8d303ea  spotify:track:3cHyrEgdyYRjgJKSOiOtcS   \n232    62e0426425df413ff8d3040e  spotify:track:6gBFPUFcJLzWGx4lenP6h2   \n249    62e0426425df413ff8d30461  spotify:track:7KXjTSCq5nL1LoYtL7XAwS   \n289    62e0426425df413ff8d30475  spotify:track:7GX5flRQZVHRAGd6B4TmDO   \n...                         ...                                   ...   \n30527  62eb184d0280ad196372946f  spotify:track:2Bs4jQEGMycglOfWPBqrVG   \n31452  62ebb4985f6b8c4a6dcce56b  spotify:track:3sNVsP50132BTNlImLx70i   \n31599  62ebb4985f6b8c4a6dcce5fe  spotify:track:1u8c2t2Cy7UBoG4ArRcF5g   \n33491  62ebd870bffad65cbc2a8189  spotify:track:0cqRj7pUJDkTCEsJkx8snD   \n33642  62ebd9b57d92c61d1a7ee183  spotify:track:1NZs6n6hl8UuMaX0UC0YTz   \n\n                                title  danceability  energy  key  loudness  \\\n178    Uptown Funk (feat. Bruno Mars)         0.856   0.609    0    -7.223   \n210              Timber (feat. Ke$ha)         0.581   0.963   11    -4.087   \n232                        goosebumps         0.841   0.728    7    -3.370   \n249                           HUMBLE.         0.908   0.621    1    -6.638   \n289                     XO Tour Llif3         0.732   0.750   11    -6.366   \n...                               ...           ...     ...  ...       ...   \n30527                   Steal My Girl         0.536   0.768   10    -5.948   \n31452                         Bound 2         0.367   0.665    1    -2.821   \n31599                     Blank Space         0.760   0.703    5    -5.412   \n33491                    Shake It Off         0.647   0.800    7    -5.384   \n33642                   Brooklyn Baby         0.404   0.664    1    -6.698   \n\n       speechiness  acousticness  instrumentalness    tempo  valence  \\\n178         0.0824      0.008010          0.000082  114.988   0.9280   \n210         0.0981      0.029500          0.000000  129.992   0.7880   \n232         0.0484      0.084700          0.000000  130.049   0.4300   \n249         0.1020      0.000282          0.000054  150.011   0.4210   \n289         0.2310      0.002640          0.000000  155.096   0.4010   \n...            ...           ...               ...      ...      ...   \n30527       0.0347      0.004330          0.000000   77.217   0.5450   \n31452       0.0465      0.145000          0.000000  148.913   0.3100   \n31599       0.0540      0.103000          0.000000   95.997   0.5700   \n33491       0.1650      0.064700          0.000000  160.078   0.9420   \n33642       0.0407      0.542000          0.004020  107.747   0.0949   \n\n       duration  popularity  \\\n178      269667          83   \n210      204160          82   \n232      243837          84   \n249      177000          83   \n289      182707          82   \n...         ...         ...   \n30527    228133          81   \n31452    229147          84   \n31599    231827          85   \n33491    219200          81   \n33642    351640          81   \n\n                                               track_url     artist_name  \n178    https://open.spotify.com/track/32OlwWuMpZ6b0aN...     Mark Ronson  \n210    https://open.spotify.com/track/3cHyrEgdyYRjgJK...         Pitbull  \n232    https://open.spotify.com/track/6gBFPUFcJLzWGx4...    Travis Scott  \n249    https://open.spotify.com/track/7KXjTSCq5nL1LoY...  Kendrick Lamar  \n289    https://open.spotify.com/track/7GX5flRQZVHRAGd...    Lil Uzi Vert  \n...                                                  ...             ...  \n30527  https://open.spotify.com/track/2Bs4jQEGMycglOf...   One Direction  \n31452  https://open.spotify.com/track/3sNVsP50132BTNl...      Kanye West  \n31599  https://open.spotify.com/track/1u8c2t2Cy7UBoG4...    Taylor Swift  \n33491  https://open.spotify.com/track/0cqRj7pUJDkTCEs...    Taylor Swift  \n33642  https://open.spotify.com/track/1NZs6n6hl8UuMaX...    Lana Del Rey  \n\n[119 rows x 16 columns]",
      "text/html": "<div>\n<style scoped>\n    .dataframe tbody tr th:only-of-type {\n        vertical-align: middle;\n    }\n\n    .dataframe tbody tr th {\n        vertical-align: top;\n    }\n\n    .dataframe thead th {\n        text-align: right;\n    }\n</style>\n<table border=\"1\" class=\"dataframe\">\n  <thead>\n    <tr style=\"text-align: right;\">\n      <th></th>\n      <th>_id</th>\n      <th>track_uri</th>\n      <th>title</th>\n      <th>danceability</th>\n      <th>energy</th>\n      <th>key</th>\n      <th>loudness</th>\n      <th>speechiness</th>\n      <th>acousticness</th>\n      <th>instrumentalness</th>\n      <th>tempo</th>\n      <th>valence</th>\n      <th>duration</th>\n      <th>popularity</th>\n      <th>track_url</th>\n      <th>artist_name</th>\n    </tr>\n  </thead>\n  <tbody>\n    <tr>\n      <th>178</th>\n      <td>62e0426425df413ff8d303aa</td>\n      <td>spotify:track:32OlwWuMpZ6b0aN2RZOeMS</td>\n      <td>Uptown Funk (feat. Bruno Mars)</td>\n      <td>0.856</td>\n      <td>0.609</td>\n      <td>0</td>\n      <td>-7.223</td>\n      <td>0.0824</td>\n      <td>0.008010</td>\n      <td>0.000082</td>\n      <td>114.988</td>\n      <td>0.9280</td>\n      <td>269667</td>\n      <td>83</td>\n      <td>https://open.spotify.com/track/32OlwWuMpZ6b0aN...</td>\n      <td>Mark Ronson</td>\n    </tr>\n    <tr>\n      <th>210</th>\n      <td>62e0426425df413ff8d303ea</td>\n      <td>spotify:track:3cHyrEgdyYRjgJKSOiOtcS</td>\n      <td>Timber (feat. Ke$ha)</td>\n      <td>0.581</td>\n      <td>0.963</td>\n      <td>11</td>\n      <td>-4.087</td>\n      <td>0.0981</td>\n      <td>0.029500</td>\n      <td>0.000000</td>\n      <td>129.992</td>\n      <td>0.7880</td>\n      <td>204160</td>\n      <td>82</td>\n      <td>https://open.spotify.com/track/3cHyrEgdyYRjgJK...</td>\n      <td>Pitbull</td>\n    </tr>\n    <tr>\n      <th>232</th>\n      <td>62e0426425df413ff8d3040e</td>\n      <td>spotify:track:6gBFPUFcJLzWGx4lenP6h2</td>\n      <td>goosebumps</td>\n      <td>0.841</td>\n      <td>0.728</td>\n      <td>7</td>\n      <td>-3.370</td>\n      <td>0.0484</td>\n      <td>0.084700</td>\n      <td>0.000000</td>\n      <td>130.049</td>\n      <td>0.4300</td>\n      <td>243837</td>\n      <td>84</td>\n      <td>https://open.spotify.com/track/6gBFPUFcJLzWGx4...</td>\n      <td>Travis Scott</td>\n    </tr>\n    <tr>\n      <th>249</th>\n      <td>62e0426425df413ff8d30461</td>\n      <td>spotify:track:7KXjTSCq5nL1LoYtL7XAwS</td>\n      <td>HUMBLE.</td>\n      <td>0.908</td>\n      <td>0.621</td>\n      <td>1</td>\n      <td>-6.638</td>\n      <td>0.1020</td>\n      <td>0.000282</td>\n      <td>0.000054</td>\n      <td>150.011</td>\n      <td>0.4210</td>\n      <td>177000</td>\n      <td>83</td>\n      <td>https://open.spotify.com/track/7KXjTSCq5nL1LoY...</td>\n      <td>Kendrick Lamar</td>\n    </tr>\n    <tr>\n      <th>289</th>\n      <td>62e0426425df413ff8d30475</td>\n      <td>spotify:track:7GX5flRQZVHRAGd6B4TmDO</td>\n      <td>XO Tour Llif3</td>\n      <td>0.732</td>\n      <td>0.750</td>\n      <td>11</td>\n      <td>-6.366</td>\n      <td>0.2310</td>\n      <td>0.002640</td>\n      <td>0.000000</td>\n      <td>155.096</td>\n      <td>0.4010</td>\n      <td>182707</td>\n      <td>82</td>\n      <td>https://open.spotify.com/track/7GX5flRQZVHRAGd...</td>\n      <td>Lil Uzi Vert</td>\n    </tr>\n    <tr>\n      <th>...</th>\n      <td>...</td>\n      <td>...</td>\n      <td>...</td>\n      <td>...</td>\n      <td>...</td>\n      <td>...</td>\n      <td>...</td>\n      <td>...</td>\n      <td>...</td>\n      <td>...</td>\n      <td>...</td>\n      <td>...</td>\n      <td>...</td>\n      <td>...</td>\n      <td>...</td>\n      <td>...</td>\n    </tr>\n    <tr>\n      <th>30527</th>\n      <td>62eb184d0280ad196372946f</td>\n      <td>spotify:track:2Bs4jQEGMycglOfWPBqrVG</td>\n      <td>Steal My Girl</td>\n      <td>0.536</td>\n      <td>0.768</td>\n      <td>10</td>\n      <td>-5.948</td>\n      <td>0.0347</td>\n      <td>0.004330</td>\n      <td>0.000000</td>\n      <td>77.217</td>\n      <td>0.5450</td>\n      <td>228133</td>\n      <td>81</td>\n      <td>https://open.spotify.com/track/2Bs4jQEGMycglOf...</td>\n      <td>One Direction</td>\n    </tr>\n    <tr>\n      <th>31452</th>\n      <td>62ebb4985f6b8c4a6dcce56b</td>\n      <td>spotify:track:3sNVsP50132BTNlImLx70i</td>\n      <td>Bound 2</td>\n      <td>0.367</td>\n      <td>0.665</td>\n      <td>1</td>\n      <td>-2.821</td>\n      <td>0.0465</td>\n      <td>0.145000</td>\n      <td>0.000000</td>\n      <td>148.913</td>\n      <td>0.3100</td>\n      <td>229147</td>\n      <td>84</td>\n      <td>https://open.spotify.com/track/3sNVsP50132BTNl...</td>\n      <td>Kanye West</td>\n    </tr>\n    <tr>\n      <th>31599</th>\n      <td>62ebb4985f6b8c4a6dcce5fe</td>\n      <td>spotify:track:1u8c2t2Cy7UBoG4ArRcF5g</td>\n      <td>Blank Space</td>\n      <td>0.760</td>\n      <td>0.703</td>\n      <td>5</td>\n      <td>-5.412</td>\n      <td>0.0540</td>\n      <td>0.103000</td>\n      <td>0.000000</td>\n      <td>95.997</td>\n      <td>0.5700</td>\n      <td>231827</td>\n      <td>85</td>\n      <td>https://open.spotify.com/track/1u8c2t2Cy7UBoG4...</td>\n      <td>Taylor Swift</td>\n    </tr>\n    <tr>\n      <th>33491</th>\n      <td>62ebd870bffad65cbc2a8189</td>\n      <td>spotify:track:0cqRj7pUJDkTCEsJkx8snD</td>\n      <td>Shake It Off</td>\n      <td>0.647</td>\n      <td>0.800</td>\n      <td>7</td>\n      <td>-5.384</td>\n      <td>0.1650</td>\n      <td>0.064700</td>\n      <td>0.000000</td>\n      <td>160.078</td>\n      <td>0.9420</td>\n      <td>219200</td>\n      <td>81</td>\n      <td>https://open.spotify.com/track/0cqRj7pUJDkTCEs...</td>\n      <td>Taylor Swift</td>\n    </tr>\n    <tr>\n      <th>33642</th>\n      <td>62ebd9b57d92c61d1a7ee183</td>\n      <td>spotify:track:1NZs6n6hl8UuMaX0UC0YTz</td>\n      <td>Brooklyn Baby</td>\n      <td>0.404</td>\n      <td>0.664</td>\n      <td>1</td>\n      <td>-6.698</td>\n      <td>0.0407</td>\n      <td>0.542000</td>\n      <td>0.004020</td>\n      <td>107.747</td>\n      <td>0.0949</td>\n      <td>351640</td>\n      <td>81</td>\n      <td>https://open.spotify.com/track/1NZs6n6hl8UuMaX...</td>\n      <td>Lana Del Rey</td>\n    </tr>\n  </tbody>\n</table>\n<p>119 rows × 16 columns</p>\n</div>"
     },
     "execution_count": 87,
     "metadata": {},
     "output_type": "execute_result"
    }
   ],
   "source": [
    "df[df.popularity > 80]"
   ]
  },
  {
   "cell_type": "code",
   "execution_count": 88,
   "id": "049327c2",
   "metadata": {
    "pycharm": {
     "name": "#%%\n"
    }
   },
   "outputs": [
    {
     "data": {
      "text/plain": "                            _id                             track_uri  \\\n36178  62ec07536c49bdc3377c115b  spotify:track:047BRyvg109rscwoOBRBHV   \n36179  62ec07536c49bdc3377c115c  spotify:track:7ecYM2L0Flrm9zMjXgiY3J   \n36183  62ec07536c49bdc3377c1160  spotify:track:0LSLM0zuWRkEYemF7JcfEE   \n36184  62ec07536c49bdc3377c1161  spotify:track:1hxGIAgMvDQkn1gmDR3v6g   \n36188  62ec07536c49bdc3377c1165  spotify:track:0JziX0FifSunJg3hHA05rj   \n\n               title  danceability  energy  key  loudness  speechiness  \\\n36178  Call Me Maybe         0.501   0.614    5    -6.050       0.2140   \n36179        Hey Ya!         0.651   0.520    7    -5.835       0.0316   \n36183    Technologic         0.812   0.516    9    -6.963       0.2240   \n36184     Poker Face         0.447   0.527    8    -5.880       0.0417   \n36188  Slam The Door         0.814   0.569   11    -5.277       0.1160   \n\n       acousticness  instrumentalness    tempo  valence  duration  popularity  \\\n36178      0.790000          0.000000  116.998    0.487    202250          32   \n36179      0.740000          0.000005  102.231    0.584    203375          40   \n36183      0.000369          0.000011  127.498    0.633    284280          51   \n36184      0.711000          0.000000  117.699    0.411    181333          36   \n36188      0.000245          0.422000  130.001    0.612    281538          33   \n\n                                               track_url  \\\n36178  https://open.spotify.com/track/047BRyvg109rscw...   \n36179  https://open.spotify.com/track/7ecYM2L0Flrm9zM...   \n36183  https://open.spotify.com/track/0LSLM0zuWRkEYem...   \n36184  https://open.spotify.com/track/1hxGIAgMvDQkn1g...   \n36188  https://open.spotify.com/track/0JziX0FifSunJg3...   \n\n                              artist_name  \n36178  Scott Bradlee's Postmodern Jukebox  \n36179  Scott Bradlee's Postmodern Jukebox  \n36183                           Daft Punk  \n36184  Scott Bradlee's Postmodern Jukebox  \n36188                                Zedd  ",
      "text/html": "<div>\n<style scoped>\n    .dataframe tbody tr th:only-of-type {\n        vertical-align: middle;\n    }\n\n    .dataframe tbody tr th {\n        vertical-align: top;\n    }\n\n    .dataframe thead th {\n        text-align: right;\n    }\n</style>\n<table border=\"1\" class=\"dataframe\">\n  <thead>\n    <tr style=\"text-align: right;\">\n      <th></th>\n      <th>_id</th>\n      <th>track_uri</th>\n      <th>title</th>\n      <th>danceability</th>\n      <th>energy</th>\n      <th>key</th>\n      <th>loudness</th>\n      <th>speechiness</th>\n      <th>acousticness</th>\n      <th>instrumentalness</th>\n      <th>tempo</th>\n      <th>valence</th>\n      <th>duration</th>\n      <th>popularity</th>\n      <th>track_url</th>\n      <th>artist_name</th>\n    </tr>\n  </thead>\n  <tbody>\n    <tr>\n      <th>36178</th>\n      <td>62ec07536c49bdc3377c115b</td>\n      <td>spotify:track:047BRyvg109rscwoOBRBHV</td>\n      <td>Call Me Maybe</td>\n      <td>0.501</td>\n      <td>0.614</td>\n      <td>5</td>\n      <td>-6.050</td>\n      <td>0.2140</td>\n      <td>0.790000</td>\n      <td>0.000000</td>\n      <td>116.998</td>\n      <td>0.487</td>\n      <td>202250</td>\n      <td>32</td>\n      <td>https://open.spotify.com/track/047BRyvg109rscw...</td>\n      <td>Scott Bradlee's Postmodern Jukebox</td>\n    </tr>\n    <tr>\n      <th>36179</th>\n      <td>62ec07536c49bdc3377c115c</td>\n      <td>spotify:track:7ecYM2L0Flrm9zMjXgiY3J</td>\n      <td>Hey Ya!</td>\n      <td>0.651</td>\n      <td>0.520</td>\n      <td>7</td>\n      <td>-5.835</td>\n      <td>0.0316</td>\n      <td>0.740000</td>\n      <td>0.000005</td>\n      <td>102.231</td>\n      <td>0.584</td>\n      <td>203375</td>\n      <td>40</td>\n      <td>https://open.spotify.com/track/7ecYM2L0Flrm9zM...</td>\n      <td>Scott Bradlee's Postmodern Jukebox</td>\n    </tr>\n    <tr>\n      <th>36183</th>\n      <td>62ec07536c49bdc3377c1160</td>\n      <td>spotify:track:0LSLM0zuWRkEYemF7JcfEE</td>\n      <td>Technologic</td>\n      <td>0.812</td>\n      <td>0.516</td>\n      <td>9</td>\n      <td>-6.963</td>\n      <td>0.2240</td>\n      <td>0.000369</td>\n      <td>0.000011</td>\n      <td>127.498</td>\n      <td>0.633</td>\n      <td>284280</td>\n      <td>51</td>\n      <td>https://open.spotify.com/track/0LSLM0zuWRkEYem...</td>\n      <td>Daft Punk</td>\n    </tr>\n    <tr>\n      <th>36184</th>\n      <td>62ec07536c49bdc3377c1161</td>\n      <td>spotify:track:1hxGIAgMvDQkn1gmDR3v6g</td>\n      <td>Poker Face</td>\n      <td>0.447</td>\n      <td>0.527</td>\n      <td>8</td>\n      <td>-5.880</td>\n      <td>0.0417</td>\n      <td>0.711000</td>\n      <td>0.000000</td>\n      <td>117.699</td>\n      <td>0.411</td>\n      <td>181333</td>\n      <td>36</td>\n      <td>https://open.spotify.com/track/1hxGIAgMvDQkn1g...</td>\n      <td>Scott Bradlee's Postmodern Jukebox</td>\n    </tr>\n    <tr>\n      <th>36188</th>\n      <td>62ec07536c49bdc3377c1165</td>\n      <td>spotify:track:0JziX0FifSunJg3hHA05rj</td>\n      <td>Slam The Door</td>\n      <td>0.814</td>\n      <td>0.569</td>\n      <td>11</td>\n      <td>-5.277</td>\n      <td>0.1160</td>\n      <td>0.000245</td>\n      <td>0.422000</td>\n      <td>130.001</td>\n      <td>0.612</td>\n      <td>281538</td>\n      <td>33</td>\n      <td>https://open.spotify.com/track/0JziX0FifSunJg3...</td>\n      <td>Zedd</td>\n    </tr>\n  </tbody>\n</table>\n</div>"
     },
     "execution_count": 88,
     "metadata": {},
     "output_type": "execute_result"
    }
   ],
   "source": [
    "df.tail()"
   ]
  },
  {
   "cell_type": "code",
   "execution_count": 89,
   "id": "c925e846",
   "metadata": {
    "pycharm": {
     "name": "#%%\n"
    }
   },
   "outputs": [
    {
     "data": {
      "text/plain": "    danceability  energy  key  loudness  speechiness  acousticness  \\\n4          0.134  0.4740    9   -13.864       0.0518         0.826   \n5          0.341  0.2130    7   -20.577       0.0715         0.990   \n7          0.544  0.0763    7   -20.524       0.0505         0.952   \n8          0.190  0.2760    1   -14.830       0.0346         0.335   \n14         0.229  0.0144    2   -30.935       0.0320         0.855   \n\n    instrumentalness    tempo  valence  duration  \n4           0.580000   98.854   0.1330    203227  \n5           0.859000   79.423   0.6170    132120  \n7           0.503000  122.174   0.4100    391000  \n8           0.908000   68.619   0.0575    176587  \n14          0.000332   87.474   0.2470     99680  ",
      "text/html": "<div>\n<style scoped>\n    .dataframe tbody tr th:only-of-type {\n        vertical-align: middle;\n    }\n\n    .dataframe tbody tr th {\n        vertical-align: top;\n    }\n\n    .dataframe thead th {\n        text-align: right;\n    }\n</style>\n<table border=\"1\" class=\"dataframe\">\n  <thead>\n    <tr style=\"text-align: right;\">\n      <th></th>\n      <th>danceability</th>\n      <th>energy</th>\n      <th>key</th>\n      <th>loudness</th>\n      <th>speechiness</th>\n      <th>acousticness</th>\n      <th>instrumentalness</th>\n      <th>tempo</th>\n      <th>valence</th>\n      <th>duration</th>\n    </tr>\n  </thead>\n  <tbody>\n    <tr>\n      <th>4</th>\n      <td>0.134</td>\n      <td>0.4740</td>\n      <td>9</td>\n      <td>-13.864</td>\n      <td>0.0518</td>\n      <td>0.826</td>\n      <td>0.580000</td>\n      <td>98.854</td>\n      <td>0.1330</td>\n      <td>203227</td>\n    </tr>\n    <tr>\n      <th>5</th>\n      <td>0.341</td>\n      <td>0.2130</td>\n      <td>7</td>\n      <td>-20.577</td>\n      <td>0.0715</td>\n      <td>0.990</td>\n      <td>0.859000</td>\n      <td>79.423</td>\n      <td>0.6170</td>\n      <td>132120</td>\n    </tr>\n    <tr>\n      <th>7</th>\n      <td>0.544</td>\n      <td>0.0763</td>\n      <td>7</td>\n      <td>-20.524</td>\n      <td>0.0505</td>\n      <td>0.952</td>\n      <td>0.503000</td>\n      <td>122.174</td>\n      <td>0.4100</td>\n      <td>391000</td>\n    </tr>\n    <tr>\n      <th>8</th>\n      <td>0.190</td>\n      <td>0.2760</td>\n      <td>1</td>\n      <td>-14.830</td>\n      <td>0.0346</td>\n      <td>0.335</td>\n      <td>0.908000</td>\n      <td>68.619</td>\n      <td>0.0575</td>\n      <td>176587</td>\n    </tr>\n    <tr>\n      <th>14</th>\n      <td>0.229</td>\n      <td>0.0144</td>\n      <td>2</td>\n      <td>-30.935</td>\n      <td>0.0320</td>\n      <td>0.855</td>\n      <td>0.000332</td>\n      <td>87.474</td>\n      <td>0.2470</td>\n      <td>99680</td>\n    </tr>\n  </tbody>\n</table>\n</div>"
     },
     "execution_count": 89,
     "metadata": {},
     "output_type": "execute_result"
    }
   ],
   "source": [
    "usable_columns = ['danceability', 'energy', 'key', 'loudness', 'speechiness','acousticness','instrumentalness', 'tempo', 'valence', 'duration']\n",
    "\n",
    "X = df[usable_columns]\n",
    "\n",
    "X.head()"
   ]
  },
  {
   "cell_type": "code",
   "execution_count": 48,
   "id": "094227e1",
   "metadata": {
    "pycharm": {
     "name": "#%%\n"
    }
   },
   "outputs": [
    {
     "name": "stdout",
     "output_type": "stream",
     "text": [
      "Requirement already satisfied: scikit-learn in /Users/jasongersing/PycharmProjects/pythonProject/pythonProject4/JazzySpot/venv/lib/python3.10/site-packages (1.1.1)\r\n",
      "Requirement already satisfied: threadpoolctl>=2.0.0 in /Users/jasongersing/PycharmProjects/pythonProject/pythonProject4/JazzySpot/venv/lib/python3.10/site-packages (from scikit-learn) (3.1.0)\r\n",
      "Requirement already satisfied: joblib>=1.0.0 in /Users/jasongersing/PycharmProjects/pythonProject/pythonProject4/JazzySpot/venv/lib/python3.10/site-packages (from scikit-learn) (1.1.0)\r\n",
      "Requirement already satisfied: scipy>=1.3.2 in /Users/jasongersing/PycharmProjects/pythonProject/pythonProject4/JazzySpot/venv/lib/python3.10/site-packages (from scikit-learn) (1.9.0)\r\n",
      "Requirement already satisfied: numpy>=1.17.3 in /Users/jasongersing/PycharmProjects/pythonProject/pythonProject4/JazzySpot/venv/lib/python3.10/site-packages (from scikit-learn) (1.23.1)\r\n"
     ]
    }
   ],
   "source": [
    "!pip install scikit-learn\n",
    "from sklearn.neighbors import NearestNeighbors"
   ]
  },
  {
   "cell_type": "code",
   "execution_count": 90,
   "id": "48e135fd",
   "metadata": {
    "pycharm": {
     "name": "#%%\n"
    }
   },
   "outputs": [
    {
     "data": {
      "text/plain": "NearestNeighbors(n_jobs=-1)",
      "text/html": "<style>#sk-container-id-6 {color: black;background-color: white;}#sk-container-id-6 pre{padding: 0;}#sk-container-id-6 div.sk-toggleable {background-color: white;}#sk-container-id-6 label.sk-toggleable__label {cursor: pointer;display: block;width: 100%;margin-bottom: 0;padding: 0.3em;box-sizing: border-box;text-align: center;}#sk-container-id-6 label.sk-toggleable__label-arrow:before {content: \"▸\";float: left;margin-right: 0.25em;color: #696969;}#sk-container-id-6 label.sk-toggleable__label-arrow:hover:before {color: black;}#sk-container-id-6 div.sk-estimator:hover label.sk-toggleable__label-arrow:before {color: black;}#sk-container-id-6 div.sk-toggleable__content {max-height: 0;max-width: 0;overflow: hidden;text-align: left;background-color: #f0f8ff;}#sk-container-id-6 div.sk-toggleable__content pre {margin: 0.2em;color: black;border-radius: 0.25em;background-color: #f0f8ff;}#sk-container-id-6 input.sk-toggleable__control:checked~div.sk-toggleable__content {max-height: 200px;max-width: 100%;overflow: auto;}#sk-container-id-6 input.sk-toggleable__control:checked~label.sk-toggleable__label-arrow:before {content: \"▾\";}#sk-container-id-6 div.sk-estimator input.sk-toggleable__control:checked~label.sk-toggleable__label {background-color: #d4ebff;}#sk-container-id-6 div.sk-label input.sk-toggleable__control:checked~label.sk-toggleable__label {background-color: #d4ebff;}#sk-container-id-6 input.sk-hidden--visually {border: 0;clip: rect(1px 1px 1px 1px);clip: rect(1px, 1px, 1px, 1px);height: 1px;margin: -1px;overflow: hidden;padding: 0;position: absolute;width: 1px;}#sk-container-id-6 div.sk-estimator {font-family: monospace;background-color: #f0f8ff;border: 1px dotted black;border-radius: 0.25em;box-sizing: border-box;margin-bottom: 0.5em;}#sk-container-id-6 div.sk-estimator:hover {background-color: #d4ebff;}#sk-container-id-6 div.sk-parallel-item::after {content: \"\";width: 100%;border-bottom: 1px solid gray;flex-grow: 1;}#sk-container-id-6 div.sk-label:hover label.sk-toggleable__label {background-color: #d4ebff;}#sk-container-id-6 div.sk-serial::before {content: \"\";position: absolute;border-left: 1px solid gray;box-sizing: border-box;top: 0;bottom: 0;left: 50%;z-index: 0;}#sk-container-id-6 div.sk-serial {display: flex;flex-direction: column;align-items: center;background-color: white;padding-right: 0.2em;padding-left: 0.2em;position: relative;}#sk-container-id-6 div.sk-item {position: relative;z-index: 1;}#sk-container-id-6 div.sk-parallel {display: flex;align-items: stretch;justify-content: center;background-color: white;position: relative;}#sk-container-id-6 div.sk-item::before, #sk-container-id-6 div.sk-parallel-item::before {content: \"\";position: absolute;border-left: 1px solid gray;box-sizing: border-box;top: 0;bottom: 0;left: 50%;z-index: -1;}#sk-container-id-6 div.sk-parallel-item {display: flex;flex-direction: column;z-index: 1;position: relative;background-color: white;}#sk-container-id-6 div.sk-parallel-item:first-child::after {align-self: flex-end;width: 50%;}#sk-container-id-6 div.sk-parallel-item:last-child::after {align-self: flex-start;width: 50%;}#sk-container-id-6 div.sk-parallel-item:only-child::after {width: 0;}#sk-container-id-6 div.sk-dashed-wrapped {border: 1px dashed gray;margin: 0 0.4em 0.5em 0.4em;box-sizing: border-box;padding-bottom: 0.4em;background-color: white;}#sk-container-id-6 div.sk-label label {font-family: monospace;font-weight: bold;display: inline-block;line-height: 1.2em;}#sk-container-id-6 div.sk-label-container {text-align: center;}#sk-container-id-6 div.sk-container {/* jupyter's `normalize.less` sets `[hidden] { display: none; }` but bootstrap.min.css set `[hidden] { display: none !important; }` so we also need the `!important` here to be able to override the default hidden behavior on the sphinx rendered scikit-learn.org. See: https://github.com/scikit-learn/scikit-learn/issues/21755 */display: inline-block !important;position: relative;}#sk-container-id-6 div.sk-text-repr-fallback {display: none;}</style><div id=\"sk-container-id-6\" class=\"sk-top-container\"><div class=\"sk-text-repr-fallback\"><pre>NearestNeighbors(n_jobs=-1)</pre><b>In a Jupyter environment, please rerun this cell to show the HTML representation or trust the notebook. <br />On GitHub, the HTML representation is unable to render, please try loading this page with nbviewer.org.</b></div><div class=\"sk-container\" hidden><div class=\"sk-item\"><div class=\"sk-estimator sk-toggleable\"><input class=\"sk-toggleable__control sk-hidden--visually\" id=\"sk-estimator-id-6\" type=\"checkbox\" checked><label for=\"sk-estimator-id-6\" class=\"sk-toggleable__label sk-toggleable__label-arrow\">NearestNeighbors</label><div class=\"sk-toggleable__content\"><pre>NearestNeighbors(n_jobs=-1)</pre></div></div></div></div></div>"
     },
     "execution_count": 90,
     "metadata": {},
     "output_type": "execute_result"
    }
   ],
   "source": [
    "neigh = NearestNeighbors(n_neighbors=5, n_jobs=-1)\n",
    "neigh.fit(X)"
   ]
  },
  {
   "cell_type": "code",
   "execution_count": 91,
   "id": "34f216a5",
   "metadata": {
    "pycharm": {
     "name": "#%%\n"
    }
   },
   "outputs": [
    {
     "data": {
      "text/plain": "danceability             0.6310\nenergy                   0.3960\nkey                      0.0000\nloudness                -7.8000\nspeechiness              0.0606\nacousticness             0.1360\ninstrumentalness         0.0000\ntempo                   83.8510\nvalence                  0.6190\nduration            227573.0000\nName: 5737, dtype: float64"
     },
     "execution_count": 91,
     "metadata": {},
     "output_type": "execute_result"
    }
   ],
   "source": [
    "track_name = \"Closer\"\n",
    "\n",
    "track_index = df[df['title'] == track_name].index[0]\n",
    "\n",
    "track_data = X.iloc[track_index]\n",
    "\n",
    "track_data"
   ]
  },
  {
   "cell_type": "code",
   "execution_count": 92,
   "id": "6b6f5467",
   "metadata": {
    "pycharm": {
     "name": "#%%\n"
    }
   },
   "outputs": [
    {
     "data": {
      "text/plain": "array([[ 6.31000e-01,  3.96000e-01,  0.00000e+00, -7.80000e+00,\n         6.06000e-02,  1.36000e-01,  0.00000e+00,  8.38510e+01,\n         6.19000e-01,  2.27573e+05]])"
     },
     "execution_count": 92,
     "metadata": {},
     "output_type": "execute_result"
    }
   ],
   "source": [
    "# Input to model must be a 2D array\n",
    "# .reshape(1,-1) turns a 1D array into a 2D array\n",
    "# (basically just adds an extra set of square brackets at\n",
    "# the beginning and end of the array.)\n",
    "track_data = track_data.values.reshape(1,-1)\n",
    "\n",
    "track_data"
   ]
  },
  {
   "cell_type": "code",
   "execution_count": 98,
   "id": "c4b457ec",
   "metadata": {
    "pycharm": {
     "name": "#%%\n"
    }
   },
   "outputs": [
    {
     "name": "stderr",
     "output_type": "stream",
     "text": [
      "/Users/jasongersing/PycharmProjects/pythonProject/pythonProject4/JazzySpot/venv/lib/python3.10/site-packages/sklearn/base.py:450: UserWarning: X does not have valid feature names, but NearestNeighbors was fitted with feature names\n",
      "  warnings.warn(\n"
     ]
    },
    {
     "data": {
      "text/plain": "array([[ 3036, 10080,  9776,  5692,  3276,  5407]])"
     },
     "execution_count": 98,
     "metadata": {},
     "output_type": "execute_result"
    }
   ],
   "source": [
    "distances, song_indexes = neigh.kneighbors(track_data, 6)\n",
    "\n",
    "song_indexes"
   ]
  },
  {
   "cell_type": "code",
   "execution_count": 99,
   "id": "c7315b15",
   "metadata": {
    "pycharm": {
     "name": "#%%\n"
    }
   },
   "outputs": [
    {
     "name": "stdout",
     "output_type": "stream",
     "text": [
      "                          title          artist_name  \\\n",
      "5737      Let Me Get This Right                Ne-Yo   \n",
      "25899   Something To Talk About         Bonnie Raitt   \n",
      "24972                       745        Vince Staples   \n",
      "12467  The Night Is Still Young          Nicki Minaj   \n",
      "6246              Daddy's Lambo             Yelawolf   \n",
      "11710          Close Every Door  Andrew Lloyd Webber   \n",
      "\n",
      "                                               track_url  \n",
      "5737   https://open.spotify.com/track/507H9KxcMiS1YZv...  \n",
      "25899  https://open.spotify.com/track/6Ceejf3zBXvAhIY...  \n",
      "24972  https://open.spotify.com/track/2fRoKHW3lzNUKIU...  \n",
      "12467  https://open.spotify.com/track/75u9uswC5UMdtv4...  \n",
      "6246   https://open.spotify.com/track/49rnuaQOpoTeKe0...  \n",
      "11710  https://open.spotify.com/track/34cJE7clNsIKFmf...  \n"
     ]
    }
   ],
   "source": [
    "# 5 most similar songs\n",
    "for index in song_indexes:\n",
    "  print(df.iloc[index][['title', 'artist_name', 'track_url']])"
   ]
  },
  {
   "cell_type": "code",
   "execution_count": 100,
   "id": "bbd98030",
   "metadata": {
    "pycharm": {
     "name": "#%%\n"
    }
   },
   "outputs": [],
   "source": [
    "from joblib import dump"
   ]
  },
  {
   "cell_type": "code",
   "execution_count": 101,
   "outputs": [
    {
     "data": {
      "text/plain": "['spotify_rec_model.joblib']"
     },
     "execution_count": 101,
     "metadata": {},
     "output_type": "execute_result"
    }
   ],
   "source": [
    "dump(neigh, filename=\"spotify_rec_model.joblib\")"
   ],
   "metadata": {
    "collapsed": false,
    "pycharm": {
     "name": "#%%\n"
    }
   }
  },
  {
   "cell_type": "code",
   "execution_count": null,
   "outputs": [],
   "source": [],
   "metadata": {
    "collapsed": false,
    "pycharm": {
     "name": "#%%\n"
    }
   }
  }
 ],
 "metadata": {
  "kernelspec": {
   "display_name": "Python 3 (ipykernel)",
   "language": "python",
   "name": "python3"
  },
  "language_info": {
   "codemirror_mode": {
    "name": "ipython",
    "version": 3
   },
   "file_extension": ".py",
   "mimetype": "text/x-python",
   "name": "python",
   "nbconvert_exporter": "python",
   "pygments_lexer": "ipython3",
   "version": "3.9.7"
  }
 },
 "nbformat": 4,
 "nbformat_minor": 5
}
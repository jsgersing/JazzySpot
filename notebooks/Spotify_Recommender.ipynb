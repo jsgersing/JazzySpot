{
 "cells": [
  {
   "cell_type": "markdown",
   "metadata": {
    "id": "grXszmlPWj7j",
    "pycharm": {
     "name": "#%% md\n"
    }
   },
   "source": [
    "# Spotify Recommender System\n",
    "\n",
    "Dataset: <https://www.kaggle.com/datasets/rodolfofigueroa/spotify-12m-songs>\n",
    "\n",
    "If you're working in Google Colab it will take a few minutes to upload this dataset. It will be faster if you're able to work in a local Jupyter notebook (By the way, VS Code can run notebooks. Try saving a file with the extension `.ipynb` and then open it in VS Code). \n",
    "\n",
    "You might want to subset this dataset to something like 100k rows right off of the bat so that it's easier to work with. You can do all of your modeling with the 100k row version and then once you've got things working the way you want them to you can run the notebook once with the entire dataset. "
   ]
  },
  {
   "cell_type": "code",
   "execution_count": 4,
   "metadata": {
    "id": "J9IpcMC7WZpE",
    "pycharm": {
     "name": "#%%\n"
    }
   },
   "outputs": [],
   "source": [
    "import pandas as pd\n",
    "import numpy as np\n",
    "from sklearn.neighbors import NearestNeighbors\n",
    "from joblib import dump"
   ]
  },
  {
   "cell_type": "code",
   "execution_count": 9,
   "metadata": {
    "id": "QGPnCBIEf6Lf",
    "pycharm": {
     "name": "#%%\n"
    }
   },
   "outputs": [
    {
     "name": "stderr",
     "output_type": "stream",
     "text": [
      "/var/folders/5v/gct0mg8172jc6483gm_054pc0000gn/T/ipykernel_18447/1765150878.py:3: FutureWarning: The error_bad_lines argument has been deprecated and will be removed in a future version. Use on_bad_lines in the future.\n",
      "\n",
      "\n",
      "  df = pd.read_csv('/Users/jasongersing/PycharmProjects/pythonProject/pythonProject4/JazzySpot/tracks_features.csv', error_bad_lines=False)\n",
      "b'Skipping line 10001: expected 12 fields, saw 13\\nSkipping line 10002: expected 12 fields, saw 13\\nSkipping line 10003: expected 12 fields, saw 13\\nSkipping line 10004: expected 12 fields, saw 13\\nSkipping line 10005: expected 12 fields, saw 13\\nSkipping line 10006: expected 12 fields, saw 13\\nSkipping line 10007: expected 12 fields, saw 13\\nSkipping line 10008: expected 12 fields, saw 13\\nSkipping line 10009: expected 12 fields, saw 13\\nSkipping line 10010: expected 12 fields, saw 13\\nSkipping line 10011: expected 12 fields, saw 13\\nSkipping line 10012: expected 12 fields, saw 13\\nSkipping line 10013: expected 12 fields, saw 13\\nSkipping line 10014: expected 12 fields, saw 13\\nSkipping line 10015: expected 12 fields, saw 13\\nSkipping line 10016: expected 12 fields, saw 13\\nSkipping line 10017: expected 12 fields, saw 13\\nSkipping line 10018: expected 12 fields, saw 13\\nSkipping line 10019: expected 12 fields, saw 13\\nSkipping line 10020: expected 12 fields, saw 13\\nSkipping line 10021: expected 12 fields, saw 13\\nSkipping line 10022: expected 12 fields, saw 13\\nSkipping line 10023: expected 12 fields, saw 13\\nSkipping line 10024: expected 12 fields, saw 13\\nSkipping line 10025: expected 12 fields, saw 13\\nSkipping line 10026: expected 12 fields, saw 13\\nSkipping line 10027: expected 12 fields, saw 13\\nSkipping line 10028: expected 12 fields, saw 13\\nSkipping line 10029: expected 12 fields, saw 13\\nSkipping line 10030: expected 12 fields, saw 13\\nSkipping line 10031: expected 12 fields, saw 13\\nSkipping line 10032: expected 12 fields, saw 13\\nSkipping line 10033: expected 12 fields, saw 13\\nSkipping line 10034: expected 12 fields, saw 13\\nSkipping line 10035: expected 12 fields, saw 13\\nSkipping line 10036: expected 12 fields, saw 13\\nSkipping line 10037: expected 12 fields, saw 13\\nSkipping line 10038: expected 12 fields, saw 13\\nSkipping line 10039: expected 12 fields, saw 13\\nSkipping line 10040: expected 12 fields, saw 13\\nSkipping line 10041: expected 12 fields, saw 13\\nSkipping line 10042: expected 12 fields, saw 13\\nSkipping line 10043: expected 12 fields, saw 13\\nSkipping line 10044: expected 12 fields, saw 13\\nSkipping line 10045: expected 12 fields, saw 13\\nSkipping line 10046: expected 12 fields, saw 13\\nSkipping line 10047: expected 12 fields, saw 13\\nSkipping line 10048: expected 12 fields, saw 13\\nSkipping line 10049: expected 12 fields, saw 13\\nSkipping line 10050: expected 12 fields, saw 13\\nSkipping line 10051: expected 12 fields, saw 13\\nSkipping line 10052: expected 12 fields, saw 13\\nSkipping line 10053: expected 12 fields, saw 13\\nSkipping line 10054: expected 12 fields, saw 13\\nSkipping line 10055: expected 12 fields, saw 13\\nSkipping line 10056: expected 12 fields, saw 13\\nSkipping line 10057: expected 12 fields, saw 13\\nSkipping line 10058: expected 12 fields, saw 13\\nSkipping line 10059: expected 12 fields, saw 13\\nSkipping line 10060: expected 12 fields, saw 13\\nSkipping line 10061: expected 12 fields, saw 13\\nSkipping line 10062: expected 12 fields, saw 13\\nSkipping line 10063: expected 12 fields, saw 13\\nSkipping line 10064: expected 12 fields, saw 13\\nSkipping line 10065: expected 12 fields, saw 13\\nSkipping line 10066: expected 12 fields, saw 13\\nSkipping line 10067: expected 12 fields, saw 13\\nSkipping line 10068: expected 12 fields, saw 13\\nSkipping line 10069: expected 12 fields, saw 13\\nSkipping line 10070: expected 12 fields, saw 13\\nSkipping line 10071: expected 12 fields, saw 13\\nSkipping line 10072: expected 12 fields, saw 13\\nSkipping line 10073: expected 12 fields, saw 13\\nSkipping line 10074: expected 12 fields, saw 13\\nSkipping line 10075: expected 12 fields, saw 13\\nSkipping line 10076: expected 12 fields, saw 13\\nSkipping line 10077: expected 12 fields, saw 13\\nSkipping line 10078: expected 12 fields, saw 13\\nSkipping line 10079: expected 12 fields, saw 13\\nSkipping line 10080: expected 12 fields, saw 13\\nSkipping line 10081: expected 12 fields, saw 13\\nSkipping line 10082: expected 12 fields, saw 13\\nSkipping line 10083: expected 12 fields, saw 13\\nSkipping line 10084: expected 12 fields, saw 13\\nSkipping line 10085: expected 12 fields, saw 13\\nSkipping line 10086: expected 12 fields, saw 13\\nSkipping line 10087: expected 12 fields, saw 13\\nSkipping line 10088: expected 12 fields, saw 13\\nSkipping line 10089: expected 12 fields, saw 13\\nSkipping line 10090: expected 12 fields, saw 13\\nSkipping line 10091: expected 12 fields, saw 13\\nSkipping line 10092: expected 12 fields, saw 13\\nSkipping line 10093: expected 12 fields, saw 13\\nSkipping line 10094: expected 12 fields, saw 13\\nSkipping line 10095: expected 12 fields, saw 13\\nSkipping line 10096: expected 12 fields, saw 13\\nSkipping line 10097: expected 12 fields, saw 13\\nSkipping line 10098: expected 12 fields, saw 13\\nSkipping line 10099: expected 12 fields, saw 13\\nSkipping line 10100: expected 12 fields, saw 13\\nSkipping line 10101: expected 12 fields, saw 13\\nSkipping line 10102: expected 12 fields, saw 13\\nSkipping line 10103: expected 12 fields, saw 13\\nSkipping line 10104: expected 12 fields, saw 13\\nSkipping line 10105: expected 12 fields, saw 13\\nSkipping line 10106: expected 12 fields, saw 13\\nSkipping line 10107: expected 12 fields, saw 13\\nSkipping line 10108: expected 12 fields, saw 13\\nSkipping line 10109: expected 12 fields, saw 13\\nSkipping line 10110: expected 12 fields, saw 13\\nSkipping line 10111: expected 12 fields, saw 13\\nSkipping line 10112: expected 12 fields, saw 13\\nSkipping line 10113: expected 12 fields, saw 13\\nSkipping line 10114: expected 12 fields, saw 13\\nSkipping line 10115: expected 12 fields, saw 13\\nSkipping line 10116: expected 12 fields, saw 13\\nSkipping line 10117: expected 12 fields, saw 13\\nSkipping line 10118: expected 12 fields, saw 13\\nSkipping line 10119: expected 12 fields, saw 13\\nSkipping line 10120: expected 12 fields, saw 13\\nSkipping line 10121: expected 12 fields, saw 13\\nSkipping line 10122: expected 12 fields, saw 13\\nSkipping line 10123: expected 12 fields, saw 13\\nSkipping line 10124: expected 12 fields, saw 13\\nSkipping line 10125: expected 12 fields, saw 13\\nSkipping line 10126: expected 12 fields, saw 13\\nSkipping line 10127: expected 12 fields, saw 13\\nSkipping line 10128: expected 12 fields, saw 13\\nSkipping line 10129: expected 12 fields, saw 13\\nSkipping line 10130: expected 12 fields, saw 13\\nSkipping line 10131: expected 12 fields, saw 13\\nSkipping line 10132: expected 12 fields, saw 13\\nSkipping line 10133: expected 12 fields, saw 13\\nSkipping line 10134: expected 12 fields, saw 13\\nSkipping line 10135: expected 12 fields, saw 13\\nSkipping line 10136: expected 12 fields, saw 13\\nSkipping line 10137: expected 12 fields, saw 13\\nSkipping line 10138: expected 12 fields, saw 13\\nSkipping line 10139: expected 12 fields, saw 13\\nSkipping line 10140: expected 12 fields, saw 13\\nSkipping line 10141: expected 12 fields, saw 13\\nSkipping line 10142: expected 12 fields, saw 13\\nSkipping line 10143: expected 12 fields, saw 13\\nSkipping line 10144: expected 12 fields, saw 13\\nSkipping line 10145: expected 12 fields, saw 13\\nSkipping line 10146: expected 12 fields, saw 13\\nSkipping line 10147: expected 12 fields, saw 13\\nSkipping line 10148: expected 12 fields, saw 13\\nSkipping line 10149: expected 12 fields, saw 13\\nSkipping line 10150: expected 12 fields, saw 13\\nSkipping line 10151: expected 12 fields, saw 13\\nSkipping line 10152: expected 12 fields, saw 13\\nSkipping line 10153: expected 12 fields, saw 13\\nSkipping line 10154: expected 12 fields, saw 13\\nSkipping line 10155: expected 12 fields, saw 13\\nSkipping line 10156: expected 12 fields, saw 13\\nSkipping line 10157: expected 12 fields, saw 13\\nSkipping line 10158: expected 12 fields, saw 13\\nSkipping line 10159: expected 12 fields, saw 13\\nSkipping line 10160: expected 12 fields, saw 13\\nSkipping line 10161: expected 12 fields, saw 13\\nSkipping line 10162: expected 12 fields, saw 13\\nSkipping line 10163: expected 12 fields, saw 13\\nSkipping line 10164: expected 12 fields, saw 13\\nSkipping line 10165: expected 12 fields, saw 13\\nSkipping line 10166: expected 12 fields, saw 13\\nSkipping line 10167: expected 12 fields, saw 13\\nSkipping line 10168: expected 12 fields, saw 14\\nSkipping line 10169: expected 12 fields, saw 13\\nSkipping line 10170: expected 12 fields, saw 13\\nSkipping line 10171: expected 12 fields, saw 13\\nSkipping line 10172: expected 12 fields, saw 13\\nSkipping line 10173: expected 12 fields, saw 13\\nSkipping line 10174: expected 12 fields, saw 13\\nSkipping line 10175: expected 12 fields, saw 13\\nSkipping line 10176: expected 12 fields, saw 13\\nSkipping line 10177: expected 12 fields, saw 13\\nSkipping line 10178: expected 12 fields, saw 13\\nSkipping line 10179: expected 12 fields, saw 13\\nSkipping line 10180: expected 12 fields, saw 13\\nSkipping line 10181: expected 12 fields, saw 13\\nSkipping line 10182: expected 12 fields, saw 13\\nSkipping line 10183: expected 12 fields, saw 13\\nSkipping line 10184: expected 12 fields, saw 13\\nSkipping line 10185: expected 12 fields, saw 13\\nSkipping line 10186: expected 12 fields, saw 13\\nSkipping line 10187: expected 12 fields, saw 13\\nSkipping line 10188: expected 12 fields, saw 13\\nSkipping line 10189: expected 12 fields, saw 13\\nSkipping line 10190: expected 12 fields, saw 13\\nSkipping line 10191: expected 12 fields, saw 13\\nSkipping line 10192: expected 12 fields, saw 14\\nSkipping line 10193: expected 12 fields, saw 13\\nSkipping line 10194: expected 12 fields, saw 13\\nSkipping line 10195: expected 12 fields, saw 13\\nSkipping line 10196: expected 12 fields, saw 13\\nSkipping line 10197: expected 12 fields, saw 13\\nSkipping line 10198: expected 12 fields, saw 13\\nSkipping line 10199: expected 12 fields, saw 13\\nSkipping line 10200: expected 12 fields, saw 13\\nSkipping line 10201: expected 12 fields, saw 13\\nSkipping line 10202: expected 12 fields, saw 13\\nSkipping line 10203: expected 12 fields, saw 13\\nSkipping line 10204: expected 12 fields, saw 13\\nSkipping line 10205: expected 12 fields, saw 13\\nSkipping line 10206: expected 12 fields, saw 13\\nSkipping line 10207: expected 12 fields, saw 13\\nSkipping line 10208: expected 12 fields, saw 13\\nSkipping line 10209: expected 12 fields, saw 13\\nSkipping line 10210: expected 12 fields, saw 13\\nSkipping line 10211: expected 12 fields, saw 13\\nSkipping line 10212: expected 12 fields, saw 13\\nSkipping line 10213: expected 12 fields, saw 13\\nSkipping line 10214: expected 12 fields, saw 13\\nSkipping line 10215: expected 12 fields, saw 13\\nSkipping line 10216: expected 12 fields, saw 13\\nSkipping line 10217: expected 12 fields, saw 13\\nSkipping line 10218: expected 12 fields, saw 13\\nSkipping line 10219: expected 12 fields, saw 13\\nSkipping line 10220: expected 12 fields, saw 13\\nSkipping line 10221: expected 12 fields, saw 13\\nSkipping line 10222: expected 12 fields, saw 13\\nSkipping line 10223: expected 12 fields, saw 13\\nSkipping line 10224: expected 12 fields, saw 13\\nSkipping line 10225: expected 12 fields, saw 13\\nSkipping line 10226: expected 12 fields, saw 13\\nSkipping line 10227: expected 12 fields, saw 13\\nSkipping line 10228: expected 12 fields, saw 13\\nSkipping line 10229: expected 12 fields, saw 13\\nSkipping line 10230: expected 12 fields, saw 13\\nSkipping line 10231: expected 12 fields, saw 13\\nSkipping line 10232: expected 12 fields, saw 13\\nSkipping line 10233: expected 12 fields, saw 13\\nSkipping line 10234: expected 12 fields, saw 13\\nSkipping line 10235: expected 12 fields, saw 13\\nSkipping line 10236: expected 12 fields, saw 13\\nSkipping line 10237: expected 12 fields, saw 13\\nSkipping line 10238: expected 12 fields, saw 13\\nSkipping line 10239: expected 12 fields, saw 13\\nSkipping line 10240: expected 12 fields, saw 13\\nSkipping line 10241: expected 12 fields, saw 13\\nSkipping line 10242: expected 12 fields, saw 13\\nSkipping line 10243: expected 12 fields, saw 13\\nSkipping line 10244: expected 12 fields, saw 13\\nSkipping line 10245: expected 12 fields, saw 13\\nSkipping line 10246: expected 12 fields, saw 13\\nSkipping line 10247: expected 12 fields, saw 13\\nSkipping line 10248: expected 12 fields, saw 13\\nSkipping line 10249: expected 12 fields, saw 13\\nSkipping line 10250: expected 12 fields, saw 13\\nSkipping line 10251: expected 12 fields, saw 13\\nSkipping line 10252: expected 12 fields, saw 13\\nSkipping line 10253: expected 12 fields, saw 13\\nSkipping line 10254: expected 12 fields, saw 13\\nSkipping line 10255: expected 12 fields, saw 13\\nSkipping line 10256: expected 12 fields, saw 13\\nSkipping line 10257: expected 12 fields, saw 13\\nSkipping line 10258: expected 12 fields, saw 13\\nSkipping line 10259: expected 12 fields, saw 13\\nSkipping line 10260: expected 12 fields, saw 14\\nSkipping line 10261: expected 12 fields, saw 13\\nSkipping line 10262: expected 12 fields, saw 13\\nSkipping line 10263: expected 12 fields, saw 13\\nSkipping line 10264: expected 12 fields, saw 13\\nSkipping line 10265: expected 12 fields, saw 13\\nSkipping line 10266: expected 12 fields, saw 13\\nSkipping line 10267: expected 12 fields, saw 14\\nSkipping line 10268: expected 12 fields, saw 13\\nSkipping line 10269: expected 12 fields, saw 13\\nSkipping line 10270: expected 12 fields, saw 13\\nSkipping line 10271: expected 12 fields, saw 13\\nSkipping line 10272: expected 12 fields, saw 13\\nSkipping line 10273: expected 12 fields, saw 13\\nSkipping line 10274: expected 12 fields, saw 13\\nSkipping line 10275: expected 12 fields, saw 13\\nSkipping line 10276: expected 12 fields, saw 13\\nSkipping line 10277: expected 12 fields, saw 13\\nSkipping line 10278: expected 12 fields, saw 13\\nSkipping line 10279: expected 12 fields, saw 13\\nSkipping line 10280: expected 12 fields, saw 13\\nSkipping line 10281: expected 12 fields, saw 13\\nSkipping line 10282: expected 12 fields, saw 13\\nSkipping line 10283: expected 12 fields, saw 13\\nSkipping line 10284: expected 12 fields, saw 13\\nSkipping line 10285: expected 12 fields, saw 13\\nSkipping line 10286: expected 12 fields, saw 13\\nSkipping line 10287: expected 12 fields, saw 13\\nSkipping line 10288: expected 12 fields, saw 13\\nSkipping line 10289: expected 12 fields, saw 13\\nSkipping line 10290: expected 12 fields, saw 13\\nSkipping line 10291: expected 12 fields, saw 13\\nSkipping line 10292: expected 12 fields, saw 13\\nSkipping line 10293: expected 12 fields, saw 13\\nSkipping line 10294: expected 12 fields, saw 13\\nSkipping line 10295: expected 12 fields, saw 13\\nSkipping line 10296: expected 12 fields, saw 13\\nSkipping line 10297: expected 12 fields, saw 13\\nSkipping line 10298: expected 12 fields, saw 13\\nSkipping line 10299: expected 12 fields, saw 13\\nSkipping line 10300: expected 12 fields, saw 13\\nSkipping line 10301: expected 12 fields, saw 13\\nSkipping line 10302: expected 12 fields, saw 13\\nSkipping line 10303: expected 12 fields, saw 13\\nSkipping line 10304: expected 12 fields, saw 13\\nSkipping line 10305: expected 12 fields, saw 13\\nSkipping line 10306: expected 12 fields, saw 13\\nSkipping line 10307: expected 12 fields, saw 13\\nSkipping line 10308: expected 12 fields, saw 13\\nSkipping line 10309: expected 12 fields, saw 13\\nSkipping line 10310: expected 12 fields, saw 13\\nSkipping line 10311: expected 12 fields, saw 13\\nSkipping line 10312: expected 12 fields, saw 13\\nSkipping line 10313: expected 12 fields, saw 13\\nSkipping line 10314: expected 12 fields, saw 13\\nSkipping line 10315: expected 12 fields, saw 13\\nSkipping line 10316: expected 12 fields, saw 13\\nSkipping line 10317: expected 12 fields, saw 13\\nSkipping line 10318: expected 12 fields, saw 13\\nSkipping line 10319: expected 12 fields, saw 13\\nSkipping line 10320: expected 12 fields, saw 13\\nSkipping line 10321: expected 12 fields, saw 13\\nSkipping line 10322: expected 12 fields, saw 13\\nSkipping line 10323: expected 12 fields, saw 13\\nSkipping line 10324: expected 12 fields, saw 13\\nSkipping line 10325: expected 12 fields, saw 13\\nSkipping line 10326: expected 12 fields, saw 13\\nSkipping line 10327: expected 12 fields, saw 13\\nSkipping line 10328: expected 12 fields, saw 13\\nSkipping line 10329: expected 12 fields, saw 13\\nSkipping line 10330: expected 12 fields, saw 13\\nSkipping line 10331: expected 12 fields, saw 13\\nSkipping line 10332: expected 12 fields, saw 13\\nSkipping line 10333: expected 12 fields, saw 13\\nSkipping line 10334: expected 12 fields, saw 13\\nSkipping line 10335: expected 12 fields, saw 13\\nSkipping line 10336: expected 12 fields, saw 13\\nSkipping line 10337: expected 12 fields, saw 13\\nSkipping line 10338: expected 12 fields, saw 13\\nSkipping line 10339: expected 12 fields, saw 13\\nSkipping line 10340: expected 12 fields, saw 13\\nSkipping line 10341: expected 12 fields, saw 13\\nSkipping line 10342: expected 12 fields, saw 13\\nSkipping line 10343: expected 12 fields, saw 13\\nSkipping line 10344: expected 12 fields, saw 13\\nSkipping line 10345: expected 12 fields, saw 13\\nSkipping line 10346: expected 12 fields, saw 13\\nSkipping line 10347: expected 12 fields, saw 13\\nSkipping line 10348: expected 12 fields, saw 13\\nSkipping line 10349: expected 12 fields, saw 13\\nSkipping line 10350: expected 12 fields, saw 13\\nSkipping line 10351: expected 12 fields, saw 13\\nSkipping line 10352: expected 12 fields, saw 13\\nSkipping line 10353: expected 12 fields, saw 13\\nSkipping line 10354: expected 12 fields, saw 13\\nSkipping line 10355: expected 12 fields, saw 13\\nSkipping line 10356: expected 12 fields, saw 13\\nSkipping line 10357: expected 12 fields, saw 13\\nSkipping line 10358: expected 12 fields, saw 13\\nSkipping line 10359: expected 12 fields, saw 13\\nSkipping line 10360: expected 12 fields, saw 13\\nSkipping line 10361: expected 12 fields, saw 13\\nSkipping line 10362: expected 12 fields, saw 13\\nSkipping line 10363: expected 12 fields, saw 13\\nSkipping line 10364: expected 12 fields, saw 13\\nSkipping line 10365: expected 12 fields, saw 13\\nSkipping line 10366: expected 12 fields, saw 13\\nSkipping line 10367: expected 12 fields, saw 13\\nSkipping line 10368: expected 12 fields, saw 13\\nSkipping line 10369: expected 12 fields, saw 13\\nSkipping line 10370: expected 12 fields, saw 13\\nSkipping line 10371: expected 12 fields, saw 13\\nSkipping line 10372: expected 12 fields, saw 13\\nSkipping line 10373: expected 12 fields, saw 13\\nSkipping line 10374: expected 12 fields, saw 13\\nSkipping line 10375: expected 12 fields, saw 13\\nSkipping line 10376: expected 12 fields, saw 13\\nSkipping line 10377: expected 12 fields, saw 13\\nSkipping line 10378: expected 12 fields, saw 13\\nSkipping line 10379: expected 12 fields, saw 13\\nSkipping line 10380: expected 12 fields, saw 13\\nSkipping line 10381: expected 12 fields, saw 13\\nSkipping line 10382: expected 12 fields, saw 13\\nSkipping line 10383: expected 12 fields, saw 13\\nSkipping line 10384: expected 12 fields, saw 13\\nSkipping line 10385: expected 12 fields, saw 13\\nSkipping line 10386: expected 12 fields, saw 13\\nSkipping line 10387: expected 12 fields, saw 13\\nSkipping line 10388: expected 12 fields, saw 13\\nSkipping line 10389: expected 12 fields, saw 13\\nSkipping line 10390: expected 12 fields, saw 13\\nSkipping line 10391: expected 12 fields, saw 13\\nSkipping line 10392: expected 12 fields, saw 13\\nSkipping line 10393: expected 12 fields, saw 13\\nSkipping line 10394: expected 12 fields, saw 13\\nSkipping line 10395: expected 12 fields, saw 13\\nSkipping line 10396: expected 12 fields, saw 13\\nSkipping line 10397: expected 12 fields, saw 13\\nSkipping line 10398: expected 12 fields, saw 13\\nSkipping line 10399: expected 12 fields, saw 13\\nSkipping line 10400: expected 12 fields, saw 13\\nSkipping line 10401: expected 12 fields, saw 13\\nSkipping line 10402: expected 12 fields, saw 13\\nSkipping line 10403: expected 12 fields, saw 13\\nSkipping line 10404: expected 12 fields, saw 13\\nSkipping line 10405: expected 12 fields, saw 13\\nSkipping line 10406: expected 12 fields, saw 13\\nSkipping line 10407: expected 12 fields, saw 13\\nSkipping line 10408: expected 12 fields, saw 13\\nSkipping line 10409: expected 12 fields, saw 13\\nSkipping line 10410: expected 12 fields, saw 13\\nSkipping line 10411: expected 12 fields, saw 13\\nSkipping line 10412: expected 12 fields, saw 13\\nSkipping line 10413: expected 12 fields, saw 13\\nSkipping line 10414: expected 12 fields, saw 13\\nSkipping line 10415: expected 12 fields, saw 13\\nSkipping line 10416: expected 12 fields, saw 13\\nSkipping line 10417: expected 12 fields, saw 13\\nSkipping line 10418: expected 12 fields, saw 13\\nSkipping line 10419: expected 12 fields, saw 13\\nSkipping line 10420: expected 12 fields, saw 13\\nSkipping line 10421: expected 12 fields, saw 13\\nSkipping line 10422: expected 12 fields, saw 13\\nSkipping line 10423: expected 12 fields, saw 13\\nSkipping line 10424: expected 12 fields, saw 13\\nSkipping line 10425: expected 12 fields, saw 13\\nSkipping line 10426: expected 12 fields, saw 13\\nSkipping line 10427: expected 12 fields, saw 13\\nSkipping line 10428: expected 12 fields, saw 13\\nSkipping line 10429: expected 12 fields, saw 13\\nSkipping line 10430: expected 12 fields, saw 13\\nSkipping line 10431: expected 12 fields, saw 13\\nSkipping line 10432: expected 12 fields, saw 13\\nSkipping line 10433: expected 12 fields, saw 13\\nSkipping line 10434: expected 12 fields, saw 13\\nSkipping line 10435: expected 12 fields, saw 13\\nSkipping line 10436: expected 12 fields, saw 13\\nSkipping line 10437: expected 12 fields, saw 13\\nSkipping line 10438: expected 12 fields, saw 13\\nSkipping line 10439: expected 12 fields, saw 13\\nSkipping line 10440: expected 12 fields, saw 13\\nSkipping line 10441: expected 12 fields, saw 13\\nSkipping line 10442: expected 12 fields, saw 13\\nSkipping line 10443: expected 12 fields, saw 13\\nSkipping line 10444: expected 12 fields, saw 13\\nSkipping line 10445: expected 12 fields, saw 13\\nSkipping line 10446: expected 12 fields, saw 13\\nSkipping line 10447: expected 12 fields, saw 13\\nSkipping line 10448: expected 12 fields, saw 13\\nSkipping line 10449: expected 12 fields, saw 13\\nSkipping line 10450: expected 12 fields, saw 13\\nSkipping line 10451: expected 12 fields, saw 13\\nSkipping line 10452: expected 12 fields, saw 13\\nSkipping line 10453: expected 12 fields, saw 13\\nSkipping line 10454: expected 12 fields, saw 15\\nSkipping line 10455: expected 12 fields, saw 13\\nSkipping line 10456: expected 12 fields, saw 13\\nSkipping line 10457: expected 12 fields, saw 13\\nSkipping line 10458: expected 12 fields, saw 13\\nSkipping line 10459: expected 12 fields, saw 13\\nSkipping line 10460: expected 12 fields, saw 13\\nSkipping line 10461: expected 12 fields, saw 13\\nSkipping line 10462: expected 12 fields, saw 13\\nSkipping line 10463: expected 12 fields, saw 13\\nSkipping line 10464: expected 12 fields, saw 13\\nSkipping line 10465: expected 12 fields, saw 13\\nSkipping line 10466: expected 12 fields, saw 13\\nSkipping line 10467: expected 12 fields, saw 13\\nSkipping line 10468: expected 12 fields, saw 13\\nSkipping line 10469: expected 12 fields, saw 13\\nSkipping line 10470: expected 12 fields, saw 13\\nSkipping line 10471: expected 12 fields, saw 13\\nSkipping line 10472: expected 12 fields, saw 13\\nSkipping line 10473: expected 12 fields, saw 13\\nSkipping line 10474: expected 12 fields, saw 13\\nSkipping line 10475: expected 12 fields, saw 13\\nSkipping line 10476: expected 12 fields, saw 13\\nSkipping line 10477: expected 12 fields, saw 13\\nSkipping line 10478: expected 12 fields, saw 13\\nSkipping line 10479: expected 12 fields, saw 13\\nSkipping line 10480: expected 12 fields, saw 13\\nSkipping line 10481: expected 12 fields, saw 13\\nSkipping line 10482: expected 12 fields, saw 13\\nSkipping line 10483: expected 12 fields, saw 13\\nSkipping line 10484: expected 12 fields, saw 13\\nSkipping line 10485: expected 12 fields, saw 13\\nSkipping line 10486: expected 12 fields, saw 13\\nSkipping line 10487: expected 12 fields, saw 13\\nSkipping line 10488: expected 12 fields, saw 13\\nSkipping line 10489: expected 12 fields, saw 13\\nSkipping line 10490: expected 12 fields, saw 13\\nSkipping line 10491: expected 12 fields, saw 13\\nSkipping line 10492: expected 12 fields, saw 13\\nSkipping line 10493: expected 12 fields, saw 13\\nSkipping line 10494: expected 12 fields, saw 13\\nSkipping line 10495: expected 12 fields, saw 13\\nSkipping line 10496: expected 12 fields, saw 13\\nSkipping line 10497: expected 12 fields, saw 13\\nSkipping line 10498: expected 12 fields, saw 13\\nSkipping line 10499: expected 12 fields, saw 13\\nSkipping line 10500: expected 12 fields, saw 13\\nSkipping line 10501: expected 12 fields, saw 13\\nSkipping line 10502: expected 12 fields, saw 13\\nSkipping line 10503: expected 12 fields, saw 13\\nSkipping line 10504: expected 12 fields, saw 13\\nSkipping line 10505: expected 12 fields, saw 13\\nSkipping line 10506: expected 12 fields, saw 13\\nSkipping line 10507: expected 12 fields, saw 13\\nSkipping line 10508: expected 12 fields, saw 13\\nSkipping line 10509: expected 12 fields, saw 13\\nSkipping line 10510: expected 12 fields, saw 13\\nSkipping line 10511: expected 12 fields, saw 13\\nSkipping line 10512: expected 12 fields, saw 13\\nSkipping line 10513: expected 12 fields, saw 13\\nSkipping line 10514: expected 12 fields, saw 13\\nSkipping line 10515: expected 12 fields, saw 13\\nSkipping line 10516: expected 12 fields, saw 13\\nSkipping line 10517: expected 12 fields, saw 13\\nSkipping line 10518: expected 12 fields, saw 13\\nSkipping line 10519: expected 12 fields, saw 13\\nSkipping line 10520: expected 12 fields, saw 13\\nSkipping line 10521: expected 12 fields, saw 13\\nSkipping line 10522: expected 12 fields, saw 13\\nSkipping line 10523: expected 12 fields, saw 13\\nSkipping line 10524: expected 12 fields, saw 13\\nSkipping line 10525: expected 12 fields, saw 13\\nSkipping line 10526: expected 12 fields, saw 13\\nSkipping line 10527: expected 12 fields, saw 13\\nSkipping line 10528: expected 12 fields, saw 13\\nSkipping line 10529: expected 12 fields, saw 13\\nSkipping line 10530: expected 12 fields, saw 13\\nSkipping line 10531: expected 12 fields, saw 13\\nSkipping line 10532: expected 12 fields, saw 13\\nSkipping line 10533: expected 12 fields, saw 13\\nSkipping line 10534: expected 12 fields, saw 13\\nSkipping line 10535: expected 12 fields, saw 13\\nSkipping line 10536: expected 12 fields, saw 13\\nSkipping line 10537: expected 12 fields, saw 13\\nSkipping line 10538: expected 12 fields, saw 13\\nSkipping line 10539: expected 12 fields, saw 13\\nSkipping line 10540: expected 12 fields, saw 13\\nSkipping line 10541: expected 12 fields, saw 13\\nSkipping line 10542: expected 12 fields, saw 13\\nSkipping line 10543: expected 12 fields, saw 13\\nSkipping line 10544: expected 12 fields, saw 13\\nSkipping line 10545: expected 12 fields, saw 13\\nSkipping line 10546: expected 12 fields, saw 13\\nSkipping line 10547: expected 12 fields, saw 13\\nSkipping line 10548: expected 12 fields, saw 13\\nSkipping line 10549: expected 12 fields, saw 13\\nSkipping line 10550: expected 12 fields, saw 14\\nSkipping line 10551: expected 12 fields, saw 13\\nSkipping line 10552: expected 12 fields, saw 13\\nSkipping line 10553: expected 12 fields, saw 13\\nSkipping line 10554: expected 12 fields, saw 14\\nSkipping line 10555: expected 12 fields, saw 13\\nSkipping line 10556: expected 12 fields, saw 13\\nSkipping line 10557: expected 12 fields, saw 13\\nSkipping line 10558: expected 12 fields, saw 13\\nSkipping line 10559: expected 12 fields, saw 13\\nSkipping line 10560: expected 12 fields, saw 13\\nSkipping line 10561: expected 12 fields, saw 13\\nSkipping line 10562: expected 12 fields, saw 13\\nSkipping line 10563: expected 12 fields, saw 13\\nSkipping line 10564: expected 12 fields, saw 13\\nSkipping line 10565: expected 12 fields, saw 13\\nSkipping line 10566: expected 12 fields, saw 13\\nSkipping line 10567: expected 12 fields, saw 13\\nSkipping line 10568: expected 12 fields, saw 13\\nSkipping line 10569: expected 12 fields, saw 13\\nSkipping line 10570: expected 12 fields, saw 13\\nSkipping line 10571: expected 12 fields, saw 13\\nSkipping line 10572: expected 12 fields, saw 13\\nSkipping line 10573: expected 12 fields, saw 13\\nSkipping line 10574: expected 12 fields, saw 13\\nSkipping line 10575: expected 12 fields, saw 13\\nSkipping line 10576: expected 12 fields, saw 13\\nSkipping line 10577: expected 12 fields, saw 13\\nSkipping line 10578: expected 12 fields, saw 13\\nSkipping line 10579: expected 12 fields, saw 13\\nSkipping line 10580: expected 12 fields, saw 13\\nSkipping line 10581: expected 12 fields, saw 13\\nSkipping line 10582: expected 12 fields, saw 13\\nSkipping line 10583: expected 12 fields, saw 13\\nSkipping line 10584: expected 12 fields, saw 13\\nSkipping line 10585: expected 12 fields, saw 13\\nSkipping line 10586: expected 12 fields, saw 13\\nSkipping line 10587: expected 12 fields, saw 13\\nSkipping line 10588: expected 12 fields, saw 13\\nSkipping line 10589: expected 12 fields, saw 13\\nSkipping line 10590: expected 12 fields, saw 13\\nSkipping line 10591: expected 12 fields, saw 13\\nSkipping line 10592: expected 12 fields, saw 13\\nSkipping line 10593: expected 12 fields, saw 13\\nSkipping line 10594: expected 12 fields, saw 13\\nSkipping line 10595: expected 12 fields, saw 13\\nSkipping line 10596: expected 12 fields, saw 13\\nSkipping line 10597: expected 12 fields, saw 13\\nSkipping line 10598: expected 12 fields, saw 13\\nSkipping line 10599: expected 12 fields, saw 13\\nSkipping line 10600: expected 12 fields, saw 13\\nSkipping line 10601: expected 12 fields, saw 13\\nSkipping line 10602: expected 12 fields, saw 13\\nSkipping line 10603: expected 12 fields, saw 13\\nSkipping line 10604: expected 12 fields, saw 13\\nSkipping line 10605: expected 12 fields, saw 13\\nSkipping line 10606: expected 12 fields, saw 13\\nSkipping line 10607: expected 12 fields, saw 14\\nSkipping line 10608: expected 12 fields, saw 13\\nSkipping line 10609: expected 12 fields, saw 13\\nSkipping line 10610: expected 12 fields, saw 13\\nSkipping line 10611: expected 12 fields, saw 13\\nSkipping line 10612: expected 12 fields, saw 13\\nSkipping line 10613: expected 12 fields, saw 13\\nSkipping line 10614: expected 12 fields, saw 13\\nSkipping line 10615: expected 12 fields, saw 13\\nSkipping line 10616: expected 12 fields, saw 13\\nSkipping line 10617: expected 12 fields, saw 13\\nSkipping line 10618: expected 12 fields, saw 16\\nSkipping line 10619: expected 12 fields, saw 13\\nSkipping line 10620: expected 12 fields, saw 13\\nSkipping line 10621: expected 12 fields, saw 13\\nSkipping line 10622: expected 12 fields, saw 13\\nSkipping line 10623: expected 12 fields, saw 13\\nSkipping line 10624: expected 12 fields, saw 13\\nSkipping line 10625: expected 12 fields, saw 13\\nSkipping line 10626: expected 12 fields, saw 13\\nSkipping line 10627: expected 12 fields, saw 13\\nSkipping line 10628: expected 12 fields, saw 13\\nSkipping line 10629: expected 12 fields, saw 13\\nSkipping line 10630: expected 12 fields, saw 13\\nSkipping line 10631: expected 12 fields, saw 13\\nSkipping line 10632: expected 12 fields, saw 13\\nSkipping line 10633: expected 12 fields, saw 13\\nSkipping line 10634: expected 12 fields, saw 13\\nSkipping line 10635: expected 12 fields, saw 13\\nSkipping line 10636: expected 12 fields, saw 13\\nSkipping line 10637: expected 12 fields, saw 13\\nSkipping line 10638: expected 12 fields, saw 13\\nSkipping line 10639: expected 12 fields, saw 13\\nSkipping line 10640: expected 12 fields, saw 13\\nSkipping line 10641: expected 12 fields, saw 13\\nSkipping line 10642: expected 12 fields, saw 13\\nSkipping line 10643: expected 12 fields, saw 13\\nSkipping line 10644: expected 12 fields, saw 13\\nSkipping line 10645: expected 12 fields, saw 13\\nSkipping line 10646: expected 12 fields, saw 13\\nSkipping line 10647: expected 12 fields, saw 13\\nSkipping line 10648: expected 12 fields, saw 13\\nSkipping line 10649: expected 12 fields, saw 13\\nSkipping line 10650: expected 12 fields, saw 13\\nSkipping line 10651: expected 12 fields, saw 13\\nSkipping line 10652: expected 12 fields, saw 13\\nSkipping line 10653: expected 12 fields, saw 13\\nSkipping line 10654: expected 12 fields, saw 13\\nSkipping line 10655: expected 12 fields, saw 13\\nSkipping line 10656: expected 12 fields, saw 13\\nSkipping line 10657: expected 12 fields, saw 13\\nSkipping line 10658: expected 12 fields, saw 13\\nSkipping line 10659: expected 12 fields, saw 13\\nSkipping line 10660: expected 12 fields, saw 13\\nSkipping line 10661: expected 12 fields, saw 13\\nSkipping line 10662: expected 12 fields, saw 13\\nSkipping line 10663: expected 12 fields, saw 13\\nSkipping line 10664: expected 12 fields, saw 13\\nSkipping line 10665: expected 12 fields, saw 13\\nSkipping line 10666: expected 12 fields, saw 13\\nSkipping line 10667: expected 12 fields, saw 13\\nSkipping line 10668: expected 12 fields, saw 13\\nSkipping line 10669: expected 12 fields, saw 13\\nSkipping line 10670: expected 12 fields, saw 13\\nSkipping line 10671: expected 12 fields, saw 13\\nSkipping line 10672: expected 12 fields, saw 13\\nSkipping line 10673: expected 12 fields, saw 13\\nSkipping line 10674: expected 12 fields, saw 13\\nSkipping line 10675: expected 12 fields, saw 13\\nSkipping line 10676: expected 12 fields, saw 13\\nSkipping line 10677: expected 12 fields, saw 13\\nSkipping line 10678: expected 12 fields, saw 13\\nSkipping line 10679: expected 12 fields, saw 13\\nSkipping line 10680: expected 12 fields, saw 13\\nSkipping line 10681: expected 12 fields, saw 13\\nSkipping line 10682: expected 12 fields, saw 13\\nSkipping line 10683: expected 12 fields, saw 13\\nSkipping line 10684: expected 12 fields, saw 13\\nSkipping line 10685: expected 12 fields, saw 13\\nSkipping line 10686: expected 12 fields, saw 13\\nSkipping line 10687: expected 12 fields, saw 13\\nSkipping line 10688: expected 12 fields, saw 13\\nSkipping line 10689: expected 12 fields, saw 13\\nSkipping line 10690: expected 12 fields, saw 13\\nSkipping line 10691: expected 12 fields, saw 13\\nSkipping line 10692: expected 12 fields, saw 13\\nSkipping line 10693: expected 12 fields, saw 13\\nSkipping line 10694: expected 12 fields, saw 13\\nSkipping line 10695: expected 12 fields, saw 13\\nSkipping line 10696: expected 12 fields, saw 13\\nSkipping line 10697: expected 12 fields, saw 13\\nSkipping line 10698: expected 12 fields, saw 13\\nSkipping line 10699: expected 12 fields, saw 13\\nSkipping line 10700: expected 12 fields, saw 13\\nSkipping line 10701: expected 12 fields, saw 13\\nSkipping line 10702: expected 12 fields, saw 13\\nSkipping line 10703: expected 12 fields, saw 13\\nSkipping line 10704: expected 12 fields, saw 13\\nSkipping line 10705: expected 12 fields, saw 13\\nSkipping line 10706: expected 12 fields, saw 13\\nSkipping line 10707: expected 12 fields, saw 13\\nSkipping line 10708: expected 12 fields, saw 13\\nSkipping line 10709: expected 12 fields, saw 13\\nSkipping line 10710: expected 12 fields, saw 13\\nSkipping line 10711: expected 12 fields, saw 13\\nSkipping line 10712: expected 12 fields, saw 14\\nSkipping line 10713: expected 12 fields, saw 13\\nSkipping line 10714: expected 12 fields, saw 13\\nSkipping line 10715: expected 12 fields, saw 13\\nSkipping line 10716: expected 12 fields, saw 13\\nSkipping line 10717: expected 12 fields, saw 13\\nSkipping line 10718: expected 12 fields, saw 13\\nSkipping line 10719: expected 12 fields, saw 13\\nSkipping line 10720: expected 12 fields, saw 13\\nSkipping line 10721: expected 12 fields, saw 13\\nSkipping line 10722: expected 12 fields, saw 13\\nSkipping line 10723: expected 12 fields, saw 13\\nSkipping line 10724: expected 12 fields, saw 13\\nSkipping line 10725: expected 12 fields, saw 13\\nSkipping line 10726: expected 12 fields, saw 13\\nSkipping line 10727: expected 12 fields, saw 14\\nSkipping line 10728: expected 12 fields, saw 13\\nSkipping line 10729: expected 12 fields, saw 13\\nSkipping line 10730: expected 12 fields, saw 13\\nSkipping line 10731: expected 12 fields, saw 13\\nSkipping line 10732: expected 12 fields, saw 13\\nSkipping line 10733: expected 12 fields, saw 13\\nSkipping line 10734: expected 12 fields, saw 13\\nSkipping line 10735: expected 12 fields, saw 13\\nSkipping line 10736: expected 12 fields, saw 13\\nSkipping line 10737: expected 12 fields, saw 13\\nSkipping line 10738: expected 12 fields, saw 13\\nSkipping line 10739: expected 12 fields, saw 13\\nSkipping line 10740: expected 12 fields, saw 13\\nSkipping line 10741: expected 12 fields, saw 13\\nSkipping line 10742: expected 12 fields, saw 13\\nSkipping line 10743: expected 12 fields, saw 13\\nSkipping line 10744: expected 12 fields, saw 13\\nSkipping line 10745: expected 12 fields, saw 13\\nSkipping line 10746: expected 12 fields, saw 13\\nSkipping line 10747: expected 12 fields, saw 13\\nSkipping line 10748: expected 12 fields, saw 13\\nSkipping line 10749: expected 12 fields, saw 13\\nSkipping line 10750: expected 12 fields, saw 13\\nSkipping line 10751: expected 12 fields, saw 13\\nSkipping line 10752: expected 12 fields, saw 13\\nSkipping line 10753: expected 12 fields, saw 13\\nSkipping line 10754: expected 12 fields, saw 13\\nSkipping line 10755: expected 12 fields, saw 13\\nSkipping line 10756: expected 12 fields, saw 13\\nSkipping line 10757: expected 12 fields, saw 13\\nSkipping line 10758: expected 12 fields, saw 13\\nSkipping line 10759: expected 12 fields, saw 13\\nSkipping line 10760: expected 12 fields, saw 13\\nSkipping line 10761: expected 12 fields, saw 13\\nSkipping line 10762: expected 12 fields, saw 13\\nSkipping line 10763: expected 12 fields, saw 13\\nSkipping line 10764: expected 12 fields, saw 13\\nSkipping line 10765: expected 12 fields, saw 13\\nSkipping line 10766: expected 12 fields, saw 13\\nSkipping line 10767: expected 12 fields, saw 13\\nSkipping line 10768: expected 12 fields, saw 13\\nSkipping line 10769: expected 12 fields, saw 14\\nSkipping line 10770: expected 12 fields, saw 13\\nSkipping line 10771: expected 12 fields, saw 13\\nSkipping line 10772: expected 12 fields, saw 13\\nSkipping line 10773: expected 12 fields, saw 13\\nSkipping line 10774: expected 12 fields, saw 13\\nSkipping line 10775: expected 12 fields, saw 13\\nSkipping line 10776: expected 12 fields, saw 13\\nSkipping line 10777: expected 12 fields, saw 13\\nSkipping line 10778: expected 12 fields, saw 13\\nSkipping line 10779: expected 12 fields, saw 13\\nSkipping line 10780: expected 12 fields, saw 13\\nSkipping line 10781: expected 12 fields, saw 13\\nSkipping line 10782: expected 12 fields, saw 13\\nSkipping line 10783: expected 12 fields, saw 13\\nSkipping line 10784: expected 12 fields, saw 13\\nSkipping line 10785: expected 12 fields, saw 13\\nSkipping line 10786: expected 12 fields, saw 13\\nSkipping line 10787: expected 12 fields, saw 13\\nSkipping line 10788: expected 12 fields, saw 13\\nSkipping line 10789: expected 12 fields, saw 13\\nSkipping line 10790: expected 12 fields, saw 13\\nSkipping line 10791: expected 12 fields, saw 13\\nSkipping line 10792: expected 12 fields, saw 13\\nSkipping line 10793: expected 12 fields, saw 13\\nSkipping line 10794: expected 12 fields, saw 13\\nSkipping line 10795: expected 12 fields, saw 13\\nSkipping line 10796: expected 12 fields, saw 13\\nSkipping line 10797: expected 12 fields, saw 13\\nSkipping line 10798: expected 12 fields, saw 13\\nSkipping line 10799: expected 12 fields, saw 13\\nSkipping line 10800: expected 12 fields, saw 13\\nSkipping line 10801: expected 12 fields, saw 13\\nSkipping line 10802: expected 12 fields, saw 13\\nSkipping line 10803: expected 12 fields, saw 13\\nSkipping line 10804: expected 12 fields, saw 13\\nSkipping line 10805: expected 12 fields, saw 13\\nSkipping line 10806: expected 12 fields, saw 13\\nSkipping line 10807: expected 12 fields, saw 13\\nSkipping line 10808: expected 12 fields, saw 13\\nSkipping line 10809: expected 12 fields, saw 13\\nSkipping line 10810: expected 12 fields, saw 13\\nSkipping line 10811: expected 12 fields, saw 13\\nSkipping line 10812: expected 12 fields, saw 13\\nSkipping line 10813: expected 12 fields, saw 13\\nSkipping line 10814: expected 12 fields, saw 13\\nSkipping line 10815: expected 12 fields, saw 13\\nSkipping line 10816: expected 12 fields, saw 13\\nSkipping line 10817: expected 12 fields, saw 13\\nSkipping line 10818: expected 12 fields, saw 13\\nSkipping line 10819: expected 12 fields, saw 13\\nSkipping line 10820: expected 12 fields, saw 13\\nSkipping line 10821: expected 12 fields, saw 13\\nSkipping line 10822: expected 12 fields, saw 13\\nSkipping line 10823: expected 12 fields, saw 13\\nSkipping line 10824: expected 12 fields, saw 13\\nSkipping line 10825: expected 12 fields, saw 13\\nSkipping line 10826: expected 12 fields, saw 13\\nSkipping line 10827: expected 12 fields, saw 13\\nSkipping line 10828: expected 12 fields, saw 13\\nSkipping line 10829: expected 12 fields, saw 13\\nSkipping line 10830: expected 12 fields, saw 13\\nSkipping line 10831: expected 12 fields, saw 13\\nSkipping line 10832: expected 12 fields, saw 13\\nSkipping line 10833: expected 12 fields, saw 13\\nSkipping line 10834: expected 12 fields, saw 13\\nSkipping line 10835: expected 12 fields, saw 13\\nSkipping line 10836: expected 12 fields, saw 13\\nSkipping line 10837: expected 12 fields, saw 13\\nSkipping line 10838: expected 12 fields, saw 13\\nSkipping line 10839: expected 12 fields, saw 13\\nSkipping line 10840: expected 12 fields, saw 13\\nSkipping line 10841: expected 12 fields, saw 13\\nSkipping line 10842: expected 12 fields, saw 13\\nSkipping line 10843: expected 12 fields, saw 13\\nSkipping line 10844: expected 12 fields, saw 13\\nSkipping line 10845: expected 12 fields, saw 13\\nSkipping line 10846: expected 12 fields, saw 13\\nSkipping line 10847: expected 12 fields, saw 13\\nSkipping line 10848: expected 12 fields, saw 13\\nSkipping line 10849: expected 12 fields, saw 13\\nSkipping line 10850: expected 12 fields, saw 13\\nSkipping line 10851: expected 12 fields, saw 13\\nSkipping line 10852: expected 12 fields, saw 13\\nSkipping line 10853: expected 12 fields, saw 13\\nSkipping line 10854: expected 12 fields, saw 13\\nSkipping line 10855: expected 12 fields, saw 13\\nSkipping line 10856: expected 12 fields, saw 13\\nSkipping line 10857: expected 12 fields, saw 13\\nSkipping line 10858: expected 12 fields, saw 13\\nSkipping line 10859: expected 12 fields, saw 13\\nSkipping line 10860: expected 12 fields, saw 13\\nSkipping line 10861: expected 12 fields, saw 13\\nSkipping line 10862: expected 12 fields, saw 13\\nSkipping line 10863: expected 12 fields, saw 13\\nSkipping line 10864: expected 12 fields, saw 13\\nSkipping line 10865: expected 12 fields, saw 13\\nSkipping line 10866: expected 12 fields, saw 13\\nSkipping line 10867: expected 12 fields, saw 13\\nSkipping line 10868: expected 12 fields, saw 13\\nSkipping line 10869: expected 12 fields, saw 13\\nSkipping line 10870: expected 12 fields, saw 13\\nSkipping line 10871: expected 12 fields, saw 13\\nSkipping line 10872: expected 12 fields, saw 13\\nSkipping line 10873: expected 12 fields, saw 13\\nSkipping line 10874: expected 12 fields, saw 13\\nSkipping line 10875: expected 12 fields, saw 13\\nSkipping line 10876: expected 12 fields, saw 13\\nSkipping line 10877: expected 12 fields, saw 13\\nSkipping line 10878: expected 12 fields, saw 13\\nSkipping line 10879: expected 12 fields, saw 13\\nSkipping line 10880: expected 12 fields, saw 13\\nSkipping line 10881: expected 12 fields, saw 13\\nSkipping line 10882: expected 12 fields, saw 13\\nSkipping line 10883: expected 12 fields, saw 13\\nSkipping line 10884: expected 12 fields, saw 13\\nSkipping line 10885: expected 12 fields, saw 13\\nSkipping line 10886: expected 12 fields, saw 13\\nSkipping line 10887: expected 12 fields, saw 13\\nSkipping line 10888: expected 12 fields, saw 13\\nSkipping line 10889: expected 12 fields, saw 13\\nSkipping line 10890: expected 12 fields, saw 13\\nSkipping line 10891: expected 12 fields, saw 13\\nSkipping line 10892: expected 12 fields, saw 13\\nSkipping line 10893: expected 12 fields, saw 13\\nSkipping line 10894: expected 12 fields, saw 13\\nSkipping line 10895: expected 12 fields, saw 13\\nSkipping line 10896: expected 12 fields, saw 13\\nSkipping line 10897: expected 12 fields, saw 13\\nSkipping line 10898: expected 12 fields, saw 13\\nSkipping line 10899: expected 12 fields, saw 13\\nSkipping line 10900: expected 12 fields, saw 13\\nSkipping line 10901: expected 12 fields, saw 13\\nSkipping line 10902: expected 12 fields, saw 13\\nSkipping line 10903: expected 12 fields, saw 13\\nSkipping line 10904: expected 12 fields, saw 13\\nSkipping line 10905: expected 12 fields, saw 13\\nSkipping line 10906: expected 12 fields, saw 13\\nSkipping line 10907: expected 12 fields, saw 13\\nSkipping line 10908: expected 12 fields, saw 13\\nSkipping line 10909: expected 12 fields, saw 13\\nSkipping line 10910: expected 12 fields, saw 13\\nSkipping line 10911: expected 12 fields, saw 13\\nSkipping line 10912: expected 12 fields, saw 13\\nSkipping line 10913: expected 12 fields, saw 13\\nSkipping line 10914: expected 12 fields, saw 13\\nSkipping line 10915: expected 12 fields, saw 13\\nSkipping line 10916: expected 12 fields, saw 13\\nSkipping line 10917: expected 12 fields, saw 13\\nSkipping line 10918: expected 12 fields, saw 13\\nSkipping line 10919: expected 12 fields, saw 13\\nSkipping line 10920: expected 12 fields, saw 13\\nSkipping line 10921: expected 12 fields, saw 14\\nSkipping line 10922: expected 12 fields, saw 13\\nSkipping line 10923: expected 12 fields, saw 13\\nSkipping line 10924: expected 12 fields, saw 13\\nSkipping line 10925: expected 12 fields, saw 13\\nSkipping line 10926: expected 12 fields, saw 13\\nSkipping line 10927: expected 12 fields, saw 13\\nSkipping line 10928: expected 12 fields, saw 13\\nSkipping line 10929: expected 12 fields, saw 13\\nSkipping line 10930: expected 12 fields, saw 13\\nSkipping line 10931: expected 12 fields, saw 13\\nSkipping line 10932: expected 12 fields, saw 13\\nSkipping line 10933: expected 12 fields, saw 13\\nSkipping line 10934: expected 12 fields, saw 13\\nSkipping line 10935: expected 12 fields, saw 13\\nSkipping line 10936: expected 12 fields, saw 13\\nSkipping line 10937: expected 12 fields, saw 13\\nSkipping line 10938: expected 12 fields, saw 13\\nSkipping line 10939: expected 12 fields, saw 13\\nSkipping line 10940: expected 12 fields, saw 13\\nSkipping line 10941: expected 12 fields, saw 13\\nSkipping line 10942: expected 12 fields, saw 13\\nSkipping line 10943: expected 12 fields, saw 13\\nSkipping line 10944: expected 12 fields, saw 13\\nSkipping line 10945: expected 12 fields, saw 13\\nSkipping line 10946: expected 12 fields, saw 13\\nSkipping line 10947: expected 12 fields, saw 13\\nSkipping line 10948: expected 12 fields, saw 13\\nSkipping line 10949: expected 12 fields, saw 13\\nSkipping line 10950: expected 12 fields, saw 13\\nSkipping line 10951: expected 12 fields, saw 13\\nSkipping line 10952: expected 12 fields, saw 13\\nSkipping line 10953: expected 12 fields, saw 13\\nSkipping line 10954: expected 12 fields, saw 13\\nSkipping line 10955: expected 12 fields, saw 13\\nSkipping line 10956: expected 12 fields, saw 13\\nSkipping line 10957: expected 12 fields, saw 13\\nSkipping line 10958: expected 12 fields, saw 13\\nSkipping line 10959: expected 12 fields, saw 13\\nSkipping line 10960: expected 12 fields, saw 14\\nSkipping line 10961: expected 12 fields, saw 13\\nSkipping line 10962: expected 12 fields, saw 13\\nSkipping line 10963: expected 12 fields, saw 13\\nSkipping line 10964: expected 12 fields, saw 13\\nSkipping line 10965: expected 12 fields, saw 13\\nSkipping line 10966: expected 12 fields, saw 13\\nSkipping line 10967: expected 12 fields, saw 13\\nSkipping line 10968: expected 12 fields, saw 13\\nSkipping line 10969: expected 12 fields, saw 13\\nSkipping line 10970: expected 12 fields, saw 13\\nSkipping line 10971: expected 12 fields, saw 13\\nSkipping line 10972: expected 12 fields, saw 13\\nSkipping line 10973: expected 12 fields, saw 13\\nSkipping line 10974: expected 12 fields, saw 13\\nSkipping line 10975: expected 12 fields, saw 14\\nSkipping line 10976: expected 12 fields, saw 13\\nSkipping line 10977: expected 12 fields, saw 13\\nSkipping line 10978: expected 12 fields, saw 13\\nSkipping line 10979: expected 12 fields, saw 13\\nSkipping line 10980: expected 12 fields, saw 14\\nSkipping line 10981: expected 12 fields, saw 13\\nSkipping line 10982: expected 12 fields, saw 13\\nSkipping line 10983: expected 12 fields, saw 13\\nSkipping line 10984: expected 12 fields, saw 13\\nSkipping line 10985: expected 12 fields, saw 13\\nSkipping line 10986: expected 12 fields, saw 15\\nSkipping line 10987: expected 12 fields, saw 14\\nSkipping line 10988: expected 12 fields, saw 13\\nSkipping line 10989: expected 12 fields, saw 13\\nSkipping line 10990: expected 12 fields, saw 13\\nSkipping line 10991: expected 12 fields, saw 13\\nSkipping line 10992: expected 12 fields, saw 13\\nSkipping line 10993: expected 12 fields, saw 13\\nSkipping line 10994: expected 12 fields, saw 13\\nSkipping line 10995: expected 12 fields, saw 13\\nSkipping line 10996: expected 12 fields, saw 13\\nSkipping line 10997: expected 12 fields, saw 13\\nSkipping line 10998: expected 12 fields, saw 13\\nSkipping line 10999: expected 12 fields, saw 13\\nSkipping line 11000: expected 12 fields, saw 13\\nSkipping line 11001: expected 12 fields, saw 13\\nSkipping line 11002: expected 12 fields, saw 13\\nSkipping line 11003: expected 12 fields, saw 13\\nSkipping line 11004: expected 12 fields, saw 13\\nSkipping line 11005: expected 12 fields, saw 13\\nSkipping line 11006: expected 12 fields, saw 13\\nSkipping line 11007: expected 12 fields, saw 13\\nSkipping line 11008: expected 12 fields, saw 13\\nSkipping line 11009: expected 12 fields, saw 13\\nSkipping line 11010: expected 12 fields, saw 13\\nSkipping line 11011: expected 12 fields, saw 13\\nSkipping line 11012: expected 12 fields, saw 13\\nSkipping line 11013: expected 12 fields, saw 13\\nSkipping line 11014: expected 12 fields, saw 13\\nSkipping line 11015: expected 12 fields, saw 13\\nSkipping line 11016: expected 12 fields, saw 13\\nSkipping line 11017: expected 12 fields, saw 13\\nSkipping line 11018: expected 12 fields, saw 13\\nSkipping line 11019: expected 12 fields, saw 13\\nSkipping line 11020: expected 12 fields, saw 13\\nSkipping line 11021: expected 12 fields, saw 13\\nSkipping line 11022: expected 12 fields, saw 13\\nSkipping line 11023: expected 12 fields, saw 13\\nSkipping line 11024: expected 12 fields, saw 13\\nSkipping line 11025: expected 12 fields, saw 13\\nSkipping line 11026: expected 12 fields, saw 13\\nSkipping line 11027: expected 12 fields, saw 13\\nSkipping line 11028: expected 12 fields, saw 13\\nSkipping line 11029: expected 12 fields, saw 13\\nSkipping line 11030: expected 12 fields, saw 13\\nSkipping line 11031: expected 12 fields, saw 13\\nSkipping line 11032: expected 12 fields, saw 13\\nSkipping line 11033: expected 12 fields, saw 13\\nSkipping line 11034: expected 12 fields, saw 14\\nSkipping line 11035: expected 12 fields, saw 13\\nSkipping line 11036: expected 12 fields, saw 13\\nSkipping line 11037: expected 12 fields, saw 13\\nSkipping line 11038: expected 12 fields, saw 13\\nSkipping line 11039: expected 12 fields, saw 13\\nSkipping line 11040: expected 12 fields, saw 13\\nSkipping line 11041: expected 12 fields, saw 13\\nSkipping line 11042: expected 12 fields, saw 13\\nSkipping line 11043: expected 12 fields, saw 13\\nSkipping line 11044: expected 12 fields, saw 13\\nSkipping line 11045: expected 12 fields, saw 13\\nSkipping line 11046: expected 12 fields, saw 13\\nSkipping line 11047: expected 12 fields, saw 13\\nSkipping line 11048: expected 12 fields, saw 13\\nSkipping line 11049: expected 12 fields, saw 13\\nSkipping line 11050: expected 12 fields, saw 13\\nSkipping line 11051: expected 12 fields, saw 13\\nSkipping line 11052: expected 12 fields, saw 13\\nSkipping line 11053: expected 12 fields, saw 13\\nSkipping line 11054: expected 12 fields, saw 13\\nSkipping line 11055: expected 12 fields, saw 13\\nSkipping line 11056: expected 12 fields, saw 13\\nSkipping line 11057: expected 12 fields, saw 13\\nSkipping line 11058: expected 12 fields, saw 13\\nSkipping line 11059: expected 12 fields, saw 13\\nSkipping line 11060: expected 12 fields, saw 13\\nSkipping line 11061: expected 12 fields, saw 13\\nSkipping line 11062: expected 12 fields, saw 13\\nSkipping line 11063: expected 12 fields, saw 13\\nSkipping line 11064: expected 12 fields, saw 13\\nSkipping line 11065: expected 12 fields, saw 13\\nSkipping line 11066: expected 12 fields, saw 13\\nSkipping line 11067: expected 12 fields, saw 13\\nSkipping line 11068: expected 12 fields, saw 13\\nSkipping line 11069: expected 12 fields, saw 13\\nSkipping line 11070: expected 12 fields, saw 13\\nSkipping line 11071: expected 12 fields, saw 13\\nSkipping line 11072: expected 12 fields, saw 13\\nSkipping line 11073: expected 12 fields, saw 13\\nSkipping line 11074: expected 12 fields, saw 13\\nSkipping line 11075: expected 12 fields, saw 13\\nSkipping line 11076: expected 12 fields, saw 13\\nSkipping line 11077: expected 12 fields, saw 13\\nSkipping line 11078: expected 12 fields, saw 13\\nSkipping line 11079: expected 12 fields, saw 13\\nSkipping line 11080: expected 12 fields, saw 13\\nSkipping line 11081: expected 12 fields, saw 13\\nSkipping line 11082: expected 12 fields, saw 13\\nSkipping line 11083: expected 12 fields, saw 13\\nSkipping line 11084: expected 12 fields, saw 13\\nSkipping line 11085: expected 12 fields, saw 13\\nSkipping line 11086: expected 12 fields, saw 13\\nSkipping line 11087: expected 12 fields, saw 13\\nSkipping line 11088: expected 12 fields, saw 13\\nSkipping line 11089: expected 12 fields, saw 13\\nSkipping line 11090: expected 12 fields, saw 13\\nSkipping line 11091: expected 12 fields, saw 13\\nSkipping line 11092: expected 12 fields, saw 13\\nSkipping line 11093: expected 12 fields, saw 13\\nSkipping line 11094: expected 12 fields, saw 13\\nSkipping line 11095: expected 12 fields, saw 13\\nSkipping line 11096: expected 12 fields, saw 13\\nSkipping line 11097: expected 12 fields, saw 13\\nSkipping line 11098: expected 12 fields, saw 13\\nSkipping line 11099: expected 12 fields, saw 13\\nSkipping line 11100: expected 12 fields, saw 13\\nSkipping line 11101: expected 12 fields, saw 13\\nSkipping line 11102: expected 12 fields, saw 13\\nSkipping line 11103: expected 12 fields, saw 13\\nSkipping line 11104: expected 12 fields, saw 13\\nSkipping line 11105: expected 12 fields, saw 13\\nSkipping line 11106: expected 12 fields, saw 13\\nSkipping line 11107: expected 12 fields, saw 13\\nSkipping line 11108: expected 12 fields, saw 13\\nSkipping line 11109: expected 12 fields, saw 13\\nSkipping line 11110: expected 12 fields, saw 13\\nSkipping line 11111: expected 12 fields, saw 13\\nSkipping line 11112: expected 12 fields, saw 13\\nSkipping line 11113: expected 12 fields, saw 13\\nSkipping line 11114: expected 12 fields, saw 13\\nSkipping line 11115: expected 12 fields, saw 13\\nSkipping line 11116: expected 12 fields, saw 13\\nSkipping line 11117: expected 12 fields, saw 13\\nSkipping line 11118: expected 12 fields, saw 13\\nSkipping line 11119: expected 12 fields, saw 13\\nSkipping line 11120: expected 12 fields, saw 13\\nSkipping line 11121: expected 12 fields, saw 13\\nSkipping line 11122: expected 12 fields, saw 13\\nSkipping line 11123: expected 12 fields, saw 13\\nSkipping line 11124: expected 12 fields, saw 13\\nSkipping line 11125: expected 12 fields, saw 13\\nSkipping line 11126: expected 12 fields, saw 13\\nSkipping line 11127: expected 12 fields, saw 13\\nSkipping line 11128: expected 12 fields, saw 13\\nSkipping line 11129: expected 12 fields, saw 13\\nSkipping line 11130: expected 12 fields, saw 13\\nSkipping line 11131: expected 12 fields, saw 13\\nSkipping line 11132: expected 12 fields, saw 13\\nSkipping line 11133: expected 12 fields, saw 13\\nSkipping line 11134: expected 12 fields, saw 13\\nSkipping line 11135: expected 12 fields, saw 13\\nSkipping line 11136: expected 12 fields, saw 13\\nSkipping line 11137: expected 12 fields, saw 13\\nSkipping line 11138: expected 12 fields, saw 13\\nSkipping line 11139: expected 12 fields, saw 13\\nSkipping line 11140: expected 12 fields, saw 13\\nSkipping line 11141: expected 12 fields, saw 13\\nSkipping line 11142: expected 12 fields, saw 13\\nSkipping line 11143: expected 12 fields, saw 13\\nSkipping line 11144: expected 12 fields, saw 13\\nSkipping line 11145: expected 12 fields, saw 13\\nSkipping line 11146: expected 12 fields, saw 13\\nSkipping line 11147: expected 12 fields, saw 13\\nSkipping line 11148: expected 12 fields, saw 14\\nSkipping line 11149: expected 12 fields, saw 13\\nSkipping line 11150: expected 12 fields, saw 13\\nSkipping line 11151: expected 12 fields, saw 13\\nSkipping line 11152: expected 12 fields, saw 13\\nSkipping line 11153: expected 12 fields, saw 13\\nSkipping line 11154: expected 12 fields, saw 13\\nSkipping line 11155: expected 12 fields, saw 13\\nSkipping line 11156: expected 12 fields, saw 13\\nSkipping line 11157: expected 12 fields, saw 13\\nSkipping line 11158: expected 12 fields, saw 13\\nSkipping line 11159: expected 12 fields, saw 13\\nSkipping line 11160: expected 12 fields, saw 13\\nSkipping line 11161: expected 12 fields, saw 13\\nSkipping line 11162: expected 12 fields, saw 13\\nSkipping line 11163: expected 12 fields, saw 13\\nSkipping line 11164: expected 12 fields, saw 13\\nSkipping line 11165: expected 12 fields, saw 13\\nSkipping line 11166: expected 12 fields, saw 13\\nSkipping line 11167: expected 12 fields, saw 13\\nSkipping line 11168: expected 12 fields, saw 13\\nSkipping line 11169: expected 12 fields, saw 13\\nSkipping line 11170: expected 12 fields, saw 13\\nSkipping line 11171: expected 12 fields, saw 13\\nSkipping line 11172: expected 12 fields, saw 13\\nSkipping line 11173: expected 12 fields, saw 13\\nSkipping line 11174: expected 12 fields, saw 13\\nSkipping line 11175: expected 12 fields, saw 13\\nSkipping line 11176: expected 12 fields, saw 13\\nSkipping line 11177: expected 12 fields, saw 13\\nSkipping line 11178: expected 12 fields, saw 13\\nSkipping line 11179: expected 12 fields, saw 13\\nSkipping line 11180: expected 12 fields, saw 13\\nSkipping line 11181: expected 12 fields, saw 13\\nSkipping line 11182: expected 12 fields, saw 13\\nSkipping line 11183: expected 12 fields, saw 13\\nSkipping line 11184: expected 12 fields, saw 13\\nSkipping line 11185: expected 12 fields, saw 13\\nSkipping line 11186: expected 12 fields, saw 13\\nSkipping line 11187: expected 12 fields, saw 13\\nSkipping line 11188: expected 12 fields, saw 16\\nSkipping line 11189: expected 12 fields, saw 13\\nSkipping line 11190: expected 12 fields, saw 13\\nSkipping line 11191: expected 12 fields, saw 13\\nSkipping line 11192: expected 12 fields, saw 13\\nSkipping line 11193: expected 12 fields, saw 13\\nSkipping line 11194: expected 12 fields, saw 13\\nSkipping line 11195: expected 12 fields, saw 13\\nSkipping line 11196: expected 12 fields, saw 13\\nSkipping line 11197: expected 12 fields, saw 13\\nSkipping line 11198: expected 12 fields, saw 13\\nSkipping line 11199: expected 12 fields, saw 13\\nSkipping line 11200: expected 12 fields, saw 13\\nSkipping line 11201: expected 12 fields, saw 13\\nSkipping line 11202: expected 12 fields, saw 13\\nSkipping line 11203: expected 12 fields, saw 13\\nSkipping line 11204: expected 12 fields, saw 13\\nSkipping line 11205: expected 12 fields, saw 13\\nSkipping line 11206: expected 12 fields, saw 13\\nSkipping line 11207: expected 12 fields, saw 13\\nSkipping line 11208: expected 12 fields, saw 13\\nSkipping line 11209: expected 12 fields, saw 13\\nSkipping line 11210: expected 12 fields, saw 13\\nSkipping line 11211: expected 12 fields, saw 13\\nSkipping line 11212: expected 12 fields, saw 13\\nSkipping line 11213: expected 12 fields, saw 13\\nSkipping line 11214: expected 12 fields, saw 13\\nSkipping line 11215: expected 12 fields, saw 13\\nSkipping line 11216: expected 12 fields, saw 13\\nSkipping line 11217: expected 12 fields, saw 13\\nSkipping line 11218: expected 12 fields, saw 13\\nSkipping line 11219: expected 12 fields, saw 13\\nSkipping line 11220: expected 12 fields, saw 13\\nSkipping line 11221: expected 12 fields, saw 14\\nSkipping line 11222: expected 12 fields, saw 13\\nSkipping line 11223: expected 12 fields, saw 13\\nSkipping line 11224: expected 12 fields, saw 13\\nSkipping line 11225: expected 12 fields, saw 13\\nSkipping line 11226: expected 12 fields, saw 13\\nSkipping line 11227: expected 12 fields, saw 13\\nSkipping line 11228: expected 12 fields, saw 13\\nSkipping line 11229: expected 12 fields, saw 13\\nSkipping line 11230: expected 12 fields, saw 13\\nSkipping line 11231: expected 12 fields, saw 13\\nSkipping line 11232: expected 12 fields, saw 13\\nSkipping line 11233: expected 12 fields, saw 13\\nSkipping line 11234: expected 12 fields, saw 13\\nSkipping line 11235: expected 12 fields, saw 13\\nSkipping line 11236: expected 12 fields, saw 13\\nSkipping line 11237: expected 12 fields, saw 13\\nSkipping line 11238: expected 12 fields, saw 13\\nSkipping line 11239: expected 12 fields, saw 13\\nSkipping line 11240: expected 12 fields, saw 13\\nSkipping line 11241: expected 12 fields, saw 13\\nSkipping line 11242: expected 12 fields, saw 13\\nSkipping line 11243: expected 12 fields, saw 13\\nSkipping line 11244: expected 12 fields, saw 13\\nSkipping line 11245: expected 12 fields, saw 13\\nSkipping line 11246: expected 12 fields, saw 13\\nSkipping line 11247: expected 12 fields, saw 13\\nSkipping line 11248: expected 12 fields, saw 13\\nSkipping line 11249: expected 12 fields, saw 13\\nSkipping line 11250: expected 12 fields, saw 13\\nSkipping line 11251: expected 12 fields, saw 13\\nSkipping line 11252: expected 12 fields, saw 13\\nSkipping line 11253: expected 12 fields, saw 13\\nSkipping line 11254: expected 12 fields, saw 13\\nSkipping line 11255: expected 12 fields, saw 13\\nSkipping line 11256: expected 12 fields, saw 13\\nSkipping line 11257: expected 12 fields, saw 13\\nSkipping line 11258: expected 12 fields, saw 13\\nSkipping line 11259: expected 12 fields, saw 13\\nSkipping line 11260: expected 12 fields, saw 13\\nSkipping line 11261: expected 12 fields, saw 13\\nSkipping line 11262: expected 12 fields, saw 13\\nSkipping line 11263: expected 12 fields, saw 13\\nSkipping line 11264: expected 12 fields, saw 13\\nSkipping line 11265: expected 12 fields, saw 13\\nSkipping line 11266: expected 12 fields, saw 13\\nSkipping line 11267: expected 12 fields, saw 13\\nSkipping line 11268: expected 12 fields, saw 13\\nSkipping line 11269: expected 12 fields, saw 13\\nSkipping line 11270: expected 12 fields, saw 13\\nSkipping line 11271: expected 12 fields, saw 13\\nSkipping line 11272: expected 12 fields, saw 13\\nSkipping line 11273: expected 12 fields, saw 13\\nSkipping line 11274: expected 12 fields, saw 13\\nSkipping line 11275: expected 12 fields, saw 13\\nSkipping line 11276: expected 12 fields, saw 13\\nSkipping line 11277: expected 12 fields, saw 13\\nSkipping line 11278: expected 12 fields, saw 13\\nSkipping line 11279: expected 12 fields, saw 13\\nSkipping line 11280: expected 12 fields, saw 13\\nSkipping line 11281: expected 12 fields, saw 13\\nSkipping line 11282: expected 12 fields, saw 13\\nSkipping line 11283: expected 12 fields, saw 15\\nSkipping line 11284: expected 12 fields, saw 13\\nSkipping line 11285: expected 12 fields, saw 13\\nSkipping line 11286: expected 12 fields, saw 13\\nSkipping line 11287: expected 12 fields, saw 13\\nSkipping line 11288: expected 12 fields, saw 13\\nSkipping line 11289: expected 12 fields, saw 13\\nSkipping line 11290: expected 12 fields, saw 13\\nSkipping line 11291: expected 12 fields, saw 13\\nSkipping line 11292: expected 12 fields, saw 13\\nSkipping line 11293: expected 12 fields, saw 13\\nSkipping line 11294: expected 12 fields, saw 13\\nSkipping line 11295: expected 12 fields, saw 13\\nSkipping line 11296: expected 12 fields, saw 13\\nSkipping line 11297: expected 12 fields, saw 13\\nSkipping line 11298: expected 12 fields, saw 13\\nSkipping line 11299: expected 12 fields, saw 13\\nSkipping line 11300: expected 12 fields, saw 13\\nSkipping line 11301: expected 12 fields, saw 13\\nSkipping line 11302: expected 12 fields, saw 13\\nSkipping line 11303: expected 12 fields, saw 13\\nSkipping line 11304: expected 12 fields, saw 13\\nSkipping line 11305: expected 12 fields, saw 13\\nSkipping line 11306: expected 12 fields, saw 13\\nSkipping line 11307: expected 12 fields, saw 13\\nSkipping line 11308: expected 12 fields, saw 13\\nSkipping line 11309: expected 12 fields, saw 13\\nSkipping line 11310: expected 12 fields, saw 13\\nSkipping line 11311: expected 12 fields, saw 13\\nSkipping line 11312: expected 12 fields, saw 13\\nSkipping line 11313: expected 12 fields, saw 13\\nSkipping line 11314: expected 12 fields, saw 13\\nSkipping line 11315: expected 12 fields, saw 13\\nSkipping line 11316: expected 12 fields, saw 13\\nSkipping line 11317: expected 12 fields, saw 13\\nSkipping line 11318: expected 12 fields, saw 13\\nSkipping line 11319: expected 12 fields, saw 13\\nSkipping line 11320: expected 12 fields, saw 13\\nSkipping line 11321: expected 12 fields, saw 13\\nSkipping line 11322: expected 12 fields, saw 13\\nSkipping line 11323: expected 12 fields, saw 13\\nSkipping line 11324: expected 12 fields, saw 13\\nSkipping line 11325: expected 12 fields, saw 13\\nSkipping line 11326: expected 12 fields, saw 13\\nSkipping line 11327: expected 12 fields, saw 13\\nSkipping line 11328: expected 12 fields, saw 13\\nSkipping line 11329: expected 12 fields, saw 13\\nSkipping line 11330: expected 12 fields, saw 13\\nSkipping line 11331: expected 12 fields, saw 13\\nSkipping line 11332: expected 12 fields, saw 13\\nSkipping line 11333: expected 12 fields, saw 13\\nSkipping line 11334: expected 12 fields, saw 13\\nSkipping line 11335: expected 12 fields, saw 13\\nSkipping line 11336: expected 12 fields, saw 13\\nSkipping line 11337: expected 12 fields, saw 13\\nSkipping line 11338: expected 12 fields, saw 14\\nSkipping line 11339: expected 12 fields, saw 13\\nSkipping line 11340: expected 12 fields, saw 14\\nSkipping line 11341: expected 12 fields, saw 13\\nSkipping line 11342: expected 12 fields, saw 13\\nSkipping line 11343: expected 12 fields, saw 13\\nSkipping line 11344: expected 12 fields, saw 13\\nSkipping line 11345: expected 12 fields, saw 13\\nSkipping line 11346: expected 12 fields, saw 13\\nSkipping line 11347: expected 12 fields, saw 14\\nSkipping line 11348: expected 12 fields, saw 13\\nSkipping line 11349: expected 12 fields, saw 13\\nSkipping line 11350: expected 12 fields, saw 13\\nSkipping line 11351: expected 12 fields, saw 13\\nSkipping line 11352: expected 12 fields, saw 13\\nSkipping line 11353: expected 12 fields, saw 13\\nSkipping line 11354: expected 12 fields, saw 13\\nSkipping line 11355: expected 12 fields, saw 13\\nSkipping line 11356: expected 12 fields, saw 13\\nSkipping line 11357: expected 12 fields, saw 13\\nSkipping line 11358: expected 12 fields, saw 13\\nSkipping line 11359: expected 12 fields, saw 13\\nSkipping line 11360: expected 12 fields, saw 13\\nSkipping line 11361: expected 12 fields, saw 13\\nSkipping line 11362: expected 12 fields, saw 13\\nSkipping line 11363: expected 12 fields, saw 13\\nSkipping line 11364: expected 12 fields, saw 13\\nSkipping line 11365: expected 12 fields, saw 13\\nSkipping line 11366: expected 12 fields, saw 13\\nSkipping line 11367: expected 12 fields, saw 13\\nSkipping line 11368: expected 12 fields, saw 13\\nSkipping line 11369: expected 12 fields, saw 13\\nSkipping line 11370: expected 12 fields, saw 13\\nSkipping line 11371: expected 12 fields, saw 13\\nSkipping line 11372: expected 12 fields, saw 13\\nSkipping line 11373: expected 12 fields, saw 13\\nSkipping line 11374: expected 12 fields, saw 13\\nSkipping line 11375: expected 12 fields, saw 13\\nSkipping line 11376: expected 12 fields, saw 13\\nSkipping line 11377: expected 12 fields, saw 13\\nSkipping line 11378: expected 12 fields, saw 13\\nSkipping line 11379: expected 12 fields, saw 13\\nSkipping line 11380: expected 12 fields, saw 13\\nSkipping line 11381: expected 12 fields, saw 13\\nSkipping line 11382: expected 12 fields, saw 13\\nSkipping line 11383: expected 12 fields, saw 13\\nSkipping line 11384: expected 12 fields, saw 13\\nSkipping line 11385: expected 12 fields, saw 13\\nSkipping line 11386: expected 12 fields, saw 13\\nSkipping line 11387: expected 12 fields, saw 13\\nSkipping line 11388: expected 12 fields, saw 13\\nSkipping line 11389: expected 12 fields, saw 13\\nSkipping line 11390: expected 12 fields, saw 13\\nSkipping line 11391: expected 12 fields, saw 13\\nSkipping line 11392: expected 12 fields, saw 13\\nSkipping line 11393: expected 12 fields, saw 13\\nSkipping line 11394: expected 12 fields, saw 13\\nSkipping line 11395: expected 12 fields, saw 13\\nSkipping line 11396: expected 12 fields, saw 13\\nSkipping line 11397: expected 12 fields, saw 13\\nSkipping line 11398: expected 12 fields, saw 13\\nSkipping line 11399: expected 12 fields, saw 13\\nSkipping line 11400: expected 12 fields, saw 13\\nSkipping line 11401: expected 12 fields, saw 13\\nSkipping line 11402: expected 12 fields, saw 13\\nSkipping line 11403: expected 12 fields, saw 13\\nSkipping line 11404: expected 12 fields, saw 13\\nSkipping line 11405: expected 12 fields, saw 13\\nSkipping line 11406: expected 12 fields, saw 13\\nSkipping line 11407: expected 12 fields, saw 13\\nSkipping line 11408: expected 12 fields, saw 13\\nSkipping line 11409: expected 12 fields, saw 13\\nSkipping line 11410: expected 12 fields, saw 13\\nSkipping line 11411: expected 12 fields, saw 13\\nSkipping line 11412: expected 12 fields, saw 13\\nSkipping line 11413: expected 12 fields, saw 13\\nSkipping line 11414: expected 12 fields, saw 13\\nSkipping line 11415: expected 12 fields, saw 13\\nSkipping line 11416: expected 12 fields, saw 13\\nSkipping line 11417: expected 12 fields, saw 13\\nSkipping line 11418: expected 12 fields, saw 13\\nSkipping line 11419: expected 12 fields, saw 13\\nSkipping line 11420: expected 12 fields, saw 13\\nSkipping line 11421: expected 12 fields, saw 13\\nSkipping line 11422: expected 12 fields, saw 13\\nSkipping line 11423: expected 12 fields, saw 13\\nSkipping line 11424: expected 12 fields, saw 13\\nSkipping line 11425: expected 12 fields, saw 13\\nSkipping line 11426: expected 12 fields, saw 13\\nSkipping line 11427: expected 12 fields, saw 13\\nSkipping line 11428: expected 12 fields, saw 13\\nSkipping line 11429: expected 12 fields, saw 13\\nSkipping line 11430: expected 12 fields, saw 13\\nSkipping line 11431: expected 12 fields, saw 13\\nSkipping line 11432: expected 12 fields, saw 13\\nSkipping line 11433: expected 12 fields, saw 13\\nSkipping line 11434: expected 12 fields, saw 13\\nSkipping line 11435: expected 12 fields, saw 13\\nSkipping line 11436: expected 12 fields, saw 13\\nSkipping line 11437: expected 12 fields, saw 13\\nSkipping line 11438: expected 12 fields, saw 13\\nSkipping line 11439: expected 12 fields, saw 13\\nSkipping line 11440: expected 12 fields, saw 13\\nSkipping line 11441: expected 12 fields, saw 13\\nSkipping line 11442: expected 12 fields, saw 13\\nSkipping line 11443: expected 12 fields, saw 13\\nSkipping line 11444: expected 12 fields, saw 13\\nSkipping line 11445: expected 12 fields, saw 13\\nSkipping line 11446: expected 12 fields, saw 13\\nSkipping line 11447: expected 12 fields, saw 13\\nSkipping line 11448: expected 12 fields, saw 13\\nSkipping line 11449: expected 12 fields, saw 13\\nSkipping line 11450: expected 12 fields, saw 13\\nSkipping line 11451: expected 12 fields, saw 13\\nSkipping line 11452: expected 12 fields, saw 13\\nSkipping line 11453: expected 12 fields, saw 13\\nSkipping line 11454: expected 12 fields, saw 13\\nSkipping line 11455: expected 12 fields, saw 13\\nSkipping line 11456: expected 12 fields, saw 13\\nSkipping line 11457: expected 12 fields, saw 13\\nSkipping line 11458: expected 12 fields, saw 13\\nSkipping line 11459: expected 12 fields, saw 14\\nSkipping line 11460: expected 12 fields, saw 13\\nSkipping line 11461: expected 12 fields, saw 13\\nSkipping line 11462: expected 12 fields, saw 13\\nSkipping line 11463: expected 12 fields, saw 13\\nSkipping line 11464: expected 12 fields, saw 13\\nSkipping line 11465: expected 12 fields, saw 13\\nSkipping line 11466: expected 12 fields, saw 13\\nSkipping line 11467: expected 12 fields, saw 13\\nSkipping line 11468: expected 12 fields, saw 13\\nSkipping line 11469: expected 12 fields, saw 13\\nSkipping line 11470: expected 12 fields, saw 13\\nSkipping line 11471: expected 12 fields, saw 13\\nSkipping line 11472: expected 12 fields, saw 13\\nSkipping line 11473: expected 12 fields, saw 13\\nSkipping line 11474: expected 12 fields, saw 13\\nSkipping line 11475: expected 12 fields, saw 13\\nSkipping line 11476: expected 12 fields, saw 13\\nSkipping line 11477: expected 12 fields, saw 13\\nSkipping line 11478: expected 12 fields, saw 13\\nSkipping line 11479: expected 12 fields, saw 13\\nSkipping line 11480: expected 12 fields, saw 13\\nSkipping line 11481: expected 12 fields, saw 15\\nSkipping line 11482: expected 12 fields, saw 13\\nSkipping line 11483: expected 12 fields, saw 13\\nSkipping line 11484: expected 12 fields, saw 13\\nSkipping line 11485: expected 12 fields, saw 13\\nSkipping line 11486: expected 12 fields, saw 13\\nSkipping line 11487: expected 12 fields, saw 13\\nSkipping line 11488: expected 12 fields, saw 13\\nSkipping line 11489: expected 12 fields, saw 13\\nSkipping line 11490: expected 12 fields, saw 13\\nSkipping line 11491: expected 12 fields, saw 13\\nSkipping line 11492: expected 12 fields, saw 13\\nSkipping line 11493: expected 12 fields, saw 13\\nSkipping line 11494: expected 12 fields, saw 13\\nSkipping line 11495: expected 12 fields, saw 13\\nSkipping line 11496: expected 12 fields, saw 13\\nSkipping line 11497: expected 12 fields, saw 13\\nSkipping line 11498: expected 12 fields, saw 13\\nSkipping line 11499: expected 12 fields, saw 13\\nSkipping line 11500: expected 12 fields, saw 13\\nSkipping line 11501: expected 12 fields, saw 13\\nSkipping line 11502: expected 12 fields, saw 13\\nSkipping line 11503: expected 12 fields, saw 13\\nSkipping line 11504: expected 12 fields, saw 13\\nSkipping line 11505: expected 12 fields, saw 13\\nSkipping line 11506: expected 12 fields, saw 13\\nSkipping line 11507: expected 12 fields, saw 13\\nSkipping line 11508: expected 12 fields, saw 13\\nSkipping line 11509: expected 12 fields, saw 13\\nSkipping line 11510: expected 12 fields, saw 13\\nSkipping line 11511: expected 12 fields, saw 13\\nSkipping line 11512: expected 12 fields, saw 13\\nSkipping line 11513: expected 12 fields, saw 13\\nSkipping line 11514: expected 12 fields, saw 13\\nSkipping line 11515: expected 12 fields, saw 13\\nSkipping line 11516: expected 12 fields, saw 13\\nSkipping line 11517: expected 12 fields, saw 13\\nSkipping line 11518: expected 12 fields, saw 13\\nSkipping line 11519: expected 12 fields, saw 13\\nSkipping line 11520: expected 12 fields, saw 13\\nSkipping line 11521: expected 12 fields, saw 13\\nSkipping line 11522: expected 12 fields, saw 13\\nSkipping line 11523: expected 12 fields, saw 13\\nSkipping line 11524: expected 12 fields, saw 13\\nSkipping line 11525: expected 12 fields, saw 13\\nSkipping line 11526: expected 12 fields, saw 13\\nSkipping line 11527: expected 12 fields, saw 13\\nSkipping line 11528: expected 12 fields, saw 13\\nSkipping line 11529: expected 12 fields, saw 13\\nSkipping line 11530: expected 12 fields, saw 13\\nSkipping line 11531: expected 12 fields, saw 13\\nSkipping line 11532: expected 12 fields, saw 13\\nSkipping line 11533: expected 12 fields, saw 13\\nSkipping line 11534: expected 12 fields, saw 13\\nSkipping line 11535: expected 12 fields, saw 13\\nSkipping line 11536: expected 12 fields, saw 13\\nSkipping line 11537: expected 12 fields, saw 13\\nSkipping line 11538: expected 12 fields, saw 13\\nSkipping line 11539: expected 12 fields, saw 13\\nSkipping line 11540: expected 12 fields, saw 13\\nSkipping line 11541: expected 12 fields, saw 14\\nSkipping line 11542: expected 12 fields, saw 13\\nSkipping line 11543: expected 12 fields, saw 13\\nSkipping line 11544: expected 12 fields, saw 13\\nSkipping line 11545: expected 12 fields, saw 13\\nSkipping line 11546: expected 12 fields, saw 13\\nSkipping line 11547: expected 12 fields, saw 13\\nSkipping line 11548: expected 12 fields, saw 13\\nSkipping line 11549: expected 12 fields, saw 13\\nSkipping line 11550: expected 12 fields, saw 13\\nSkipping line 11551: expected 12 fields, saw 13\\nSkipping line 11552: expected 12 fields, saw 13\\nSkipping line 11553: expected 12 fields, saw 13\\nSkipping line 11554: expected 12 fields, saw 13\\nSkipping line 11555: expected 12 fields, saw 13\\nSkipping line 11556: expected 12 fields, saw 13\\nSkipping line 11557: expected 12 fields, saw 15\\nSkipping line 11558: expected 12 fields, saw 13\\nSkipping line 11559: expected 12 fields, saw 13\\nSkipping line 11560: expected 12 fields, saw 13\\nSkipping line 11561: expected 12 fields, saw 13\\nSkipping line 11562: expected 12 fields, saw 13\\nSkipping line 11563: expected 12 fields, saw 13\\nSkipping line 11564: expected 12 fields, saw 13\\nSkipping line 11565: expected 12 fields, saw 13\\nSkipping line 11566: expected 12 fields, saw 13\\nSkipping line 11567: expected 12 fields, saw 13\\nSkipping line 11568: expected 12 fields, saw 13\\nSkipping line 11569: expected 12 fields, saw 13\\nSkipping line 11570: expected 12 fields, saw 13\\nSkipping line 11571: expected 12 fields, saw 13\\nSkipping line 11572: expected 12 fields, saw 13\\nSkipping line 11573: expected 12 fields, saw 13\\nSkipping line 11574: expected 12 fields, saw 13\\nSkipping line 11575: expected 12 fields, saw 13\\nSkipping line 11576: expected 12 fields, saw 13\\nSkipping line 11577: expected 12 fields, saw 13\\nSkipping line 11578: expected 12 fields, saw 13\\nSkipping line 11579: expected 12 fields, saw 13\\nSkipping line 11580: expected 12 fields, saw 13\\nSkipping line 11581: expected 12 fields, saw 13\\nSkipping line 11582: expected 12 fields, saw 13\\nSkipping line 11583: expected 12 fields, saw 13\\nSkipping line 11584: expected 12 fields, saw 13\\nSkipping line 11585: expected 12 fields, saw 13\\nSkipping line 11586: expected 12 fields, saw 13\\nSkipping line 11587: expected 12 fields, saw 13\\nSkipping line 11588: expected 12 fields, saw 13\\nSkipping line 11589: expected 12 fields, saw 13\\nSkipping line 11590: expected 12 fields, saw 13\\nSkipping line 11591: expected 12 fields, saw 13\\nSkipping line 11592: expected 12 fields, saw 13\\nSkipping line 11593: expected 12 fields, saw 13\\nSkipping line 11594: expected 12 fields, saw 13\\nSkipping line 11595: expected 12 fields, saw 13\\nSkipping line 11596: expected 12 fields, saw 13\\nSkipping line 11597: expected 12 fields, saw 13\\nSkipping line 11598: expected 12 fields, saw 13\\nSkipping line 11599: expected 12 fields, saw 13\\nSkipping line 11600: expected 12 fields, saw 13\\nSkipping line 11601: expected 12 fields, saw 13\\nSkipping line 11602: expected 12 fields, saw 13\\nSkipping line 11603: expected 12 fields, saw 13\\nSkipping line 11604: expected 12 fields, saw 13\\nSkipping line 11605: expected 12 fields, saw 13\\nSkipping line 11606: expected 12 fields, saw 13\\nSkipping line 11607: expected 12 fields, saw 13\\nSkipping line 11608: expected 12 fields, saw 13\\nSkipping line 11609: expected 12 fields, saw 13\\nSkipping line 11610: expected 12 fields, saw 13\\nSkipping line 11611: expected 12 fields, saw 13\\nSkipping line 11612: expected 12 fields, saw 13\\nSkipping line 11613: expected 12 fields, saw 13\\nSkipping line 11614: expected 12 fields, saw 13\\nSkipping line 11615: expected 12 fields, saw 13\\nSkipping line 11616: expected 12 fields, saw 13\\nSkipping line 11617: expected 12 fields, saw 13\\nSkipping line 11618: expected 12 fields, saw 13\\nSkipping line 11619: expected 12 fields, saw 13\\nSkipping line 11620: expected 12 fields, saw 13\\nSkipping line 11621: expected 12 fields, saw 13\\nSkipping line 11622: expected 12 fields, saw 13\\nSkipping line 11623: expected 12 fields, saw 13\\nSkipping line 11624: expected 12 fields, saw 13\\nSkipping line 11625: expected 12 fields, saw 13\\nSkipping line 11626: expected 12 fields, saw 13\\nSkipping line 11627: expected 12 fields, saw 13\\nSkipping line 11628: expected 12 fields, saw 13\\nSkipping line 11629: expected 12 fields, saw 13\\nSkipping line 11630: expected 12 fields, saw 13\\nSkipping line 11631: expected 12 fields, saw 13\\nSkipping line 11632: expected 12 fields, saw 13\\nSkipping line 11633: expected 12 fields, saw 13\\nSkipping line 11634: expected 12 fields, saw 13\\nSkipping line 11635: expected 12 fields, saw 13\\nSkipping line 11636: expected 12 fields, saw 13\\nSkipping line 11637: expected 12 fields, saw 13\\nSkipping line 11638: expected 12 fields, saw 13\\nSkipping line 11639: expected 12 fields, saw 13\\nSkipping line 11640: expected 12 fields, saw 13\\nSkipping line 11641: expected 12 fields, saw 13\\nSkipping line 11642: expected 12 fields, saw 13\\nSkipping line 11643: expected 12 fields, saw 13\\nSkipping line 11644: expected 12 fields, saw 13\\nSkipping line 11645: expected 12 fields, saw 14\\nSkipping line 11646: expected 12 fields, saw 13\\nSkipping line 11647: expected 12 fields, saw 13\\nSkipping line 11648: expected 12 fields, saw 13\\nSkipping line 11649: expected 12 fields, saw 13\\nSkipping line 11650: expected 12 fields, saw 13\\nSkipping line 11651: expected 12 fields, saw 14\\nSkipping line 11652: expected 12 fields, saw 14\\nSkipping line 11653: expected 12 fields, saw 13\\nSkipping line 11654: expected 12 fields, saw 13\\nSkipping line 11655: expected 12 fields, saw 13\\nSkipping line 11656: expected 12 fields, saw 13\\nSkipping line 11657: expected 12 fields, saw 13\\nSkipping line 11658: expected 12 fields, saw 13\\nSkipping line 11659: expected 12 fields, saw 13\\nSkipping line 11660: expected 12 fields, saw 13\\nSkipping line 11661: expected 12 fields, saw 13\\nSkipping line 11662: expected 12 fields, saw 13\\nSkipping line 11663: expected 12 fields, saw 13\\nSkipping line 11664: expected 12 fields, saw 13\\nSkipping line 11665: expected 12 fields, saw 13\\nSkipping line 11666: expected 12 fields, saw 13\\nSkipping line 11667: expected 12 fields, saw 13\\nSkipping line 11668: expected 12 fields, saw 13\\nSkipping line 11669: expected 12 fields, saw 13\\nSkipping line 11670: expected 12 fields, saw 13\\nSkipping line 11671: expected 12 fields, saw 13\\nSkipping line 11672: expected 12 fields, saw 13\\nSkipping line 11673: expected 12 fields, saw 14\\nSkipping line 11674: expected 12 fields, saw 13\\nSkipping line 11675: expected 12 fields, saw 13\\nSkipping line 11676: expected 12 fields, saw 13\\nSkipping line 11677: expected 12 fields, saw 13\\nSkipping line 11678: expected 12 fields, saw 13\\nSkipping line 11679: expected 12 fields, saw 13\\nSkipping line 11680: expected 12 fields, saw 13\\nSkipping line 11681: expected 12 fields, saw 13\\nSkipping line 11682: expected 12 fields, saw 13\\nSkipping line 11683: expected 12 fields, saw 13\\nSkipping line 11684: expected 12 fields, saw 13\\nSkipping line 11685: expected 12 fields, saw 13\\nSkipping line 11686: expected 12 fields, saw 13\\nSkipping line 11687: expected 12 fields, saw 13\\nSkipping line 11688: expected 12 fields, saw 13\\nSkipping line 11689: expected 12 fields, saw 13\\nSkipping line 11690: expected 12 fields, saw 13\\nSkipping line 11691: expected 12 fields, saw 13\\nSkipping line 11692: expected 12 fields, saw 13\\nSkipping line 11693: expected 12 fields, saw 13\\nSkipping line 11694: expected 12 fields, saw 16\\nSkipping line 11695: expected 12 fields, saw 13\\nSkipping line 11696: expected 12 fields, saw 13\\nSkipping line 11697: expected 12 fields, saw 13\\nSkipping line 11698: expected 12 fields, saw 13\\nSkipping line 11699: expected 12 fields, saw 13\\nSkipping line 11700: expected 12 fields, saw 13\\nSkipping line 11701: expected 12 fields, saw 13\\nSkipping line 11702: expected 12 fields, saw 13\\nSkipping line 11703: expected 12 fields, saw 13\\nSkipping line 11704: expected 12 fields, saw 13\\nSkipping line 11705: expected 12 fields, saw 13\\nSkipping line 11706: expected 12 fields, saw 13\\nSkipping line 11707: expected 12 fields, saw 13\\nSkipping line 11708: expected 12 fields, saw 13\\nSkipping line 11709: expected 12 fields, saw 13\\nSkipping line 11710: expected 12 fields, saw 13\\nSkipping line 11711: expected 12 fields, saw 13\\nSkipping line 11712: expected 12 fields, saw 13\\nSkipping line 11713: expected 12 fields, saw 13\\nSkipping line 11714: expected 12 fields, saw 13\\nSkipping line 11715: expected 12 fields, saw 14\\nSkipping line 11716: expected 12 fields, saw 13\\nSkipping line 11717: expected 12 fields, saw 14\\nSkipping line 11718: expected 12 fields, saw 13\\nSkipping line 11719: expected 12 fields, saw 13\\nSkipping line 11720: expected 12 fields, saw 13\\nSkipping line 11721: expected 12 fields, saw 13\\nSkipping line 11722: expected 12 fields, saw 13\\nSkipping line 11723: expected 12 fields, saw 13\\nSkipping line 11724: expected 12 fields, saw 13\\nSkipping line 11725: expected 12 fields, saw 13\\nSkipping line 11726: expected 12 fields, saw 13\\nSkipping line 11727: expected 12 fields, saw 13\\nSkipping line 11728: expected 12 fields, saw 13\\nSkipping line 11729: expected 12 fields, saw 13\\nSkipping line 11730: expected 12 fields, saw 13\\nSkipping line 11731: expected 12 fields, saw 13\\nSkipping line 11732: expected 12 fields, saw 13\\nSkipping line 11733: expected 12 fields, saw 13\\nSkipping line 11734: expected 12 fields, saw 13\\nSkipping line 11735: expected 12 fields, saw 13\\nSkipping line 11736: expected 12 fields, saw 14\\nSkipping line 11737: expected 12 fields, saw 13\\nSkipping line 11738: expected 12 fields, saw 13\\nSkipping line 11739: expected 12 fields, saw 13\\nSkipping line 11740: expected 12 fields, saw 13\\nSkipping line 11741: expected 12 fields, saw 13\\nSkipping line 11742: expected 12 fields, saw 13\\nSkipping line 11743: expected 12 fields, saw 13\\nSkipping line 11744: expected 12 fields, saw 13\\nSkipping line 11745: expected 12 fields, saw 13\\nSkipping line 11746: expected 12 fields, saw 13\\nSkipping line 11747: expected 12 fields, saw 13\\nSkipping line 11748: expected 12 fields, saw 13\\nSkipping line 11749: expected 12 fields, saw 13\\nSkipping line 11750: expected 12 fields, saw 13\\nSkipping line 11751: expected 12 fields, saw 13\\nSkipping line 11752: expected 12 fields, saw 13\\nSkipping line 11753: expected 12 fields, saw 13\\nSkipping line 11754: expected 12 fields, saw 13\\nSkipping line 11755: expected 12 fields, saw 13\\nSkipping line 11756: expected 12 fields, saw 13\\nSkipping line 11757: expected 12 fields, saw 13\\nSkipping line 11758: expected 12 fields, saw 13\\nSkipping line 11759: expected 12 fields, saw 13\\nSkipping line 11760: expected 12 fields, saw 13\\nSkipping line 11761: expected 12 fields, saw 13\\nSkipping line 11762: expected 12 fields, saw 13\\nSkipping line 11763: expected 12 fields, saw 13\\nSkipping line 11764: expected 12 fields, saw 13\\nSkipping line 11765: expected 12 fields, saw 13\\nSkipping line 11766: expected 12 fields, saw 13\\nSkipping line 11767: expected 12 fields, saw 13\\nSkipping line 11768: expected 12 fields, saw 13\\nSkipping line 11769: expected 12 fields, saw 13\\nSkipping line 11770: expected 12 fields, saw 13\\nSkipping line 11771: expected 12 fields, saw 13\\nSkipping line 11772: expected 12 fields, saw 13\\nSkipping line 11773: expected 12 fields, saw 14\\nSkipping line 11774: expected 12 fields, saw 13\\nSkipping line 11775: expected 12 fields, saw 13\\nSkipping line 11776: expected 12 fields, saw 13\\nSkipping line 11777: expected 12 fields, saw 13\\nSkipping line 11778: expected 12 fields, saw 13\\nSkipping line 11779: expected 12 fields, saw 13\\nSkipping line 11780: expected 12 fields, saw 13\\nSkipping line 11781: expected 12 fields, saw 13\\nSkipping line 11782: expected 12 fields, saw 13\\nSkipping line 11783: expected 12 fields, saw 13\\nSkipping line 11784: expected 12 fields, saw 14\\nSkipping line 11785: expected 12 fields, saw 13\\nSkipping line 11786: expected 12 fields, saw 13\\nSkipping line 11787: expected 12 fields, saw 13\\nSkipping line 11788: expected 12 fields, saw 13\\nSkipping line 11789: expected 12 fields, saw 13\\nSkipping line 11790: expected 12 fields, saw 13\\nSkipping line 11791: expected 12 fields, saw 13\\nSkipping line 11792: expected 12 fields, saw 13\\nSkipping line 11793: expected 12 fields, saw 13\\nSkipping line 11794: expected 12 fields, saw 13\\nSkipping line 11795: expected 12 fields, saw 13\\nSkipping line 11796: expected 12 fields, saw 13\\nSkipping line 11797: expected 12 fields, saw 13\\nSkipping line 11798: expected 12 fields, saw 13\\nSkipping line 11799: expected 12 fields, saw 13\\nSkipping line 11800: expected 12 fields, saw 13\\nSkipping line 11801: expected 12 fields, saw 13\\nSkipping line 11802: expected 12 fields, saw 13\\nSkipping line 11803: expected 12 fields, saw 13\\nSkipping line 11804: expected 12 fields, saw 13\\nSkipping line 11805: expected 12 fields, saw 13\\nSkipping line 11806: expected 12 fields, saw 13\\nSkipping line 11807: expected 12 fields, saw 13\\nSkipping line 11808: expected 12 fields, saw 13\\nSkipping line 11809: expected 12 fields, saw 13\\nSkipping line 11810: expected 12 fields, saw 13\\nSkipping line 11811: expected 12 fields, saw 13\\nSkipping line 11812: expected 12 fields, saw 13\\nSkipping line 11813: expected 12 fields, saw 13\\nSkipping line 11814: expected 12 fields, saw 13\\nSkipping line 11815: expected 12 fields, saw 13\\nSkipping line 11816: expected 12 fields, saw 13\\nSkipping line 11817: expected 12 fields, saw 13\\nSkipping line 11818: expected 12 fields, saw 13\\nSkipping line 11819: expected 12 fields, saw 13\\nSkipping line 11820: expected 12 fields, saw 13\\nSkipping line 11821: expected 12 fields, saw 13\\nSkipping line 11822: expected 12 fields, saw 13\\nSkipping line 11823: expected 12 fields, saw 13\\nSkipping line 11824: expected 12 fields, saw 13\\nSkipping line 11825: expected 12 fields, saw 13\\nSkipping line 11826: expected 12 fields, saw 13\\nSkipping line 11827: expected 12 fields, saw 13\\nSkipping line 11828: expected 12 fields, saw 13\\nSkipping line 11829: expected 12 fields, saw 13\\nSkipping line 11830: expected 12 fields, saw 13\\nSkipping line 11831: expected 12 fields, saw 13\\nSkipping line 11832: expected 12 fields, saw 13\\nSkipping line 11833: expected 12 fields, saw 13\\nSkipping line 11834: expected 12 fields, saw 13\\nSkipping line 11835: expected 12 fields, saw 13\\nSkipping line 11836: expected 12 fields, saw 13\\nSkipping line 11837: expected 12 fields, saw 13\\nSkipping line 11838: expected 12 fields, saw 13\\nSkipping line 11839: expected 12 fields, saw 13\\nSkipping line 11840: expected 12 fields, saw 13\\nSkipping line 11841: expected 12 fields, saw 13\\nSkipping line 11842: expected 12 fields, saw 13\\nSkipping line 11843: expected 12 fields, saw 13\\nSkipping line 11844: expected 12 fields, saw 13\\nSkipping line 11845: expected 12 fields, saw 13\\nSkipping line 11846: expected 12 fields, saw 13\\nSkipping line 11847: expected 12 fields, saw 13\\nSkipping line 11848: expected 12 fields, saw 13\\nSkipping line 11849: expected 12 fields, saw 13\\nSkipping line 11850: expected 12 fields, saw 13\\nSkipping line 11851: expected 12 fields, saw 13\\nSkipping line 11852: expected 12 fields, saw 13\\nSkipping line 11853: expected 12 fields, saw 13\\nSkipping line 11854: expected 12 fields, saw 13\\nSkipping line 11855: expected 12 fields, saw 13\\nSkipping line 11856: expected 12 fields, saw 13\\nSkipping line 11857: expected 12 fields, saw 13\\nSkipping line 11858: expected 12 fields, saw 13\\nSkipping line 11859: expected 12 fields, saw 13\\nSkipping line 11860: expected 12 fields, saw 13\\nSkipping line 11861: expected 12 fields, saw 13\\nSkipping line 11862: expected 12 fields, saw 13\\nSkipping line 11863: expected 12 fields, saw 13\\nSkipping line 11864: expected 12 fields, saw 13\\nSkipping line 11865: expected 12 fields, saw 13\\nSkipping line 11866: expected 12 fields, saw 13\\nSkipping line 11867: expected 12 fields, saw 13\\nSkipping line 11868: expected 12 fields, saw 13\\nSkipping line 11869: expected 12 fields, saw 13\\nSkipping line 11870: expected 12 fields, saw 13\\nSkipping line 11871: expected 12 fields, saw 13\\nSkipping line 11872: expected 12 fields, saw 13\\nSkipping line 11873: expected 12 fields, saw 13\\nSkipping line 11874: expected 12 fields, saw 13\\nSkipping line 11875: expected 12 fields, saw 13\\nSkipping line 11876: expected 12 fields, saw 13\\nSkipping line 11877: expected 12 fields, saw 13\\nSkipping line 11878: expected 12 fields, saw 13\\nSkipping line 11879: expected 12 fields, saw 13\\nSkipping line 11880: expected 12 fields, saw 13\\nSkipping line 11881: expected 12 fields, saw 13\\nSkipping line 11882: expected 12 fields, saw 13\\nSkipping line 11883: expected 12 fields, saw 14\\nSkipping line 11884: expected 12 fields, saw 13\\nSkipping line 11885: expected 12 fields, saw 13\\nSkipping line 11886: expected 12 fields, saw 13\\nSkipping line 11887: expected 12 fields, saw 13\\nSkipping line 11888: expected 12 fields, saw 13\\nSkipping line 11889: expected 12 fields, saw 13\\nSkipping line 11890: expected 12 fields, saw 13\\nSkipping line 11891: expected 12 fields, saw 13\\nSkipping line 11892: expected 12 fields, saw 13\\nSkipping line 11893: expected 12 fields, saw 13\\nSkipping line 11894: expected 12 fields, saw 13\\nSkipping line 11895: expected 12 fields, saw 13\\nSkipping line 11896: expected 12 fields, saw 13\\nSkipping line 11897: expected 12 fields, saw 13\\nSkipping line 11898: expected 12 fields, saw 13\\nSkipping line 11899: expected 12 fields, saw 13\\nSkipping line 11900: expected 12 fields, saw 13\\nSkipping line 11901: expected 12 fields, saw 13\\nSkipping line 11902: expected 12 fields, saw 13\\nSkipping line 11903: expected 12 fields, saw 13\\nSkipping line 11904: expected 12 fields, saw 13\\nSkipping line 11905: expected 12 fields, saw 13\\nSkipping line 11906: expected 12 fields, saw 13\\nSkipping line 11907: expected 12 fields, saw 13\\nSkipping line 11908: expected 12 fields, saw 13\\nSkipping line 11909: expected 12 fields, saw 13\\nSkipping line 11910: expected 12 fields, saw 13\\nSkipping line 11911: expected 12 fields, saw 13\\nSkipping line 11912: expected 12 fields, saw 13\\nSkipping line 11913: expected 12 fields, saw 13\\nSkipping line 11914: expected 12 fields, saw 13\\nSkipping line 11915: expected 12 fields, saw 13\\nSkipping line 11916: expected 12 fields, saw 13\\nSkipping line 11917: expected 12 fields, saw 13\\nSkipping line 11918: expected 12 fields, saw 13\\nSkipping line 11919: expected 12 fields, saw 13\\nSkipping line 11920: expected 12 fields, saw 13\\nSkipping line 11921: expected 12 fields, saw 13\\nSkipping line 11922: expected 12 fields, saw 13\\nSkipping line 11923: expected 12 fields, saw 13\\nSkipping line 11924: expected 12 fields, saw 13\\nSkipping line 11925: expected 12 fields, saw 13\\nSkipping line 11926: expected 12 fields, saw 13\\nSkipping line 11927: expected 12 fields, saw 13\\nSkipping line 11928: expected 12 fields, saw 13\\nSkipping line 11929: expected 12 fields, saw 13\\nSkipping line 11930: expected 12 fields, saw 13\\nSkipping line 11931: expected 12 fields, saw 13\\nSkipping line 11932: expected 12 fields, saw 13\\nSkipping line 11933: expected 12 fields, saw 13\\nSkipping line 11934: expected 12 fields, saw 13\\nSkipping line 11935: expected 12 fields, saw 13\\nSkipping line 11936: expected 12 fields, saw 13\\nSkipping line 11937: expected 12 fields, saw 13\\nSkipping line 11938: expected 12 fields, saw 13\\nSkipping line 11939: expected 12 fields, saw 13\\nSkipping line 11940: expected 12 fields, saw 13\\nSkipping line 11941: expected 12 fields, saw 13\\nSkipping line 11942: expected 12 fields, saw 13\\nSkipping line 11943: expected 12 fields, saw 13\\nSkipping line 11944: expected 12 fields, saw 13\\nSkipping line 11945: expected 12 fields, saw 13\\nSkipping line 11946: expected 12 fields, saw 13\\nSkipping line 11947: expected 12 fields, saw 13\\nSkipping line 11948: expected 12 fields, saw 13\\nSkipping line 11949: expected 12 fields, saw 13\\nSkipping line 11950: expected 12 fields, saw 13\\nSkipping line 11951: expected 12 fields, saw 13\\nSkipping line 11952: expected 12 fields, saw 13\\nSkipping line 11953: expected 12 fields, saw 13\\nSkipping line 11954: expected 12 fields, saw 13\\nSkipping line 11955: expected 12 fields, saw 13\\nSkipping line 11956: expected 12 fields, saw 13\\nSkipping line 11957: expected 12 fields, saw 13\\nSkipping line 11958: expected 12 fields, saw 13\\nSkipping line 11959: expected 12 fields, saw 13\\nSkipping line 11960: expected 12 fields, saw 13\\nSkipping line 11961: expected 12 fields, saw 13\\nSkipping line 11962: expected 12 fields, saw 13\\nSkipping line 11963: expected 12 fields, saw 13\\nSkipping line 11964: expected 12 fields, saw 13\\nSkipping line 11965: expected 12 fields, saw 13\\nSkipping line 11966: expected 12 fields, saw 13\\nSkipping line 11967: expected 12 fields, saw 13\\nSkipping line 11968: expected 12 fields, saw 13\\nSkipping line 11969: expected 12 fields, saw 13\\nSkipping line 11970: expected 12 fields, saw 13\\nSkipping line 11971: expected 12 fields, saw 13\\nSkipping line 11972: expected 12 fields, saw 13\\nSkipping line 11973: expected 12 fields, saw 13\\nSkipping line 11974: expected 12 fields, saw 13\\nSkipping line 11975: expected 12 fields, saw 13\\nSkipping line 11976: expected 12 fields, saw 13\\nSkipping line 11977: expected 12 fields, saw 13\\nSkipping line 11978: expected 12 fields, saw 13\\nSkipping line 11979: expected 12 fields, saw 13\\nSkipping line 11980: expected 12 fields, saw 13\\nSkipping line 11981: expected 12 fields, saw 13\\nSkipping line 11982: expected 12 fields, saw 13\\nSkipping line 11983: expected 12 fields, saw 14\\nSkipping line 11984: expected 12 fields, saw 13\\nSkipping line 11985: expected 12 fields, saw 13\\nSkipping line 11986: expected 12 fields, saw 13\\nSkipping line 11987: expected 12 fields, saw 13\\nSkipping line 11988: expected 12 fields, saw 13\\nSkipping line 11989: expected 12 fields, saw 13\\nSkipping line 11990: expected 12 fields, saw 13\\nSkipping line 11991: expected 12 fields, saw 13\\nSkipping line 11992: expected 12 fields, saw 13\\nSkipping line 11993: expected 12 fields, saw 13\\nSkipping line 11994: expected 12 fields, saw 13\\nSkipping line 11995: expected 12 fields, saw 13\\nSkipping line 11996: expected 12 fields, saw 13\\nSkipping line 11997: expected 12 fields, saw 13\\nSkipping line 11998: expected 12 fields, saw 13\\nSkipping line 11999: expected 12 fields, saw 13\\nSkipping line 12000: expected 12 fields, saw 13\\nSkipping line 12001: expected 12 fields, saw 13\\nSkipping line 12002: expected 12 fields, saw 13\\nSkipping line 12003: expected 12 fields, saw 13\\nSkipping line 12004: expected 12 fields, saw 13\\nSkipping line 12005: expected 12 fields, saw 13\\nSkipping line 12006: expected 12 fields, saw 13\\nSkipping line 12007: expected 12 fields, saw 13\\nSkipping line 12008: expected 12 fields, saw 13\\nSkipping line 12009: expected 12 fields, saw 13\\nSkipping line 12010: expected 12 fields, saw 13\\nSkipping line 12011: expected 12 fields, saw 13\\nSkipping line 12012: expected 12 fields, saw 13\\nSkipping line 12013: expected 12 fields, saw 13\\nSkipping line 12014: expected 12 fields, saw 13\\nSkipping line 12015: expected 12 fields, saw 16\\nSkipping line 12016: expected 12 fields, saw 13\\nSkipping line 12017: expected 12 fields, saw 13\\nSkipping line 12018: expected 12 fields, saw 14\\nSkipping line 12019: expected 12 fields, saw 13\\nSkipping line 12020: expected 12 fields, saw 13\\nSkipping line 12021: expected 12 fields, saw 13\\nSkipping line 12022: expected 12 fields, saw 13\\nSkipping line 12023: expected 12 fields, saw 13\\nSkipping line 12024: expected 12 fields, saw 13\\nSkipping line 12025: expected 12 fields, saw 13\\nSkipping line 12026: expected 12 fields, saw 13\\nSkipping line 12027: expected 12 fields, saw 13\\nSkipping line 12028: expected 12 fields, saw 13\\nSkipping line 12029: expected 12 fields, saw 13\\nSkipping line 12030: expected 12 fields, saw 13\\nSkipping line 12031: expected 12 fields, saw 13\\nSkipping line 12032: expected 12 fields, saw 13\\nSkipping line 12033: expected 12 fields, saw 13\\nSkipping line 12034: expected 12 fields, saw 13\\nSkipping line 12035: expected 12 fields, saw 13\\nSkipping line 12036: expected 12 fields, saw 13\\nSkipping line 12037: expected 12 fields, saw 13\\nSkipping line 12038: expected 12 fields, saw 13\\nSkipping line 12039: expected 12 fields, saw 13\\nSkipping line 12040: expected 12 fields, saw 13\\nSkipping line 12041: expected 12 fields, saw 13\\nSkipping line 12042: expected 12 fields, saw 13\\nSkipping line 12043: expected 12 fields, saw 13\\nSkipping line 12044: expected 12 fields, saw 13\\nSkipping line 12045: expected 12 fields, saw 13\\nSkipping line 12046: expected 12 fields, saw 13\\nSkipping line 12047: expected 12 fields, saw 13\\nSkipping line 12048: expected 12 fields, saw 13\\nSkipping line 12049: expected 12 fields, saw 13\\nSkipping line 12050: expected 12 fields, saw 13\\nSkipping line 12051: expected 12 fields, saw 14\\nSkipping line 12052: expected 12 fields, saw 13\\nSkipping line 12053: expected 12 fields, saw 13\\nSkipping line 12054: expected 12 fields, saw 13\\nSkipping line 12055: expected 12 fields, saw 13\\nSkipping line 12056: expected 12 fields, saw 13\\nSkipping line 12057: expected 12 fields, saw 13\\nSkipping line 12058: expected 12 fields, saw 13\\nSkipping line 12059: expected 12 fields, saw 13\\nSkipping line 12060: expected 12 fields, saw 13\\nSkipping line 12061: expected 12 fields, saw 13\\nSkipping line 12062: expected 12 fields, saw 13\\nSkipping line 12063: expected 12 fields, saw 13\\nSkipping line 12064: expected 12 fields, saw 13\\nSkipping line 12065: expected 12 fields, saw 13\\nSkipping line 12066: expected 12 fields, saw 13\\nSkipping line 12067: expected 12 fields, saw 13\\nSkipping line 12068: expected 12 fields, saw 13\\nSkipping line 12069: expected 12 fields, saw 13\\nSkipping line 12070: expected 12 fields, saw 13\\nSkipping line 12071: expected 12 fields, saw 13\\nSkipping line 12072: expected 12 fields, saw 13\\nSkipping line 12073: expected 12 fields, saw 13\\nSkipping line 12074: expected 12 fields, saw 13\\nSkipping line 12075: expected 12 fields, saw 13\\nSkipping line 12076: expected 12 fields, saw 13\\nSkipping line 12077: expected 12 fields, saw 13\\nSkipping line 12078: expected 12 fields, saw 13\\nSkipping line 12079: expected 12 fields, saw 13\\nSkipping line 12080: expected 12 fields, saw 13\\nSkipping line 12081: expected 12 fields, saw 13\\nSkipping line 12082: expected 12 fields, saw 13\\nSkipping line 12083: expected 12 fields, saw 13\\nSkipping line 12084: expected 12 fields, saw 13\\nSkipping line 12085: expected 12 fields, saw 13\\nSkipping line 12086: expected 12 fields, saw 13\\nSkipping line 12087: expected 12 fields, saw 13\\nSkipping line 12088: expected 12 fields, saw 13\\nSkipping line 12089: expected 12 fields, saw 13\\nSkipping line 12090: expected 12 fields, saw 13\\nSkipping line 12091: expected 12 fields, saw 13\\nSkipping line 12092: expected 12 fields, saw 13\\nSkipping line 12093: expected 12 fields, saw 13\\nSkipping line 12094: expected 12 fields, saw 13\\nSkipping line 12095: expected 12 fields, saw 13\\nSkipping line 12096: expected 12 fields, saw 13\\nSkipping line 12097: expected 12 fields, saw 13\\nSkipping line 12098: expected 12 fields, saw 13\\nSkipping line 12099: expected 12 fields, saw 13\\nSkipping line 12100: expected 12 fields, saw 13\\nSkipping line 12101: expected 12 fields, saw 13\\nSkipping line 12102: expected 12 fields, saw 13\\nSkipping line 12103: expected 12 fields, saw 13\\nSkipping line 12104: expected 12 fields, saw 13\\nSkipping line 12105: expected 12 fields, saw 13\\nSkipping line 12106: expected 12 fields, saw 13\\nSkipping line 12107: expected 12 fields, saw 13\\nSkipping line 12108: expected 12 fields, saw 13\\nSkipping line 12109: expected 12 fields, saw 13\\nSkipping line 12110: expected 12 fields, saw 13\\nSkipping line 12111: expected 12 fields, saw 13\\nSkipping line 12112: expected 12 fields, saw 13\\nSkipping line 12113: expected 12 fields, saw 13\\nSkipping line 12114: expected 12 fields, saw 13\\nSkipping line 12115: expected 12 fields, saw 13\\nSkipping line 12116: expected 12 fields, saw 13\\nSkipping line 12117: expected 12 fields, saw 13\\nSkipping line 12118: expected 12 fields, saw 13\\nSkipping line 12119: expected 12 fields, saw 13\\nSkipping line 12120: expected 12 fields, saw 13\\nSkipping line 12121: expected 12 fields, saw 13\\nSkipping line 12122: expected 12 fields, saw 13\\nSkipping line 12123: expected 12 fields, saw 13\\nSkipping line 12124: expected 12 fields, saw 13\\nSkipping line 12125: expected 12 fields, saw 13\\nSkipping line 12126: expected 12 fields, saw 13\\nSkipping line 12127: expected 12 fields, saw 13\\nSkipping line 12128: expected 12 fields, saw 13\\nSkipping line 12129: expected 12 fields, saw 13\\nSkipping line 12130: expected 12 fields, saw 13\\nSkipping line 12131: expected 12 fields, saw 13\\nSkipping line 12132: expected 12 fields, saw 13\\nSkipping line 12133: expected 12 fields, saw 13\\nSkipping line 12134: expected 12 fields, saw 13\\nSkipping line 12135: expected 12 fields, saw 13\\nSkipping line 12136: expected 12 fields, saw 13\\nSkipping line 12137: expected 12 fields, saw 13\\nSkipping line 12138: expected 12 fields, saw 13\\nSkipping line 12139: expected 12 fields, saw 13\\nSkipping line 12140: expected 12 fields, saw 13\\nSkipping line 12141: expected 12 fields, saw 13\\nSkipping line 12142: expected 12 fields, saw 13\\nSkipping line 12143: expected 12 fields, saw 13\\nSkipping line 12144: expected 12 fields, saw 13\\nSkipping line 12145: expected 12 fields, saw 13\\nSkipping line 12146: expected 12 fields, saw 13\\nSkipping line 12147: expected 12 fields, saw 13\\nSkipping line 12148: expected 12 fields, saw 13\\nSkipping line 12149: expected 12 fields, saw 13\\nSkipping line 12150: expected 12 fields, saw 13\\nSkipping line 12151: expected 12 fields, saw 13\\nSkipping line 12152: expected 12 fields, saw 13\\nSkipping line 12153: expected 12 fields, saw 13\\nSkipping line 12154: expected 12 fields, saw 13\\nSkipping line 12155: expected 12 fields, saw 13\\nSkipping line 12156: expected 12 fields, saw 13\\nSkipping line 12157: expected 12 fields, saw 13\\nSkipping line 12158: expected 12 fields, saw 13\\nSkipping line 12159: expected 12 fields, saw 13\\nSkipping line 12160: expected 12 fields, saw 13\\nSkipping line 12161: expected 12 fields, saw 13\\nSkipping line 12162: expected 12 fields, saw 13\\nSkipping line 12163: expected 12 fields, saw 13\\nSkipping line 12164: expected 12 fields, saw 13\\nSkipping line 12165: expected 12 fields, saw 13\\nSkipping line 12166: expected 12 fields, saw 13\\nSkipping line 12167: expected 12 fields, saw 13\\nSkipping line 12168: expected 12 fields, saw 13\\nSkipping line 12169: expected 12 fields, saw 13\\nSkipping line 12170: expected 12 fields, saw 13\\nSkipping line 12171: expected 12 fields, saw 13\\nSkipping line 12172: expected 12 fields, saw 13\\nSkipping line 12173: expected 12 fields, saw 13\\nSkipping line 12174: expected 12 fields, saw 13\\nSkipping line 12175: expected 12 fields, saw 13\\nSkipping line 12176: expected 12 fields, saw 13\\nSkipping line 12177: expected 12 fields, saw 13\\nSkipping line 12178: expected 12 fields, saw 13\\nSkipping line 12179: expected 12 fields, saw 13\\nSkipping line 12180: expected 12 fields, saw 13\\nSkipping line 12181: expected 12 fields, saw 13\\nSkipping line 12182: expected 12 fields, saw 13\\nSkipping line 12183: expected 12 fields, saw 13\\nSkipping line 12184: expected 12 fields, saw 13\\nSkipping line 12185: expected 12 fields, saw 13\\nSkipping line 12186: expected 12 fields, saw 13\\nSkipping line 12187: expected 12 fields, saw 13\\nSkipping line 12188: expected 12 fields, saw 13\\nSkipping line 12189: expected 12 fields, saw 13\\nSkipping line 12190: expected 12 fields, saw 13\\nSkipping line 12191: expected 12 fields, saw 13\\nSkipping line 12192: expected 12 fields, saw 13\\nSkipping line 12193: expected 12 fields, saw 13\\nSkipping line 12194: expected 12 fields, saw 13\\nSkipping line 12195: expected 12 fields, saw 13\\nSkipping line 12196: expected 12 fields, saw 13\\nSkipping line 12197: expected 12 fields, saw 13\\nSkipping line 12198: expected 12 fields, saw 13\\nSkipping line 12199: expected 12 fields, saw 13\\nSkipping line 12200: expected 12 fields, saw 13\\nSkipping line 12201: expected 12 fields, saw 13\\nSkipping line 12202: expected 12 fields, saw 13\\nSkipping line 12203: expected 12 fields, saw 13\\nSkipping line 12204: expected 12 fields, saw 13\\nSkipping line 12205: expected 12 fields, saw 13\\nSkipping line 12206: expected 12 fields, saw 13\\nSkipping line 12207: expected 12 fields, saw 13\\nSkipping line 12208: expected 12 fields, saw 13\\nSkipping line 12209: expected 12 fields, saw 13\\nSkipping line 12210: expected 12 fields, saw 13\\nSkipping line 12211: expected 12 fields, saw 13\\nSkipping line 12212: expected 12 fields, saw 13\\nSkipping line 12213: expected 12 fields, saw 13\\nSkipping line 12214: expected 12 fields, saw 13\\nSkipping line 12215: expected 12 fields, saw 13\\nSkipping line 12216: expected 12 fields, saw 13\\nSkipping line 12217: expected 12 fields, saw 13\\nSkipping line 12218: expected 12 fields, saw 13\\nSkipping line 12219: expected 12 fields, saw 13\\nSkipping line 12220: expected 12 fields, saw 13\\nSkipping line 12221: expected 12 fields, saw 13\\nSkipping line 12222: expected 12 fields, saw 13\\nSkipping line 12223: expected 12 fields, saw 13\\nSkipping line 12224: expected 12 fields, saw 13\\nSkipping line 12225: expected 12 fields, saw 13\\nSkipping line 12226: expected 12 fields, saw 13\\nSkipping line 12227: expected 12 fields, saw 13\\nSkipping line 12228: expected 12 fields, saw 15\\nSkipping line 12229: expected 12 fields, saw 13\\nSkipping line 12230: expected 12 fields, saw 13\\nSkipping line 12231: expected 12 fields, saw 13\\nSkipping line 12232: expected 12 fields, saw 13\\nSkipping line 12233: expected 12 fields, saw 13\\nSkipping line 12234: expected 12 fields, saw 13\\nSkipping line 12235: expected 12 fields, saw 13\\nSkipping line 12236: expected 12 fields, saw 13\\nSkipping line 12237: expected 12 fields, saw 16\\nSkipping line 12238: expected 12 fields, saw 13\\nSkipping line 12239: expected 12 fields, saw 13\\nSkipping line 12240: expected 12 fields, saw 13\\nSkipping line 12241: expected 12 fields, saw 13\\nSkipping line 12242: expected 12 fields, saw 13\\nSkipping line 12243: expected 12 fields, saw 13\\nSkipping line 12244: expected 12 fields, saw 13\\nSkipping line 12245: expected 12 fields, saw 13\\nSkipping line 12246: expected 12 fields, saw 13\\nSkipping line 12247: expected 12 fields, saw 13\\nSkipping line 12248: expected 12 fields, saw 13\\nSkipping line 12249: expected 12 fields, saw 13\\nSkipping line 12250: expected 12 fields, saw 13\\nSkipping line 12251: expected 12 fields, saw 13\\nSkipping line 12252: expected 12 fields, saw 13\\nSkipping line 12253: expected 12 fields, saw 13\\nSkipping line 12254: expected 12 fields, saw 17\\nSkipping line 12255: expected 12 fields, saw 13\\nSkipping line 12256: expected 12 fields, saw 13\\nSkipping line 12257: expected 12 fields, saw 13\\nSkipping line 12258: expected 12 fields, saw 13\\nSkipping line 12259: expected 12 fields, saw 13\\nSkipping line 12260: expected 12 fields, saw 13\\nSkipping line 12261: expected 12 fields, saw 13\\nSkipping line 12262: expected 12 fields, saw 13\\nSkipping line 12263: expected 12 fields, saw 13\\nSkipping line 12264: expected 12 fields, saw 13\\nSkipping line 12265: expected 12 fields, saw 13\\nSkipping line 12266: expected 12 fields, saw 13\\nSkipping line 12267: expected 12 fields, saw 13\\nSkipping line 12268: expected 12 fields, saw 13\\nSkipping line 12269: expected 12 fields, saw 13\\nSkipping line 12270: expected 12 fields, saw 13\\nSkipping line 12271: expected 12 fields, saw 13\\nSkipping line 12272: expected 12 fields, saw 13\\nSkipping line 12273: expected 12 fields, saw 13\\nSkipping line 12274: expected 12 fields, saw 13\\nSkipping line 12275: expected 12 fields, saw 13\\nSkipping line 12276: expected 12 fields, saw 13\\nSkipping line 12277: expected 12 fields, saw 13\\nSkipping line 12278: expected 12 fields, saw 13\\nSkipping line 12279: expected 12 fields, saw 13\\nSkipping line 12280: expected 12 fields, saw 13\\nSkipping line 12281: expected 12 fields, saw 13\\nSkipping line 12282: expected 12 fields, saw 13\\nSkipping line 12283: expected 12 fields, saw 13\\nSkipping line 12284: expected 12 fields, saw 13\\nSkipping line 12285: expected 12 fields, saw 13\\nSkipping line 12286: expected 12 fields, saw 13\\nSkipping line 12287: expected 12 fields, saw 13\\nSkipping line 12288: expected 12 fields, saw 13\\nSkipping line 12289: expected 12 fields, saw 13\\nSkipping line 12290: expected 12 fields, saw 13\\nSkipping line 12291: expected 12 fields, saw 13\\nSkipping line 12292: expected 12 fields, saw 13\\nSkipping line 12293: expected 12 fields, saw 13\\nSkipping line 12294: expected 12 fields, saw 13\\nSkipping line 12295: expected 12 fields, saw 13\\nSkipping line 12296: expected 12 fields, saw 13\\nSkipping line 12297: expected 12 fields, saw 13\\nSkipping line 12298: expected 12 fields, saw 13\\nSkipping line 12299: expected 12 fields, saw 13\\nSkipping line 12300: expected 12 fields, saw 13\\nSkipping line 12301: expected 12 fields, saw 13\\nSkipping line 12302: expected 12 fields, saw 13\\nSkipping line 12303: expected 12 fields, saw 13\\nSkipping line 12304: expected 12 fields, saw 13\\nSkipping line 12305: expected 12 fields, saw 13\\nSkipping line 12306: expected 12 fields, saw 13\\nSkipping line 12307: expected 12 fields, saw 13\\nSkipping line 12308: expected 12 fields, saw 13\\nSkipping line 12309: expected 12 fields, saw 13\\nSkipping line 12310: expected 12 fields, saw 13\\nSkipping line 12311: expected 12 fields, saw 13\\nSkipping line 12312: expected 12 fields, saw 13\\nSkipping line 12313: expected 12 fields, saw 13\\nSkipping line 12314: expected 12 fields, saw 13\\nSkipping line 12315: expected 12 fields, saw 13\\nSkipping line 12316: expected 12 fields, saw 13\\nSkipping line 12317: expected 12 fields, saw 13\\nSkipping line 12318: expected 12 fields, saw 13\\nSkipping line 12319: expected 12 fields, saw 13\\nSkipping line 12320: expected 12 fields, saw 13\\nSkipping line 12321: expected 12 fields, saw 14\\nSkipping line 12322: expected 12 fields, saw 13\\nSkipping line 12323: expected 12 fields, saw 13\\nSkipping line 12324: expected 12 fields, saw 13\\nSkipping line 12325: expected 12 fields, saw 13\\nSkipping line 12326: expected 12 fields, saw 13\\nSkipping line 12327: expected 12 fields, saw 13\\nSkipping line 12328: expected 12 fields, saw 13\\nSkipping line 12329: expected 12 fields, saw 13\\nSkipping line 12330: expected 12 fields, saw 13\\nSkipping line 12331: expected 12 fields, saw 13\\nSkipping line 12332: expected 12 fields, saw 13\\nSkipping line 12333: expected 12 fields, saw 13\\nSkipping line 12334: expected 12 fields, saw 13\\nSkipping line 12335: expected 12 fields, saw 13\\nSkipping line 12336: expected 12 fields, saw 13\\nSkipping line 12337: expected 12 fields, saw 13\\nSkipping line 12338: expected 12 fields, saw 13\\nSkipping line 12339: expected 12 fields, saw 13\\nSkipping line 12340: expected 12 fields, saw 13\\nSkipping line 12341: expected 12 fields, saw 13\\nSkipping line 12342: expected 12 fields, saw 13\\nSkipping line 12343: expected 12 fields, saw 13\\nSkipping line 12344: expected 12 fields, saw 13\\nSkipping line 12345: expected 12 fields, saw 13\\nSkipping line 12346: expected 12 fields, saw 13\\nSkipping line 12347: expected 12 fields, saw 13\\nSkipping line 12348: expected 12 fields, saw 13\\nSkipping line 12349: expected 12 fields, saw 13\\nSkipping line 12350: expected 12 fields, saw 13\\nSkipping line 12351: expected 12 fields, saw 13\\nSkipping line 12352: expected 12 fields, saw 13\\nSkipping line 12353: expected 12 fields, saw 13\\nSkipping line 12354: expected 12 fields, saw 13\\nSkipping line 12355: expected 12 fields, saw 13\\nSkipping line 12356: expected 12 fields, saw 13\\nSkipping line 12357: expected 12 fields, saw 13\\nSkipping line 12358: expected 12 fields, saw 13\\nSkipping line 12359: expected 12 fields, saw 13\\nSkipping line 12360: expected 12 fields, saw 13\\nSkipping line 12361: expected 12 fields, saw 13\\nSkipping line 12362: expected 12 fields, saw 13\\nSkipping line 12363: expected 12 fields, saw 13\\nSkipping line 12364: expected 12 fields, saw 13\\nSkipping line 12365: expected 12 fields, saw 13\\nSkipping line 12366: expected 12 fields, saw 13\\nSkipping line 12367: expected 12 fields, saw 13\\nSkipping line 12368: expected 12 fields, saw 13\\nSkipping line 12369: expected 12 fields, saw 13\\nSkipping line 12370: expected 12 fields, saw 13\\nSkipping line 12371: expected 12 fields, saw 13\\nSkipping line 12372: expected 12 fields, saw 13\\nSkipping line 12373: expected 12 fields, saw 13\\nSkipping line 12374: expected 12 fields, saw 13\\nSkipping line 12375: expected 12 fields, saw 13\\nSkipping line 12376: expected 12 fields, saw 13\\nSkipping line 12377: expected 12 fields, saw 13\\nSkipping line 12378: expected 12 fields, saw 13\\nSkipping line 12379: expected 12 fields, saw 13\\nSkipping line 12380: expected 12 fields, saw 13\\nSkipping line 12381: expected 12 fields, saw 13\\nSkipping line 12382: expected 12 fields, saw 13\\nSkipping line 12383: expected 12 fields, saw 13\\nSkipping line 12384: expected 12 fields, saw 13\\nSkipping line 12385: expected 12 fields, saw 13\\nSkipping line 12386: expected 12 fields, saw 13\\nSkipping line 12387: expected 12 fields, saw 13\\nSkipping line 12388: expected 12 fields, saw 13\\nSkipping line 12389: expected 12 fields, saw 13\\nSkipping line 12390: expected 12 fields, saw 13\\nSkipping line 12391: expected 12 fields, saw 13\\nSkipping line 12392: expected 12 fields, saw 13\\nSkipping line 12393: expected 12 fields, saw 13\\nSkipping line 12394: expected 12 fields, saw 13\\nSkipping line 12395: expected 12 fields, saw 13\\nSkipping line 12396: expected 12 fields, saw 13\\nSkipping line 12397: expected 12 fields, saw 13\\nSkipping line 12398: expected 12 fields, saw 13\\nSkipping line 12399: expected 12 fields, saw 13\\nSkipping line 12400: expected 12 fields, saw 13\\nSkipping line 12401: expected 12 fields, saw 13\\nSkipping line 12402: expected 12 fields, saw 13\\nSkipping line 12403: expected 12 fields, saw 13\\nSkipping line 12404: expected 12 fields, saw 13\\nSkipping line 12405: expected 12 fields, saw 13\\nSkipping line 12406: expected 12 fields, saw 13\\nSkipping line 12407: expected 12 fields, saw 13\\nSkipping line 12408: expected 12 fields, saw 13\\nSkipping line 12409: expected 12 fields, saw 13\\nSkipping line 12410: expected 12 fields, saw 13\\nSkipping line 12411: expected 12 fields, saw 13\\nSkipping line 12412: expected 12 fields, saw 13\\nSkipping line 12413: expected 12 fields, saw 13\\nSkipping line 12414: expected 12 fields, saw 13\\nSkipping line 12415: expected 12 fields, saw 13\\nSkipping line 12416: expected 12 fields, saw 13\\nSkipping line 12417: expected 12 fields, saw 13\\nSkipping line 12418: expected 12 fields, saw 13\\nSkipping line 12419: expected 12 fields, saw 13\\nSkipping line 12420: expected 12 fields, saw 13\\nSkipping line 12421: expected 12 fields, saw 13\\nSkipping line 12422: expected 12 fields, saw 13\\nSkipping line 12423: expected 12 fields, saw 13\\nSkipping line 12424: expected 12 fields, saw 13\\nSkipping line 12425: expected 12 fields, saw 13\\nSkipping line 12426: expected 12 fields, saw 13\\nSkipping line 12427: expected 12 fields, saw 13\\nSkipping line 12428: expected 12 fields, saw 13\\nSkipping line 12429: expected 12 fields, saw 13\\nSkipping line 12430: expected 12 fields, saw 13\\nSkipping line 12431: expected 12 fields, saw 13\\nSkipping line 12432: expected 12 fields, saw 13\\nSkipping line 12433: expected 12 fields, saw 13\\nSkipping line 12434: expected 12 fields, saw 13\\nSkipping line 12435: expected 12 fields, saw 13\\nSkipping line 12436: expected 12 fields, saw 14\\nSkipping line 12437: expected 12 fields, saw 13\\nSkipping line 12438: expected 12 fields, saw 13\\nSkipping line 12439: expected 12 fields, saw 13\\nSkipping line 12440: expected 12 fields, saw 13\\nSkipping line 12441: expected 12 fields, saw 13\\nSkipping line 12442: expected 12 fields, saw 13\\nSkipping line 12443: expected 12 fields, saw 13\\nSkipping line 12444: expected 12 fields, saw 13\\nSkipping line 12445: expected 12 fields, saw 13\\nSkipping line 12446: expected 12 fields, saw 13\\nSkipping line 12447: expected 12 fields, saw 13\\nSkipping line 12448: expected 12 fields, saw 13\\nSkipping line 12449: expected 12 fields, saw 13\\nSkipping line 12450: expected 12 fields, saw 13\\nSkipping line 12451: expected 12 fields, saw 13\\nSkipping line 12452: expected 12 fields, saw 13\\nSkipping line 12453: expected 12 fields, saw 13\\nSkipping line 12454: expected 12 fields, saw 13\\nSkipping line 12455: expected 12 fields, saw 13\\nSkipping line 12456: expected 12 fields, saw 13\\nSkipping line 12457: expected 12 fields, saw 13\\nSkipping line 12458: expected 12 fields, saw 13\\nSkipping line 12459: expected 12 fields, saw 13\\nSkipping line 12460: expected 12 fields, saw 13\\nSkipping line 12461: expected 12 fields, saw 13\\nSkipping line 12462: expected 12 fields, saw 13\\nSkipping line 12463: expected 12 fields, saw 13\\nSkipping line 12464: expected 12 fields, saw 13\\nSkipping line 12465: expected 12 fields, saw 13\\nSkipping line 12466: expected 12 fields, saw 13\\nSkipping line 12467: expected 12 fields, saw 13\\nSkipping line 12468: expected 12 fields, saw 13\\nSkipping line 12469: expected 12 fields, saw 13\\nSkipping line 12470: expected 12 fields, saw 13\\nSkipping line 12471: expected 12 fields, saw 13\\nSkipping line 12472: expected 12 fields, saw 13\\nSkipping line 12473: expected 12 fields, saw 13\\nSkipping line 12474: expected 12 fields, saw 13\\nSkipping line 12475: expected 12 fields, saw 13\\nSkipping line 12476: expected 12 fields, saw 13\\nSkipping line 12477: expected 12 fields, saw 13\\nSkipping line 12478: expected 12 fields, saw 13\\nSkipping line 12479: expected 12 fields, saw 13\\nSkipping line 12480: expected 12 fields, saw 13\\nSkipping line 12481: expected 12 fields, saw 13\\nSkipping line 12482: expected 12 fields, saw 13\\nSkipping line 12483: expected 12 fields, saw 13\\nSkipping line 12484: expected 12 fields, saw 13\\nSkipping line 12485: expected 12 fields, saw 13\\nSkipping line 12486: expected 12 fields, saw 13\\nSkipping line 12487: expected 12 fields, saw 15\\nSkipping line 12488: expected 12 fields, saw 13\\nSkipping line 12489: expected 12 fields, saw 13\\nSkipping line 12490: expected 12 fields, saw 13\\nSkipping line 12491: expected 12 fields, saw 13\\nSkipping line 12492: expected 12 fields, saw 14\\nSkipping line 12493: expected 12 fields, saw 13\\nSkipping line 12494: expected 12 fields, saw 13\\nSkipping line 12495: expected 12 fields, saw 13\\nSkipping line 12496: expected 12 fields, saw 13\\nSkipping line 12497: expected 12 fields, saw 13\\nSkipping line 12498: expected 12 fields, saw 13\\nSkipping line 12499: expected 12 fields, saw 13\\nSkipping line 12500: expected 12 fields, saw 13\\nSkipping line 12501: expected 12 fields, saw 13\\nSkipping line 12502: expected 12 fields, saw 13\\nSkipping line 12503: expected 12 fields, saw 13\\nSkipping line 12504: expected 12 fields, saw 14\\nSkipping line 12505: expected 12 fields, saw 13\\nSkipping line 12506: expected 12 fields, saw 13\\nSkipping line 12507: expected 12 fields, saw 13\\nSkipping line 12508: expected 12 fields, saw 13\\nSkipping line 12509: expected 12 fields, saw 13\\nSkipping line 12510: expected 12 fields, saw 13\\nSkipping line 12511: expected 12 fields, saw 13\\nSkipping line 12512: expected 12 fields, saw 13\\nSkipping line 12513: expected 12 fields, saw 13\\nSkipping line 12514: expected 12 fields, saw 13\\nSkipping line 12515: expected 12 fields, saw 13\\nSkipping line 12516: expected 12 fields, saw 13\\nSkipping line 12517: expected 12 fields, saw 13\\nSkipping line 12518: expected 12 fields, saw 13\\nSkipping line 12519: expected 12 fields, saw 13\\nSkipping line 12520: expected 12 fields, saw 13\\nSkipping line 12521: expected 12 fields, saw 13\\nSkipping line 12522: expected 12 fields, saw 13\\nSkipping line 12523: expected 12 fields, saw 13\\nSkipping line 12524: expected 12 fields, saw 13\\nSkipping line 12525: expected 12 fields, saw 13\\nSkipping line 12526: expected 12 fields, saw 13\\nSkipping line 12527: expected 12 fields, saw 13\\nSkipping line 12528: expected 12 fields, saw 13\\nSkipping line 12529: expected 12 fields, saw 13\\nSkipping line 12530: expected 12 fields, saw 13\\nSkipping line 12531: expected 12 fields, saw 13\\nSkipping line 12532: expected 12 fields, saw 13\\nSkipping line 12533: expected 12 fields, saw 13\\nSkipping line 12534: expected 12 fields, saw 13\\nSkipping line 12535: expected 12 fields, saw 13\\nSkipping line 12536: expected 12 fields, saw 13\\nSkipping line 12537: expected 12 fields, saw 13\\nSkipping line 12538: expected 12 fields, saw 13\\nSkipping line 12539: expected 12 fields, saw 13\\nSkipping line 12540: expected 12 fields, saw 13\\nSkipping line 12541: expected 12 fields, saw 13\\nSkipping line 12542: expected 12 fields, saw 13\\nSkipping line 12543: expected 12 fields, saw 13\\nSkipping line 12544: expected 12 fields, saw 13\\nSkipping line 12545: expected 12 fields, saw 13\\nSkipping line 12546: expected 12 fields, saw 13\\nSkipping line 12547: expected 12 fields, saw 13\\nSkipping line 12548: expected 12 fields, saw 13\\nSkipping line 12549: expected 12 fields, saw 13\\nSkipping line 12550: expected 12 fields, saw 13\\nSkipping line 12551: expected 12 fields, saw 13\\nSkipping line 12552: expected 12 fields, saw 13\\nSkipping line 12553: expected 12 fields, saw 13\\nSkipping line 12554: expected 12 fields, saw 13\\nSkipping line 12555: expected 12 fields, saw 13\\nSkipping line 12556: expected 12 fields, saw 13\\nSkipping line 12557: expected 12 fields, saw 13\\nSkipping line 12558: expected 12 fields, saw 13\\nSkipping line 12559: expected 12 fields, saw 13\\nSkipping line 12560: expected 12 fields, saw 13\\nSkipping line 12561: expected 12 fields, saw 13\\nSkipping line 12562: expected 12 fields, saw 13\\nSkipping line 12563: expected 12 fields, saw 14\\nSkipping line 12564: expected 12 fields, saw 13\\nSkipping line 12565: expected 12 fields, saw 13\\nSkipping line 12566: expected 12 fields, saw 13\\nSkipping line 12567: expected 12 fields, saw 13\\nSkipping line 12568: expected 12 fields, saw 13\\nSkipping line 12569: expected 12 fields, saw 13\\nSkipping line 12570: expected 12 fields, saw 13\\nSkipping line 12571: expected 12 fields, saw 13\\nSkipping line 12572: expected 12 fields, saw 13\\nSkipping line 12573: expected 12 fields, saw 13\\nSkipping line 12574: expected 12 fields, saw 13\\nSkipping line 12575: expected 12 fields, saw 13\\nSkipping line 12576: expected 12 fields, saw 13\\nSkipping line 12577: expected 12 fields, saw 13\\nSkipping line 12578: expected 12 fields, saw 13\\nSkipping line 12579: expected 12 fields, saw 13\\nSkipping line 12580: expected 12 fields, saw 14\\nSkipping line 12581: expected 12 fields, saw 13\\nSkipping line 12582: expected 12 fields, saw 13\\nSkipping line 12583: expected 12 fields, saw 13\\nSkipping line 12584: expected 12 fields, saw 13\\nSkipping line 12585: expected 12 fields, saw 13\\nSkipping line 12586: expected 12 fields, saw 13\\nSkipping line 12587: expected 12 fields, saw 13\\nSkipping line 12588: expected 12 fields, saw 13\\nSkipping line 12589: expected 12 fields, saw 13\\nSkipping line 12590: expected 12 fields, saw 13\\nSkipping line 12591: expected 12 fields, saw 13\\nSkipping line 12592: expected 12 fields, saw 13\\nSkipping line 12593: expected 12 fields, saw 13\\nSkipping line 12594: expected 12 fields, saw 13\\nSkipping line 12595: expected 12 fields, saw 13\\nSkipping line 12596: expected 12 fields, saw 13\\nSkipping line 12597: expected 12 fields, saw 13\\nSkipping line 12598: expected 12 fields, saw 13\\nSkipping line 12599: expected 12 fields, saw 13\\nSkipping line 12600: expected 12 fields, saw 13\\nSkipping line 12601: expected 12 fields, saw 13\\nSkipping line 12602: expected 12 fields, saw 13\\nSkipping line 12603: expected 12 fields, saw 13\\nSkipping line 12604: expected 12 fields, saw 13\\nSkipping line 12605: expected 12 fields, saw 13\\nSkipping line 12606: expected 12 fields, saw 13\\nSkipping line 12607: expected 12 fields, saw 13\\nSkipping line 12608: expected 12 fields, saw 13\\nSkipping line 12609: expected 12 fields, saw 13\\nSkipping line 12610: expected 12 fields, saw 14\\nSkipping line 12611: expected 12 fields, saw 13\\nSkipping line 12612: expected 12 fields, saw 13\\nSkipping line 12613: expected 12 fields, saw 13\\nSkipping line 12614: expected 12 fields, saw 13\\nSkipping line 12615: expected 12 fields, saw 13\\nSkipping line 12616: expected 12 fields, saw 13\\nSkipping line 12617: expected 12 fields, saw 13\\nSkipping line 12618: expected 12 fields, saw 13\\nSkipping line 12619: expected 12 fields, saw 13\\nSkipping line 12620: expected 12 fields, saw 13\\nSkipping line 12621: expected 12 fields, saw 13\\nSkipping line 12622: expected 12 fields, saw 13\\nSkipping line 12623: expected 12 fields, saw 13\\nSkipping line 12624: expected 12 fields, saw 13\\nSkipping line 12625: expected 12 fields, saw 13\\nSkipping line 12626: expected 12 fields, saw 13\\nSkipping line 12627: expected 12 fields, saw 13\\nSkipping line 12628: expected 12 fields, saw 13\\nSkipping line 12629: expected 12 fields, saw 13\\nSkipping line 12630: expected 12 fields, saw 13\\nSkipping line 12631: expected 12 fields, saw 13\\nSkipping line 12632: expected 12 fields, saw 13\\nSkipping line 12633: expected 12 fields, saw 13\\nSkipping line 12634: expected 12 fields, saw 13\\nSkipping line 12635: expected 12 fields, saw 13\\nSkipping line 12636: expected 12 fields, saw 13\\nSkipping line 12637: expected 12 fields, saw 13\\nSkipping line 12638: expected 12 fields, saw 13\\nSkipping line 12639: expected 12 fields, saw 13\\nSkipping line 12640: expected 12 fields, saw 13\\nSkipping line 12641: expected 12 fields, saw 13\\nSkipping line 12642: expected 12 fields, saw 13\\nSkipping line 12643: expected 12 fields, saw 13\\nSkipping line 12644: expected 12 fields, saw 13\\nSkipping line 12645: expected 12 fields, saw 13\\nSkipping line 12646: expected 12 fields, saw 13\\nSkipping line 12647: expected 12 fields, saw 13\\nSkipping line 12648: expected 12 fields, saw 13\\nSkipping line 12649: expected 12 fields, saw 13\\nSkipping line 12650: expected 12 fields, saw 13\\nSkipping line 12651: expected 12 fields, saw 13\\nSkipping line 12652: expected 12 fields, saw 13\\nSkipping line 12653: expected 12 fields, saw 13\\nSkipping line 12654: expected 12 fields, saw 13\\nSkipping line 12655: expected 12 fields, saw 13\\nSkipping line 12656: expected 12 fields, saw 13\\nSkipping line 12657: expected 12 fields, saw 13\\nSkipping line 12658: expected 12 fields, saw 13\\nSkipping line 12659: expected 12 fields, saw 13\\nSkipping line 12660: expected 12 fields, saw 14\\nSkipping line 12661: expected 12 fields, saw 13\\nSkipping line 12662: expected 12 fields, saw 13\\nSkipping line 12663: expected 12 fields, saw 13\\nSkipping line 12664: expected 12 fields, saw 13\\nSkipping line 12665: expected 12 fields, saw 13\\nSkipping line 12666: expected 12 fields, saw 13\\nSkipping line 12667: expected 12 fields, saw 13\\nSkipping line 12668: expected 12 fields, saw 13\\nSkipping line 12669: expected 12 fields, saw 13\\nSkipping line 12670: expected 12 fields, saw 13\\nSkipping line 12671: expected 12 fields, saw 13\\nSkipping line 12672: expected 12 fields, saw 13\\nSkipping line 12673: expected 12 fields, saw 13\\nSkipping line 12674: expected 12 fields, saw 13\\nSkipping line 12675: expected 12 fields, saw 13\\nSkipping line 12676: expected 12 fields, saw 13\\nSkipping line 12677: expected 12 fields, saw 13\\nSkipping line 12678: expected 12 fields, saw 13\\nSkipping line 12679: expected 12 fields, saw 13\\nSkipping line 12680: expected 12 fields, saw 13\\nSkipping line 12681: expected 12 fields, saw 13\\nSkipping line 12682: expected 12 fields, saw 13\\nSkipping line 12683: expected 12 fields, saw 13\\nSkipping line 12684: expected 12 fields, saw 13\\nSkipping line 12685: expected 12 fields, saw 13\\nSkipping line 12686: expected 12 fields, saw 13\\nSkipping line 12687: expected 12 fields, saw 13\\nSkipping line 12688: expected 12 fields, saw 13\\nSkipping line 12689: expected 12 fields, saw 13\\nSkipping line 12690: expected 12 fields, saw 13\\nSkipping line 12691: expected 12 fields, saw 13\\nSkipping line 12692: expected 12 fields, saw 13\\nSkipping line 12693: expected 12 fields, saw 13\\nSkipping line 12694: expected 12 fields, saw 13\\nSkipping line 12695: expected 12 fields, saw 13\\nSkipping line 12696: expected 12 fields, saw 13\\nSkipping line 12697: expected 12 fields, saw 13\\nSkipping line 12698: expected 12 fields, saw 13\\nSkipping line 12699: expected 12 fields, saw 13\\nSkipping line 12700: expected 12 fields, saw 13\\nSkipping line 12701: expected 12 fields, saw 13\\nSkipping line 12702: expected 12 fields, saw 13\\nSkipping line 12703: expected 12 fields, saw 13\\nSkipping line 12704: expected 12 fields, saw 13\\nSkipping line 12705: expected 12 fields, saw 13\\nSkipping line 12706: expected 12 fields, saw 13\\nSkipping line 12707: expected 12 fields, saw 13\\nSkipping line 12708: expected 12 fields, saw 13\\nSkipping line 12709: expected 12 fields, saw 13\\nSkipping line 12710: expected 12 fields, saw 13\\nSkipping line 12711: expected 12 fields, saw 13\\nSkipping line 12712: expected 12 fields, saw 13\\nSkipping line 12713: expected 12 fields, saw 13\\nSkipping line 12714: expected 12 fields, saw 13\\nSkipping line 12715: expected 12 fields, saw 13\\nSkipping line 12716: expected 12 fields, saw 13\\nSkipping line 12717: expected 12 fields, saw 13\\nSkipping line 12718: expected 12 fields, saw 13\\nSkipping line 12719: expected 12 fields, saw 13\\nSkipping line 12720: expected 12 fields, saw 13\\nSkipping line 12721: expected 12 fields, saw 13\\nSkipping line 12722: expected 12 fields, saw 13\\nSkipping line 12723: expected 12 fields, saw 13\\nSkipping line 12724: expected 12 fields, saw 13\\nSkipping line 12725: expected 12 fields, saw 13\\nSkipping line 12726: expected 12 fields, saw 13\\nSkipping line 12727: expected 12 fields, saw 13\\nSkipping line 12728: expected 12 fields, saw 13\\nSkipping line 12729: expected 12 fields, saw 13\\nSkipping line 12730: expected 12 fields, saw 13\\nSkipping line 12731: expected 12 fields, saw 13\\nSkipping line 12732: expected 12 fields, saw 13\\nSkipping line 12733: expected 12 fields, saw 13\\nSkipping line 12734: expected 12 fields, saw 13\\nSkipping line 12735: expected 12 fields, saw 13\\nSkipping line 12736: expected 12 fields, saw 13\\nSkipping line 12737: expected 12 fields, saw 13\\nSkipping line 12738: expected 12 fields, saw 13\\nSkipping line 12739: expected 12 fields, saw 13\\nSkipping line 12740: expected 12 fields, saw 13\\nSkipping line 12741: expected 12 fields, saw 13\\nSkipping line 12742: expected 12 fields, saw 13\\nSkipping line 12743: expected 12 fields, saw 13\\nSkipping line 12744: expected 12 fields, saw 13\\nSkipping line 12745: expected 12 fields, saw 13\\nSkipping line 12746: expected 12 fields, saw 13\\nSkipping line 12747: expected 12 fields, saw 13\\nSkipping line 12748: expected 12 fields, saw 13\\nSkipping line 12749: expected 12 fields, saw 13\\nSkipping line 12750: expected 12 fields, saw 13\\nSkipping line 12751: expected 12 fields, saw 13\\nSkipping line 12752: expected 12 fields, saw 13\\nSkipping line 12753: expected 12 fields, saw 13\\nSkipping line 12754: expected 12 fields, saw 13\\nSkipping line 12755: expected 12 fields, saw 13\\nSkipping line 12756: expected 12 fields, saw 13\\nSkipping line 12757: expected 12 fields, saw 13\\nSkipping line 12758: expected 12 fields, saw 13\\nSkipping line 12759: expected 12 fields, saw 13\\nSkipping line 12760: expected 12 fields, saw 13\\nSkipping line 12761: expected 12 fields, saw 13\\nSkipping line 12762: expected 12 fields, saw 13\\nSkipping line 12763: expected 12 fields, saw 13\\nSkipping line 12764: expected 12 fields, saw 13\\nSkipping line 12765: expected 12 fields, saw 14\\nSkipping line 12766: expected 12 fields, saw 13\\nSkipping line 12767: expected 12 fields, saw 13\\nSkipping line 12768: expected 12 fields, saw 13\\nSkipping line 12769: expected 12 fields, saw 13\\nSkipping line 12770: expected 12 fields, saw 13\\nSkipping line 12771: expected 12 fields, saw 13\\nSkipping line 12772: expected 12 fields, saw 13\\nSkipping line 12773: expected 12 fields, saw 13\\nSkipping line 12774: expected 12 fields, saw 13\\nSkipping line 12775: expected 12 fields, saw 13\\nSkipping line 12776: expected 12 fields, saw 13\\nSkipping line 12777: expected 12 fields, saw 13\\nSkipping line 12778: expected 12 fields, saw 13\\nSkipping line 12779: expected 12 fields, saw 13\\nSkipping line 12780: expected 12 fields, saw 13\\nSkipping line 12781: expected 12 fields, saw 13\\nSkipping line 12782: expected 12 fields, saw 13\\nSkipping line 12783: expected 12 fields, saw 13\\nSkipping line 12784: expected 12 fields, saw 13\\nSkipping line 12785: expected 12 fields, saw 13\\nSkipping line 12786: expected 12 fields, saw 13\\nSkipping line 12787: expected 12 fields, saw 14\\nSkipping line 12788: expected 12 fields, saw 13\\nSkipping line 12789: expected 12 fields, saw 13\\nSkipping line 12790: expected 12 fields, saw 13\\nSkipping line 12791: expected 12 fields, saw 13\\nSkipping line 12792: expected 12 fields, saw 13\\nSkipping line 12793: expected 12 fields, saw 13\\nSkipping line 12794: expected 12 fields, saw 13\\nSkipping line 12795: expected 12 fields, saw 13\\nSkipping line 12796: expected 12 fields, saw 13\\nSkipping line 12797: expected 12 fields, saw 13\\nSkipping line 12798: expected 12 fields, saw 13\\nSkipping line 12799: expected 12 fields, saw 13\\nSkipping line 12800: expected 12 fields, saw 13\\nSkipping line 12801: expected 12 fields, saw 13\\nSkipping line 12802: expected 12 fields, saw 13\\nSkipping line 12803: expected 12 fields, saw 13\\nSkipping line 12804: expected 12 fields, saw 13\\nSkipping line 12805: expected 12 fields, saw 13\\nSkipping line 12806: expected 12 fields, saw 13\\nSkipping line 12807: expected 12 fields, saw 13\\nSkipping line 12808: expected 12 fields, saw 13\\nSkipping line 12809: expected 12 fields, saw 13\\nSkipping line 12810: expected 12 fields, saw 13\\nSkipping line 12811: expected 12 fields, saw 13\\nSkipping line 12812: expected 12 fields, saw 13\\nSkipping line 12813: expected 12 fields, saw 13\\nSkipping line 12814: expected 12 fields, saw 13\\nSkipping line 12815: expected 12 fields, saw 13\\nSkipping line 12816: expected 12 fields, saw 13\\nSkipping line 12817: expected 12 fields, saw 13\\nSkipping line 12818: expected 12 fields, saw 13\\nSkipping line 12819: expected 12 fields, saw 13\\nSkipping line 12820: expected 12 fields, saw 13\\nSkipping line 12821: expected 12 fields, saw 13\\nSkipping line 12822: expected 12 fields, saw 13\\nSkipping line 12823: expected 12 fields, saw 13\\nSkipping line 12824: expected 12 fields, saw 13\\nSkipping line 12825: expected 12 fields, saw 13\\nSkipping line 12826: expected 12 fields, saw 13\\nSkipping line 12827: expected 12 fields, saw 13\\nSkipping line 12828: expected 12 fields, saw 13\\nSkipping line 12829: expected 12 fields, saw 13\\nSkipping line 12830: expected 12 fields, saw 13\\nSkipping line 12831: expected 12 fields, saw 13\\nSkipping line 12832: expected 12 fields, saw 14\\nSkipping line 12833: expected 12 fields, saw 13\\nSkipping line 12834: expected 12 fields, saw 13\\nSkipping line 12835: expected 12 fields, saw 13\\nSkipping line 12836: expected 12 fields, saw 13\\nSkipping line 12837: expected 12 fields, saw 14\\nSkipping line 12838: expected 12 fields, saw 13\\nSkipping line 12839: expected 12 fields, saw 13\\nSkipping line 12840: expected 12 fields, saw 13\\nSkipping line 12841: expected 12 fields, saw 13\\nSkipping line 12842: expected 12 fields, saw 13\\nSkipping line 12843: expected 12 fields, saw 13\\nSkipping line 12844: expected 12 fields, saw 13\\nSkipping line 12845: expected 12 fields, saw 13\\nSkipping line 12846: expected 12 fields, saw 13\\nSkipping line 12847: expected 12 fields, saw 13\\nSkipping line 12848: expected 12 fields, saw 13\\nSkipping line 12849: expected 12 fields, saw 14\\nSkipping line 12850: expected 12 fields, saw 13\\nSkipping line 12851: expected 12 fields, saw 14\\nSkipping line 12852: expected 12 fields, saw 13\\nSkipping line 12853: expected 12 fields, saw 13\\nSkipping line 12854: expected 12 fields, saw 13\\nSkipping line 12855: expected 12 fields, saw 13\\nSkipping line 12856: expected 12 fields, saw 13\\nSkipping line 12857: expected 12 fields, saw 13\\nSkipping line 12858: expected 12 fields, saw 13\\nSkipping line 12859: expected 12 fields, saw 13\\nSkipping line 12860: expected 12 fields, saw 13\\nSkipping line 12861: expected 12 fields, saw 13\\nSkipping line 12862: expected 12 fields, saw 13\\nSkipping line 12863: expected 12 fields, saw 13\\nSkipping line 12864: expected 12 fields, saw 13\\nSkipping line 12865: expected 12 fields, saw 13\\nSkipping line 12866: expected 12 fields, saw 13\\nSkipping line 12867: expected 12 fields, saw 13\\nSkipping line 12868: expected 12 fields, saw 13\\nSkipping line 12869: expected 12 fields, saw 13\\nSkipping line 12870: expected 12 fields, saw 13\\nSkipping line 12871: expected 12 fields, saw 13\\nSkipping line 12872: expected 12 fields, saw 13\\nSkipping line 12873: expected 12 fields, saw 13\\nSkipping line 12874: expected 12 fields, saw 13\\nSkipping line 12875: expected 12 fields, saw 13\\nSkipping line 12876: expected 12 fields, saw 13\\nSkipping line 12877: expected 12 fields, saw 13\\nSkipping line 12878: expected 12 fields, saw 13\\nSkipping line 12879: expected 12 fields, saw 13\\nSkipping line 12880: expected 12 fields, saw 13\\nSkipping line 12881: expected 12 fields, saw 13\\nSkipping line 12882: expected 12 fields, saw 13\\nSkipping line 12883: expected 12 fields, saw 13\\nSkipping line 12884: expected 12 fields, saw 13\\nSkipping line 12885: expected 12 fields, saw 13\\nSkipping line 12886: expected 12 fields, saw 13\\nSkipping line 12887: expected 12 fields, saw 13\\nSkipping line 12888: expected 12 fields, saw 13\\nSkipping line 12889: expected 12 fields, saw 13\\nSkipping line 12890: expected 12 fields, saw 13\\nSkipping line 12891: expected 12 fields, saw 13\\nSkipping line 12892: expected 12 fields, saw 13\\nSkipping line 12893: expected 12 fields, saw 13\\nSkipping line 12894: expected 12 fields, saw 13\\nSkipping line 12895: expected 12 fields, saw 13\\nSkipping line 12896: expected 12 fields, saw 13\\nSkipping line 12897: expected 12 fields, saw 13\\nSkipping line 12898: expected 12 fields, saw 14\\nSkipping line 12899: expected 12 fields, saw 13\\nSkipping line 12900: expected 12 fields, saw 13\\nSkipping line 12901: expected 12 fields, saw 13\\nSkipping line 12902: expected 12 fields, saw 13\\nSkipping line 12903: expected 12 fields, saw 13\\nSkipping line 12904: expected 12 fields, saw 13\\nSkipping line 12905: expected 12 fields, saw 13\\nSkipping line 12906: expected 12 fields, saw 13\\nSkipping line 12907: expected 12 fields, saw 13\\nSkipping line 12908: expected 12 fields, saw 14\\nSkipping line 12909: expected 12 fields, saw 13\\nSkipping line 12910: expected 12 fields, saw 13\\nSkipping line 12911: expected 12 fields, saw 13\\nSkipping line 12912: expected 12 fields, saw 13\\nSkipping line 12913: expected 12 fields, saw 13\\nSkipping line 12914: expected 12 fields, saw 13\\nSkipping line 12915: expected 12 fields, saw 13\\nSkipping line 12916: expected 12 fields, saw 13\\nSkipping line 12917: expected 12 fields, saw 13\\nSkipping line 12918: expected 12 fields, saw 13\\nSkipping line 12919: expected 12 fields, saw 13\\nSkipping line 12920: expected 12 fields, saw 13\\nSkipping line 12921: expected 12 fields, saw 13\\nSkipping line 12922: expected 12 fields, saw 13\\nSkipping line 12923: expected 12 fields, saw 14\\nSkipping line 12924: expected 12 fields, saw 13\\nSkipping line 12925: expected 12 fields, saw 13\\nSkipping line 12926: expected 12 fields, saw 13\\nSkipping line 12927: expected 12 fields, saw 13\\nSkipping line 12928: expected 12 fields, saw 13\\nSkipping line 12929: expected 12 fields, saw 13\\nSkipping line 12930: expected 12 fields, saw 13\\nSkipping line 12931: expected 12 fields, saw 13\\nSkipping line 12932: expected 12 fields, saw 13\\nSkipping line 12933: expected 12 fields, saw 13\\nSkipping line 12934: expected 12 fields, saw 13\\nSkipping line 12935: expected 12 fields, saw 13\\nSkipping line 12936: expected 12 fields, saw 13\\nSkipping line 12937: expected 12 fields, saw 13\\nSkipping line 12938: expected 12 fields, saw 13\\nSkipping line 12939: expected 12 fields, saw 13\\nSkipping line 12940: expected 12 fields, saw 13\\nSkipping line 12941: expected 12 fields, saw 13\\nSkipping line 12942: expected 12 fields, saw 13\\nSkipping line 12943: expected 12 fields, saw 13\\nSkipping line 12944: expected 12 fields, saw 13\\nSkipping line 12945: expected 12 fields, saw 13\\nSkipping line 12946: expected 12 fields, saw 13\\nSkipping line 12947: expected 12 fields, saw 13\\nSkipping line 12948: expected 12 fields, saw 21\\nSkipping line 12949: expected 12 fields, saw 13\\nSkipping line 12950: expected 12 fields, saw 13\\nSkipping line 12951: expected 12 fields, saw 13\\nSkipping line 12952: expected 12 fields, saw 13\\nSkipping line 12953: expected 12 fields, saw 13\\nSkipping line 12954: expected 12 fields, saw 13\\nSkipping line 12955: expected 12 fields, saw 13\\nSkipping line 12956: expected 12 fields, saw 13\\nSkipping line 12957: expected 12 fields, saw 13\\nSkipping line 12958: expected 12 fields, saw 13\\nSkipping line 12959: expected 12 fields, saw 15\\nSkipping line 12960: expected 12 fields, saw 13\\nSkipping line 12961: expected 12 fields, saw 13\\nSkipping line 12962: expected 12 fields, saw 13\\nSkipping line 12963: expected 12 fields, saw 13\\nSkipping line 12964: expected 12 fields, saw 13\\nSkipping line 12965: expected 12 fields, saw 13\\nSkipping line 12966: expected 12 fields, saw 13\\nSkipping line 12967: expected 12 fields, saw 13\\nSkipping line 12968: expected 12 fields, saw 13\\nSkipping line 12969: expected 12 fields, saw 13\\nSkipping line 12970: expected 12 fields, saw 13\\nSkipping line 12971: expected 12 fields, saw 13\\nSkipping line 12972: expected 12 fields, saw 13\\nSkipping line 12973: expected 12 fields, saw 13\\nSkipping line 12974: expected 12 fields, saw 13\\nSkipping line 12975: expected 12 fields, saw 13\\nSkipping line 12976: expected 12 fields, saw 13\\nSkipping line 12977: expected 12 fields, saw 13\\nSkipping line 12978: expected 12 fields, saw 13\\nSkipping line 12979: expected 12 fields, saw 13\\nSkipping line 12980: expected 12 fields, saw 13\\nSkipping line 12981: expected 12 fields, saw 13\\nSkipping line 12982: expected 12 fields, saw 13\\nSkipping line 12983: expected 12 fields, saw 13\\nSkipping line 12984: expected 12 fields, saw 13\\nSkipping line 12985: expected 12 fields, saw 13\\nSkipping line 12986: expected 12 fields, saw 13\\nSkipping line 12987: expected 12 fields, saw 13\\nSkipping line 12988: expected 12 fields, saw 13\\nSkipping line 12989: expected 12 fields, saw 13\\nSkipping line 12990: expected 12 fields, saw 13\\nSkipping line 12991: expected 12 fields, saw 16\\nSkipping line 12992: expected 12 fields, saw 13\\nSkipping line 12993: expected 12 fields, saw 13\\nSkipping line 12994: expected 12 fields, saw 13\\nSkipping line 12995: expected 12 fields, saw 13\\nSkipping line 12996: expected 12 fields, saw 15\\nSkipping line 12997: expected 12 fields, saw 13\\nSkipping line 12998: expected 12 fields, saw 16\\nSkipping line 12999: expected 12 fields, saw 13\\nSkipping line 13000: expected 12 fields, saw 13\\n'\n"
     ]
    }
   ],
   "source": [
    "# Load dataset and sample it down to 8% of the original size\n",
    "# Reset index after sampling to make indices easier to reason about\n",
    "df = pd.read_csv('/Users/jasongersing/PycharmProjects/pythonProject/pythonProject4/JazzySpot/tracks_features.csv', error_bad_lines=False)\n",
    "df = df.sample(frac=.08, random_state=42).reset_index()\n",
    "\n"
   ]
  },
  {
   "cell_type": "markdown",
   "metadata": {
    "id": "hVnnISFOgo3v",
    "pycharm": {
     "name": "#%% md\n"
    }
   },
   "source": [
    "### Usable Columns?\n",
    "\n",
    "Columns that I can use with minimal data cleaning to make a simple recommender system. I could definitely make this better if I went to the work to make more columns or to do some feature engineering, but I want to get to a working prototype as fast as possible.\n",
    "\n",
    "- explicit\n",
    "- danceability\n",
    "- energy\n",
    "- key\n",
    "- loudness\n",
    "- mode\n",
    "- speechiness\n",
    "- acousticness\n",
    "- time_signature\n",
    "- year \n",
    "\n",
    "Todo:\n",
    "\n",
    "- Check for Null Values (None)\n",
    "- Categorically encode `explicit` column"
   ]
  },
  {
   "cell_type": "code",
   "execution_count": 10,
   "metadata": {
    "colab": {
     "base_uri": "https://localhost:8080/"
    },
    "id": "ywEvxnD6gN3H",
    "outputId": "f550f7de-563a-482c-98a0-9b9239d4e0b6",
    "pycharm": {
     "name": "#%%\n"
    }
   },
   "outputs": [
    {
     "data": {
      "text/plain": "(800, 13)"
     },
     "execution_count": 10,
     "metadata": {},
     "output_type": "execute_result"
    }
   ],
   "source": [
    "df.shape"
   ]
  },
  {
   "cell_type": "code",
   "execution_count": 11,
   "metadata": {
    "colab": {
     "base_uri": "https://localhost:8080/"
    },
    "id": "GEswycLHgRdi",
    "outputId": "ad5d63a3-3ebd-407a-ebed-3f89a78233f9",
    "pycharm": {
     "name": "#%%\n"
    }
   },
   "outputs": [
    {
     "data": {
      "text/plain": "Index(['index', '{\"_id\":{\"$oid\":\"62dc989c18756c54b18307e3\"}',\n       'track_uri:\"spotify:track:79ch1KhwRkS6aRHqcY3uST\"',\n       'danceability:0.0722', 'energy:0.318', 'key:7', 'loudness:-17.988',\n       'speechiness:0.0577', 'acousticness:0.793', 'instrumentalness:0.753',\n       'tempo:75.008', 'valence:0.136', 'duration:202560}'],\n      dtype='object')"
     },
     "execution_count": 11,
     "metadata": {},
     "output_type": "execute_result"
    }
   ],
   "source": [
    "df.columns"
   ]
  },
  {
   "cell_type": "code",
   "execution_count": 12,
   "metadata": {
    "colab": {
     "base_uri": "https://localhost:8080/",
     "height": 525
    },
    "id": "r4F6qfJ_gz1a",
    "outputId": "9177d165-9465-43db-a1d9-8495c7ace33e",
    "pycharm": {
     "name": "#%%\n"
    }
   },
   "outputs": [
    {
     "data": {
      "text/plain": "   index  {\"_id\":{\"$oid\":\"62dc989c18756c54b18307e3\"}  \\\n0   5344  {\"_id\":{\"$oid\":\"62dd5d10423d988a20cce9ff\"}   \n1   7444  {\"_id\":{\"$oid\":\"62dd661e014c329ee2b38a3c\"}   \n2   1731  {\"_id\":{\"$oid\":\"62dcd68c606cb6b415bcdbe0\"}   \n3   8719  {\"_id\":{\"$oid\":\"62dd70a3e64e50e103e6c4d3\"}   \n4   4521  {\"_id\":{\"$oid\":\"62dd58e092800660dfb57275\"}   \n\n   track_uri:\"spotify:track:79ch1KhwRkS6aRHqcY3uST\" danceability:0.0722  \\\n0  track_uri:\"spotify:track:5Ioi3gRqmXoaUT1OkwBSQd\"  danceability:0.644   \n1  track_uri:\"spotify:track:3oGRjCpV07tCM5mrYv6iQA\"  danceability:0.391   \n2  track_uri:\"spotify:track:50r1EUDpmSZRPo5aIZpmWi\"  danceability:0.602   \n3  track_uri:\"spotify:track:1XHjU0TGIgl5lMFKAF25Y3\"  danceability:0.863   \n4  track_uri:\"spotify:track:3eg0lzGXWHtJZHRsB6P90E\"  danceability:0.391   \n\n   energy:0.318  key:7  loudness:-17.988  speechiness:0.0577  \\\n0  energy:0.841  key:3   loudness:-5.026  speechiness:0.0444   \n1  energy:0.456  key:9   loudness:-9.679  speechiness:0.0425   \n2  energy:0.863  key:5   loudness:-5.423  speechiness:0.0773   \n3  energy:0.609  key:9   loudness:-5.231  speechiness:0.0564   \n4   energy:0.28  key:7  loudness:-12.452  speechiness:0.0308   \n\n      acousticness:0.793     instrumentalness:0.753   tempo:75.008  \\\n0    acousticness:0.0623  instrumentalness:2.35E-05    tempo:93.08   \n1     acousticness:0.725    instrumentalness:0.0653  tempo:143.646   \n2    acousticness:0.0178         instrumentalness:0  tempo:150.183   \n3  acousticness:0.000349  instrumentalness:3.97E-06   tempo:140.02   \n4      acousticness:0.76   instrumentalness:0.00868  tempo:128.768   \n\n   valence:0.136  duration:202560}  \n0  valence:0.785  duration:206760}  \n1   valence:0.36  duration:340627}  \n2  valence:0.732  duration:206373}  \n3  valence:0.326  duration:252520}  \n4  valence:0.234  duration:280467}  ",
      "text/html": "<div>\n<style scoped>\n    .dataframe tbody tr th:only-of-type {\n        vertical-align: middle;\n    }\n\n    .dataframe tbody tr th {\n        vertical-align: top;\n    }\n\n    .dataframe thead th {\n        text-align: right;\n    }\n</style>\n<table border=\"1\" class=\"dataframe\">\n  <thead>\n    <tr style=\"text-align: right;\">\n      <th></th>\n      <th>index</th>\n      <th>{\"_id\":{\"$oid\":\"62dc989c18756c54b18307e3\"}</th>\n      <th>track_uri:\"spotify:track:79ch1KhwRkS6aRHqcY3uST\"</th>\n      <th>danceability:0.0722</th>\n      <th>energy:0.318</th>\n      <th>key:7</th>\n      <th>loudness:-17.988</th>\n      <th>speechiness:0.0577</th>\n      <th>acousticness:0.793</th>\n      <th>instrumentalness:0.753</th>\n      <th>tempo:75.008</th>\n      <th>valence:0.136</th>\n      <th>duration:202560}</th>\n    </tr>\n  </thead>\n  <tbody>\n    <tr>\n      <th>0</th>\n      <td>5344</td>\n      <td>{\"_id\":{\"$oid\":\"62dd5d10423d988a20cce9ff\"}</td>\n      <td>track_uri:\"spotify:track:5Ioi3gRqmXoaUT1OkwBSQd\"</td>\n      <td>danceability:0.644</td>\n      <td>energy:0.841</td>\n      <td>key:3</td>\n      <td>loudness:-5.026</td>\n      <td>speechiness:0.0444</td>\n      <td>acousticness:0.0623</td>\n      <td>instrumentalness:2.35E-05</td>\n      <td>tempo:93.08</td>\n      <td>valence:0.785</td>\n      <td>duration:206760}</td>\n    </tr>\n    <tr>\n      <th>1</th>\n      <td>7444</td>\n      <td>{\"_id\":{\"$oid\":\"62dd661e014c329ee2b38a3c\"}</td>\n      <td>track_uri:\"spotify:track:3oGRjCpV07tCM5mrYv6iQA\"</td>\n      <td>danceability:0.391</td>\n      <td>energy:0.456</td>\n      <td>key:9</td>\n      <td>loudness:-9.679</td>\n      <td>speechiness:0.0425</td>\n      <td>acousticness:0.725</td>\n      <td>instrumentalness:0.0653</td>\n      <td>tempo:143.646</td>\n      <td>valence:0.36</td>\n      <td>duration:340627}</td>\n    </tr>\n    <tr>\n      <th>2</th>\n      <td>1731</td>\n      <td>{\"_id\":{\"$oid\":\"62dcd68c606cb6b415bcdbe0\"}</td>\n      <td>track_uri:\"spotify:track:50r1EUDpmSZRPo5aIZpmWi\"</td>\n      <td>danceability:0.602</td>\n      <td>energy:0.863</td>\n      <td>key:5</td>\n      <td>loudness:-5.423</td>\n      <td>speechiness:0.0773</td>\n      <td>acousticness:0.0178</td>\n      <td>instrumentalness:0</td>\n      <td>tempo:150.183</td>\n      <td>valence:0.732</td>\n      <td>duration:206373}</td>\n    </tr>\n    <tr>\n      <th>3</th>\n      <td>8719</td>\n      <td>{\"_id\":{\"$oid\":\"62dd70a3e64e50e103e6c4d3\"}</td>\n      <td>track_uri:\"spotify:track:1XHjU0TGIgl5lMFKAF25Y3\"</td>\n      <td>danceability:0.863</td>\n      <td>energy:0.609</td>\n      <td>key:9</td>\n      <td>loudness:-5.231</td>\n      <td>speechiness:0.0564</td>\n      <td>acousticness:0.000349</td>\n      <td>instrumentalness:3.97E-06</td>\n      <td>tempo:140.02</td>\n      <td>valence:0.326</td>\n      <td>duration:252520}</td>\n    </tr>\n    <tr>\n      <th>4</th>\n      <td>4521</td>\n      <td>{\"_id\":{\"$oid\":\"62dd58e092800660dfb57275\"}</td>\n      <td>track_uri:\"spotify:track:3eg0lzGXWHtJZHRsB6P90E\"</td>\n      <td>danceability:0.391</td>\n      <td>energy:0.28</td>\n      <td>key:7</td>\n      <td>loudness:-12.452</td>\n      <td>speechiness:0.0308</td>\n      <td>acousticness:0.76</td>\n      <td>instrumentalness:0.00868</td>\n      <td>tempo:128.768</td>\n      <td>valence:0.234</td>\n      <td>duration:280467}</td>\n    </tr>\n  </tbody>\n</table>\n</div>"
     },
     "execution_count": 12,
     "metadata": {},
     "output_type": "execute_result"
    }
   ],
   "source": [
    "df.head()"
   ]
  },
  {
   "cell_type": "code",
   "execution_count": 11,
   "metadata": {
    "colab": {
     "base_uri": "https://localhost:8080/"
    },
    "id": "o5cVLeoMg0fc",
    "outputId": "e5379d39-32db-4bd4-f22d-2de6a8f708ff",
    "pycharm": {
     "name": "#%%\n"
    }
   },
   "outputs": [
    {
     "data": {
      "text/plain": [
       "id                  0\n",
       "name                0\n",
       "album               0\n",
       "album_id            0\n",
       "artists             0\n",
       "artist_ids          0\n",
       "track_number        0\n",
       "disc_number         0\n",
       "explicit            0\n",
       "danceability        0\n",
       "energy              0\n",
       "key                 0\n",
       "loudness            0\n",
       "mode                0\n",
       "speechiness         0\n",
       "acousticness        0\n",
       "instrumentalness    0\n",
       "liveness            0\n",
       "valence             0\n",
       "tempo               0\n",
       "duration_ms         0\n",
       "time_signature      0\n",
       "year                0\n",
       "release_date        0\n",
       "dtype: int64"
      ]
     },
     "execution_count": 11,
     "metadata": {},
     "output_type": "execute_result"
    }
   ],
   "source": [
    "# no null values\n",
    "df.isnull().sum()"
   ]
  },
  {
   "cell_type": "code",
   "execution_count": 12,
   "metadata": {
    "colab": {
     "base_uri": "https://localhost:8080/",
     "height": 525
    },
    "id": "JKbhE-IehRCZ",
    "outputId": "94dfaa7a-5c41-47f9-a07b-65c845518cf8",
    "pycharm": {
     "name": "#%%\n"
    }
   },
   "outputs": [
    {
     "data": {
      "text/html": [
       "<div>\n",
       "<style scoped>\n",
       "    .dataframe tbody tr th:only-of-type {\n",
       "        vertical-align: middle;\n",
       "    }\n",
       "\n",
       "    .dataframe tbody tr th {\n",
       "        vertical-align: top;\n",
       "    }\n",
       "\n",
       "    .dataframe thead th {\n",
       "        text-align: right;\n",
       "    }\n",
       "</style>\n",
       "<table border=\"1\" class=\"dataframe\">\n",
       "  <thead>\n",
       "    <tr style=\"text-align: right;\">\n",
       "      <th></th>\n",
       "      <th>id</th>\n",
       "      <th>name</th>\n",
       "      <th>album</th>\n",
       "      <th>album_id</th>\n",
       "      <th>artists</th>\n",
       "      <th>artist_ids</th>\n",
       "      <th>track_number</th>\n",
       "      <th>disc_number</th>\n",
       "      <th>explicit</th>\n",
       "      <th>danceability</th>\n",
       "      <th>...</th>\n",
       "      <th>speechiness</th>\n",
       "      <th>acousticness</th>\n",
       "      <th>instrumentalness</th>\n",
       "      <th>liveness</th>\n",
       "      <th>valence</th>\n",
       "      <th>tempo</th>\n",
       "      <th>duration_ms</th>\n",
       "      <th>time_signature</th>\n",
       "      <th>year</th>\n",
       "      <th>release_date</th>\n",
       "    </tr>\n",
       "  </thead>\n",
       "  <tbody>\n",
       "    <tr>\n",
       "      <th>0</th>\n",
       "      <td>1aGS6nf2xgv3Xzdob4eOO3</td>\n",
       "      <td>Smokin' Sticky Sticky</td>\n",
       "      <td>Beat'n Down Yo Block</td>\n",
       "      <td>5ZO72kl3xMRRzlpod55k1Q</td>\n",
       "      <td>['Unk']</td>\n",
       "      <td>['0PGtMx1bsqoCHCy3MB3gXA']</td>\n",
       "      <td>15</td>\n",
       "      <td>1</td>\n",
       "      <td>1</td>\n",
       "      <td>0.623</td>\n",
       "      <td>...</td>\n",
       "      <td>0.4020</td>\n",
       "      <td>0.002100</td>\n",
       "      <td>0.000000</td>\n",
       "      <td>0.0691</td>\n",
       "      <td>0.422</td>\n",
       "      <td>87.988</td>\n",
       "      <td>380427</td>\n",
       "      <td>4.0</td>\n",
       "      <td>2006</td>\n",
       "      <td>2006-10-03</td>\n",
       "    </tr>\n",
       "    <tr>\n",
       "      <th>1</th>\n",
       "      <td>0fJfoqHIIiET2EcgjOfntG</td>\n",
       "      <td>Holding Back the Years</td>\n",
       "      <td>Holding Back The Years</td>\n",
       "      <td>7sV4kCqQYt8agM5TjkdOYU</td>\n",
       "      <td>['Norm Douglas']</td>\n",
       "      <td>['4kxKyoiYhldUlnfeCZtD0D']</td>\n",
       "      <td>1</td>\n",
       "      <td>1</td>\n",
       "      <td>0</td>\n",
       "      <td>0.585</td>\n",
       "      <td>...</td>\n",
       "      <td>0.0333</td>\n",
       "      <td>0.316000</td>\n",
       "      <td>0.775000</td>\n",
       "      <td>0.0993</td>\n",
       "      <td>0.880</td>\n",
       "      <td>170.082</td>\n",
       "      <td>266520</td>\n",
       "      <td>4.0</td>\n",
       "      <td>2008</td>\n",
       "      <td>2008-06-13</td>\n",
       "    </tr>\n",
       "    <tr>\n",
       "      <th>2</th>\n",
       "      <td>0V2R2LC8dR7S0REieXRaGt</td>\n",
       "      <td>All Along The Watchtower - Live - 1991</td>\n",
       "      <td>Back On The Bus, Y'All</td>\n",
       "      <td>3jmmx4jRkul3POEhn1cgwF</td>\n",
       "      <td>['Indigo Girls']</td>\n",
       "      <td>['4wM29TDTr3HI0qFY3KoSFG']</td>\n",
       "      <td>7</td>\n",
       "      <td>1</td>\n",
       "      <td>0</td>\n",
       "      <td>0.331</td>\n",
       "      <td>...</td>\n",
       "      <td>0.0379</td>\n",
       "      <td>0.709000</td>\n",
       "      <td>0.000000</td>\n",
       "      <td>0.9390</td>\n",
       "      <td>0.430</td>\n",
       "      <td>90.648</td>\n",
       "      <td>383773</td>\n",
       "      <td>4.0</td>\n",
       "      <td>1991</td>\n",
       "      <td>1991-06-04</td>\n",
       "    </tr>\n",
       "    <tr>\n",
       "      <th>3</th>\n",
       "      <td>4VUHYLocWOJ2GfvP78AmSs</td>\n",
       "      <td>Windmills</td>\n",
       "      <td>Total Folklore</td>\n",
       "      <td>5PyLkzuxmT6EoVNZCg8Iya</td>\n",
       "      <td>['Dan Friel']</td>\n",
       "      <td>['4HKTPJw50BFASrfhJEHIVP']</td>\n",
       "      <td>2</td>\n",
       "      <td>1</td>\n",
       "      <td>0</td>\n",
       "      <td>0.193</td>\n",
       "      <td>...</td>\n",
       "      <td>0.1090</td>\n",
       "      <td>0.000049</td>\n",
       "      <td>0.838000</td>\n",
       "      <td>0.2850</td>\n",
       "      <td>0.594</td>\n",
       "      <td>113.345</td>\n",
       "      <td>82493</td>\n",
       "      <td>4.0</td>\n",
       "      <td>2013</td>\n",
       "      <td>2013-02-19</td>\n",
       "    </tr>\n",
       "    <tr>\n",
       "      <th>4</th>\n",
       "      <td>4m8a1AtmCnoeRzSYoQ0oX0</td>\n",
       "      <td>Overnite Flite</td>\n",
       "      <td>Normal Human Feelings</td>\n",
       "      <td>623VIdYR6Y0NCN9yPbMAC6</td>\n",
       "      <td>['Little Suns']</td>\n",
       "      <td>['5OLcAqMbHpecNOIQyTduQ7']</td>\n",
       "      <td>2</td>\n",
       "      <td>1</td>\n",
       "      <td>0</td>\n",
       "      <td>0.546</td>\n",
       "      <td>...</td>\n",
       "      <td>0.0323</td>\n",
       "      <td>0.427000</td>\n",
       "      <td>0.000105</td>\n",
       "      <td>0.1970</td>\n",
       "      <td>0.424</td>\n",
       "      <td>127.941</td>\n",
       "      <td>230667</td>\n",
       "      <td>1.0</td>\n",
       "      <td>2013</td>\n",
       "      <td>2013-10-08</td>\n",
       "    </tr>\n",
       "  </tbody>\n",
       "</table>\n",
       "<p>5 rows × 24 columns</p>\n",
       "</div>"
      ],
      "text/plain": [
       "                       id                                    name  \\\n",
       "0  1aGS6nf2xgv3Xzdob4eOO3                   Smokin' Sticky Sticky   \n",
       "1  0fJfoqHIIiET2EcgjOfntG                  Holding Back the Years   \n",
       "2  0V2R2LC8dR7S0REieXRaGt  All Along The Watchtower - Live - 1991   \n",
       "3  4VUHYLocWOJ2GfvP78AmSs                               Windmills   \n",
       "4  4m8a1AtmCnoeRzSYoQ0oX0                          Overnite Flite   \n",
       "\n",
       "                    album                album_id           artists  \\\n",
       "0    Beat'n Down Yo Block  5ZO72kl3xMRRzlpod55k1Q           ['Unk']   \n",
       "1  Holding Back The Years  7sV4kCqQYt8agM5TjkdOYU  ['Norm Douglas']   \n",
       "2  Back On The Bus, Y'All  3jmmx4jRkul3POEhn1cgwF  ['Indigo Girls']   \n",
       "3          Total Folklore  5PyLkzuxmT6EoVNZCg8Iya     ['Dan Friel']   \n",
       "4   Normal Human Feelings  623VIdYR6Y0NCN9yPbMAC6   ['Little Suns']   \n",
       "\n",
       "                   artist_ids  track_number  disc_number  explicit  \\\n",
       "0  ['0PGtMx1bsqoCHCy3MB3gXA']            15            1         1   \n",
       "1  ['4kxKyoiYhldUlnfeCZtD0D']             1            1         0   \n",
       "2  ['4wM29TDTr3HI0qFY3KoSFG']             7            1         0   \n",
       "3  ['4HKTPJw50BFASrfhJEHIVP']             2            1         0   \n",
       "4  ['5OLcAqMbHpecNOIQyTduQ7']             2            1         0   \n",
       "\n",
       "   danceability  ...  speechiness  acousticness  instrumentalness  liveness  \\\n",
       "0         0.623  ...       0.4020      0.002100          0.000000    0.0691   \n",
       "1         0.585  ...       0.0333      0.316000          0.775000    0.0993   \n",
       "2         0.331  ...       0.0379      0.709000          0.000000    0.9390   \n",
       "3         0.193  ...       0.1090      0.000049          0.838000    0.2850   \n",
       "4         0.546  ...       0.0323      0.427000          0.000105    0.1970   \n",
       "\n",
       "   valence    tempo  duration_ms  time_signature  year  release_date  \n",
       "0    0.422   87.988       380427             4.0  2006    2006-10-03  \n",
       "1    0.880  170.082       266520             4.0  2008    2008-06-13  \n",
       "2    0.430   90.648       383773             4.0  1991    1991-06-04  \n",
       "3    0.594  113.345        82493             4.0  2013    2013-02-19  \n",
       "4    0.424  127.941       230667             1.0  2013    2013-10-08  \n",
       "\n",
       "[5 rows x 24 columns]"
      ]
     },
     "execution_count": 12,
     "metadata": {},
     "output_type": "execute_result"
    }
   ],
   "source": [
    "# any column that contains True and False will automatically\n",
    "# change to 1s and 0s when cast to the `int` datatype\n",
    "df['explicit'] = df['explicit'].astype(int)\n",
    "\n",
    "df.head()"
   ]
  },
  {
   "cell_type": "markdown",
   "metadata": {
    "id": "oLYmq596iMvj",
    "pycharm": {
     "name": "#%% md\n"
    }
   },
   "source": [
    "## Create X Matrix of numeric song attributes"
   ]
  },
  {
   "cell_type": "code",
   "execution_count": 13,
   "metadata": {
    "colab": {
     "base_uri": "https://localhost:8080/",
     "height": 206
    },
    "id": "oc5wc7TViMGK",
    "outputId": "209a96ea-ab90-44d0-efc6-1ff7f55637cc",
    "pycharm": {
     "name": "#%%\n"
    }
   },
   "outputs": [
    {
     "data": {
      "text/html": [
       "<div>\n",
       "<style scoped>\n",
       "    .dataframe tbody tr th:only-of-type {\n",
       "        vertical-align: middle;\n",
       "    }\n",
       "\n",
       "    .dataframe tbody tr th {\n",
       "        vertical-align: top;\n",
       "    }\n",
       "\n",
       "    .dataframe thead th {\n",
       "        text-align: right;\n",
       "    }\n",
       "</style>\n",
       "<table border=\"1\" class=\"dataframe\">\n",
       "  <thead>\n",
       "    <tr style=\"text-align: right;\">\n",
       "      <th></th>\n",
       "      <th>explicit</th>\n",
       "      <th>danceability</th>\n",
       "      <th>energy</th>\n",
       "      <th>key</th>\n",
       "      <th>loudness</th>\n",
       "      <th>mode</th>\n",
       "      <th>speechiness</th>\n",
       "      <th>acousticness</th>\n",
       "      <th>time_signature</th>\n",
       "      <th>year</th>\n",
       "    </tr>\n",
       "  </thead>\n",
       "  <tbody>\n",
       "    <tr>\n",
       "      <th>0</th>\n",
       "      <td>1</td>\n",
       "      <td>0.623</td>\n",
       "      <td>0.736</td>\n",
       "      <td>11</td>\n",
       "      <td>-3.657</td>\n",
       "      <td>0</td>\n",
       "      <td>0.4020</td>\n",
       "      <td>0.002100</td>\n",
       "      <td>4.0</td>\n",
       "      <td>2006</td>\n",
       "    </tr>\n",
       "    <tr>\n",
       "      <th>1</th>\n",
       "      <td>0</td>\n",
       "      <td>0.585</td>\n",
       "      <td>0.639</td>\n",
       "      <td>2</td>\n",
       "      <td>-9.641</td>\n",
       "      <td>0</td>\n",
       "      <td>0.0333</td>\n",
       "      <td>0.316000</td>\n",
       "      <td>4.0</td>\n",
       "      <td>2008</td>\n",
       "    </tr>\n",
       "    <tr>\n",
       "      <th>2</th>\n",
       "      <td>0</td>\n",
       "      <td>0.331</td>\n",
       "      <td>0.466</td>\n",
       "      <td>9</td>\n",
       "      <td>-14.287</td>\n",
       "      <td>0</td>\n",
       "      <td>0.0379</td>\n",
       "      <td>0.709000</td>\n",
       "      <td>4.0</td>\n",
       "      <td>1991</td>\n",
       "    </tr>\n",
       "    <tr>\n",
       "      <th>3</th>\n",
       "      <td>0</td>\n",
       "      <td>0.193</td>\n",
       "      <td>0.856</td>\n",
       "      <td>4</td>\n",
       "      <td>-2.970</td>\n",
       "      <td>1</td>\n",
       "      <td>0.1090</td>\n",
       "      <td>0.000049</td>\n",
       "      <td>4.0</td>\n",
       "      <td>2013</td>\n",
       "    </tr>\n",
       "    <tr>\n",
       "      <th>4</th>\n",
       "      <td>0</td>\n",
       "      <td>0.546</td>\n",
       "      <td>0.373</td>\n",
       "      <td>3</td>\n",
       "      <td>-13.929</td>\n",
       "      <td>1</td>\n",
       "      <td>0.0323</td>\n",
       "      <td>0.427000</td>\n",
       "      <td>1.0</td>\n",
       "      <td>2013</td>\n",
       "    </tr>\n",
       "  </tbody>\n",
       "</table>\n",
       "</div>"
      ],
      "text/plain": [
       "   explicit  danceability  energy  key  loudness  mode  speechiness  \\\n",
       "0         1         0.623   0.736   11    -3.657     0       0.4020   \n",
       "1         0         0.585   0.639    2    -9.641     0       0.0333   \n",
       "2         0         0.331   0.466    9   -14.287     0       0.0379   \n",
       "3         0         0.193   0.856    4    -2.970     1       0.1090   \n",
       "4         0         0.546   0.373    3   -13.929     1       0.0323   \n",
       "\n",
       "   acousticness  time_signature  year  \n",
       "0      0.002100             4.0  2006  \n",
       "1      0.316000             4.0  2008  \n",
       "2      0.709000             4.0  1991  \n",
       "3      0.000049             4.0  2013  \n",
       "4      0.427000             1.0  2013  "
      ]
     },
     "execution_count": 13,
     "metadata": {},
     "output_type": "execute_result"
    }
   ],
   "source": [
    "usable_columns =['explicit', 'danceability', 'energy', 'key', 'loudness', \n",
    "        'mode', 'speechiness', 'acousticness', 'time_signature', 'year' ]\n",
    "\n",
    "X = df[usable_columns]\n",
    "\n",
    "X.head()"
   ]
  },
  {
   "cell_type": "markdown",
   "metadata": {
    "id": "vQ8K5g3-h-Ny",
    "pycharm": {
     "name": "#%% md\n"
    }
   },
   "source": [
    "# Use Nearest Neighbors to get 5 most similar songs.\n",
    "\n",
    "> Indented block\n",
    "\n"
   ]
  },
  {
   "cell_type": "code",
   "execution_count": 14,
   "metadata": {
    "colab": {
     "base_uri": "https://localhost:8080/"
    },
    "id": "Qcwyb-uGht6m",
    "outputId": "c5420065-9f56-4c5e-d2d0-92984978a7b4",
    "pycharm": {
     "name": "#%%\n"
    }
   },
   "outputs": [
    {
     "data": {
      "text/plain": [
       "NearestNeighbors(n_jobs=-1)"
      ]
     },
     "execution_count": 14,
     "metadata": {},
     "output_type": "execute_result"
    }
   ],
   "source": [
    "neigh = NearestNeighbors(n_neighbors=5, n_jobs=-1)\n",
    "neigh.fit(X)"
   ]
  },
  {
   "cell_type": "code",
   "execution_count": 15,
   "metadata": {
    "colab": {
     "base_uri": "https://localhost:8080/",
     "height": 309
    },
    "id": "g1y10v4TjfLT",
    "outputId": "1925a7f0-09a9-4c6e-a719-8fd25194cfbf",
    "pycharm": {
     "name": "#%%\n"
    }
   },
   "outputs": [
    {
     "data": {
      "text/html": [
       "<div>\n",
       "<style scoped>\n",
       "    .dataframe tbody tr th:only-of-type {\n",
       "        vertical-align: middle;\n",
       "    }\n",
       "\n",
       "    .dataframe tbody tr th {\n",
       "        vertical-align: top;\n",
       "    }\n",
       "\n",
       "    .dataframe thead th {\n",
       "        text-align: right;\n",
       "    }\n",
       "</style>\n",
       "<table border=\"1\" class=\"dataframe\">\n",
       "  <thead>\n",
       "    <tr style=\"text-align: right;\">\n",
       "      <th></th>\n",
       "      <th>id</th>\n",
       "      <th>name</th>\n",
       "      <th>album</th>\n",
       "      <th>album_id</th>\n",
       "      <th>artists</th>\n",
       "      <th>artist_ids</th>\n",
       "      <th>track_number</th>\n",
       "      <th>disc_number</th>\n",
       "      <th>explicit</th>\n",
       "      <th>danceability</th>\n",
       "      <th>...</th>\n",
       "      <th>speechiness</th>\n",
       "      <th>acousticness</th>\n",
       "      <th>instrumentalness</th>\n",
       "      <th>liveness</th>\n",
       "      <th>valence</th>\n",
       "      <th>tempo</th>\n",
       "      <th>duration_ms</th>\n",
       "      <th>time_signature</th>\n",
       "      <th>year</th>\n",
       "      <th>release_date</th>\n",
       "    </tr>\n",
       "  </thead>\n",
       "  <tbody>\n",
       "    <tr>\n",
       "      <th>1</th>\n",
       "      <td>0fJfoqHIIiET2EcgjOfntG</td>\n",
       "      <td>Holding Back the Years</td>\n",
       "      <td>Holding Back The Years</td>\n",
       "      <td>7sV4kCqQYt8agM5TjkdOYU</td>\n",
       "      <td>['Norm Douglas']</td>\n",
       "      <td>['4kxKyoiYhldUlnfeCZtD0D']</td>\n",
       "      <td>1</td>\n",
       "      <td>1</td>\n",
       "      <td>0</td>\n",
       "      <td>0.585</td>\n",
       "      <td>...</td>\n",
       "      <td>0.0333</td>\n",
       "      <td>0.316</td>\n",
       "      <td>0.775</td>\n",
       "      <td>0.0993</td>\n",
       "      <td>0.880</td>\n",
       "      <td>170.082</td>\n",
       "      <td>266520</td>\n",
       "      <td>4.0</td>\n",
       "      <td>2008</td>\n",
       "      <td>2008-06-13</td>\n",
       "    </tr>\n",
       "    <tr>\n",
       "      <th>82635</th>\n",
       "      <td>5F9WGLNnZRRwVyiCt1nHDr</td>\n",
       "      <td>Holding Back the Years</td>\n",
       "      <td>The Lost and Found</td>\n",
       "      <td>4fZx2cNk1Vod8jZkPSWBpv</td>\n",
       "      <td>['Gretchen Parlato']</td>\n",
       "      <td>['76Gi1qoWLrIerL5FcL0TZb']</td>\n",
       "      <td>1</td>\n",
       "      <td>1</td>\n",
       "      <td>0</td>\n",
       "      <td>0.541</td>\n",
       "      <td>...</td>\n",
       "      <td>0.0427</td>\n",
       "      <td>0.778</td>\n",
       "      <td>0.130</td>\n",
       "      <td>0.1150</td>\n",
       "      <td>0.127</td>\n",
       "      <td>92.624</td>\n",
       "      <td>226587</td>\n",
       "      <td>4.0</td>\n",
       "      <td>2011</td>\n",
       "      <td>2011-04-05</td>\n",
       "    </tr>\n",
       "  </tbody>\n",
       "</table>\n",
       "<p>2 rows × 24 columns</p>\n",
       "</div>"
      ],
      "text/plain": [
       "                           id                    name                   album  \\\n",
       "1      0fJfoqHIIiET2EcgjOfntG  Holding Back the Years  Holding Back The Years   \n",
       "82635  5F9WGLNnZRRwVyiCt1nHDr  Holding Back the Years      The Lost and Found   \n",
       "\n",
       "                     album_id               artists  \\\n",
       "1      7sV4kCqQYt8agM5TjkdOYU      ['Norm Douglas']   \n",
       "82635  4fZx2cNk1Vod8jZkPSWBpv  ['Gretchen Parlato']   \n",
       "\n",
       "                       artist_ids  track_number  disc_number  explicit  \\\n",
       "1      ['4kxKyoiYhldUlnfeCZtD0D']             1            1         0   \n",
       "82635  ['76Gi1qoWLrIerL5FcL0TZb']             1            1         0   \n",
       "\n",
       "       danceability  ...  speechiness  acousticness  instrumentalness  \\\n",
       "1             0.585  ...       0.0333         0.316             0.775   \n",
       "82635         0.541  ...       0.0427         0.778             0.130   \n",
       "\n",
       "       liveness  valence    tempo  duration_ms  time_signature  year  \\\n",
       "1        0.0993    0.880  170.082       266520             4.0  2008   \n",
       "82635    0.1150    0.127   92.624       226587             4.0  2011   \n",
       "\n",
       "       release_date  \n",
       "1        2008-06-13  \n",
       "82635    2011-04-05  \n",
       "\n",
       "[2 rows x 24 columns]"
      ]
     },
     "execution_count": 15,
     "metadata": {},
     "output_type": "execute_result"
    }
   ],
   "source": [
    "# Track name needs to be exact match of spelling, punctuation and capitalization\n",
    "track_name = \"Holding Back the Years\"\n",
    "\n",
    "# Look at the song that we want to find recommendations for\n",
    "df[df['name'] == track_name]"
   ]
  },
  {
   "cell_type": "code",
   "execution_count": 16,
   "metadata": {
    "colab": {
     "base_uri": "https://localhost:8080/"
    },
    "id": "jEXyhLTNyff7",
    "outputId": "b5b9ac44-76d7-4345-958d-3183dd43ec0a",
    "pycharm": {
     "name": "#%%\n"
    }
   },
   "outputs": [
    {
     "data": {
      "text/plain": [
       "explicit             0.0000\n",
       "danceability         0.5850\n",
       "energy               0.6390\n",
       "key                  2.0000\n",
       "loudness            -9.6410\n",
       "mode                 0.0000\n",
       "speechiness          0.0333\n",
       "acousticness         0.3160\n",
       "time_signature       4.0000\n",
       "year              2008.0000\n",
       "Name: 1, dtype: float64"
      ]
     },
     "execution_count": 16,
     "metadata": {},
     "output_type": "execute_result"
    }
   ],
   "source": [
    "# We may have multiple tracks that match this title, we'll just select the first one\n",
    "# We'll grab only its row index and then use that select the corresponding song's\n",
    "# data from our X matrix.\n",
    "track_index = df[df['name'] == track_name].index[0]\n",
    "\n",
    "track_data = X.iloc[track_index]\n",
    "\n",
    "track_data"
   ]
  },
  {
   "cell_type": "code",
   "execution_count": 17,
   "metadata": {
    "colab": {
     "base_uri": "https://localhost:8080/"
    },
    "id": "JFYIauozk-lx",
    "outputId": "d2fe7133-ce74-4372-c16b-13ec733ac83f",
    "pycharm": {
     "name": "#%%\n"
    }
   },
   "outputs": [
    {
     "data": {
      "text/plain": [
       "array([[ 0.000e+00,  5.850e-01,  6.390e-01,  2.000e+00, -9.641e+00,\n",
       "         0.000e+00,  3.330e-02,  3.160e-01,  4.000e+00,  2.008e+03]])"
      ]
     },
     "execution_count": 17,
     "metadata": {},
     "output_type": "execute_result"
    }
   ],
   "source": [
    "# Input to model must be a 2D array\n",
    "# .reshape(1,-1) turns a 1D array into a 2D array\n",
    "# (basically just adds an extra set of square brackets at\n",
    "# the beginning and end of the array.)\n",
    "track_data = track_data.values.reshape(1,-1)\n",
    "\n",
    "track_data"
   ]
  },
  {
   "cell_type": "code",
   "execution_count": 18,
   "metadata": {
    "colab": {
     "base_uri": "https://localhost:8080/"
    },
    "id": "ulHQX0Vck1S_",
    "outputId": "07ceec92-ef59-479d-b458-833395381a87",
    "pycharm": {
     "name": "#%%\n"
    }
   },
   "outputs": [
    {
     "name": "stderr",
     "output_type": "stream",
     "text": [
      "/Library/Frameworks/Python.framework/Versions/3.10/lib/python3.10/site-packages/sklearn/base.py:450: UserWarning: X does not have valid feature names, but NearestNeighbors was fitted with feature names\n",
      "  warnings.warn(\n"
     ]
    },
    {
     "data": {
      "text/plain": [
       "array([[    1, 69557, 34753,  7222, 50380, 37367]])"
      ]
     },
     "execution_count": 18,
     "metadata": {},
     "output_type": "execute_result"
    }
   ],
   "source": [
    "# Since the selected song is also in the training data,\n",
    "# the most similar song is itself \n",
    "# We will ask for 6 songs to get back 5 songs in addition to the one provided\n",
    "distances, song_indexes = neigh.kneighbors(track_data, 6)\n",
    "\n",
    "song_indexes"
   ]
  },
  {
   "cell_type": "code",
   "execution_count": 19,
   "metadata": {
    "colab": {
     "base_uri": "https://localhost:8080/"
    },
    "id": "m9eaSfkWmPI1",
    "outputId": "c7de5ce6-3c64-41a1-b473-316370caabde",
    "pycharm": {
     "name": "#%%\n"
    }
   },
   "outputs": [
    {
     "name": "stdout",
     "output_type": "stream",
     "text": [
      "                            name                  artists\n",
      "1         Holding Back the Years         ['Norm Douglas']\n",
      "69557                 Ma Mélodie           ['Feet Peals']\n",
      "34753     Minha Bênção (Ao Vivo)  ['Padre Marcelo Rossi']\n",
      "7222   Stuck In A Glass Elevator           ['The Myriad']\n",
      "50380        Club Hip Hop Beat 2       ['Jorge Quintero']\n",
      "37367           Like...monk-like    ['The Reese Project']\n"
     ]
    }
   ],
   "source": [
    "# 5 most similar songs\n",
    "for index in song_indexes:\n",
    "  print(df.iloc[index][['name', 'artists']])"
   ]
  },
  {
   "cell_type": "code",
   "execution_count": 21,
   "metadata": {
    "id": "im8-bHmxy43T",
    "pycharm": {
     "name": "#%%\n"
    }
   },
   "outputs": [
    {
     "data": {
      "text/plain": [
       "['shop_rec_model.joblib']"
      ]
     },
     "execution_count": 21,
     "metadata": {},
     "output_type": "execute_result"
    }
   ],
   "source": [
    "# dump the model\n",
    "dump(neigh, filename=\"shop_rec_model.joblib\")"
   ]
  },
  {
   "cell_type": "code",
   "execution_count": null,
   "metadata": {
    "pycharm": {
     "name": "#%%\n"
    }
   },
   "outputs": [],
   "source": []
  }
 ],
 "metadata": {
  "colab": {
   "name": "Spotify_Recommender.ipynb",
   "provenance": []
  },
  "kernelspec": {
   "display_name": "Python 3 (ipykernel)",
   "language": "python",
   "name": "python3"
  },
  "language_info": {
   "codemirror_mode": {
    "name": "ipython",
    "version": 3
   },
   "file_extension": ".py",
   "mimetype": "text/x-python",
   "name": "python",
   "nbconvert_exporter": "python",
   "pygments_lexer": "ipython3",
   "version": "3.10.2"
  }
 },
 "nbformat": 4,
 "nbformat_minor": 1
}